{
 "cells": [
  {
   "cell_type": "markdown",
   "metadata": {},
   "source": [
    "### Sentiment Analysis of Twitter Data\n",
    "\n",
    "Sources: \n",
    "https://towardsdatascience.com/creating-the-twitter-sentiment-analysis-program-in-python-with-naive-bayes-classification-672e5589a7ed"
   ]
  },
  {
   "cell_type": "code",
   "execution_count": 32,
   "metadata": {},
   "outputs": [],
   "source": [
    "import pandas as pd\n",
    "import numpy as np\n",
    "from sklearn.feature_extraction.text import CountVectorizer, TfidfVectorizer"
   ]
  },
  {
   "cell_type": "code",
   "execution_count": 33,
   "metadata": {},
   "outputs": [],
   "source": [
    "# load twitter data\n",
    "\n",
    "data = pd.read_csv('../cleandata/tweets.csv')"
   ]
  },
  {
   "cell_type": "code",
   "execution_count": 34,
   "metadata": {},
   "outputs": [],
   "source": [
    "# set column width in display\n",
    "\n",
    "pd.set_option('display.max_colwidth', None)"
   ]
  },
  {
   "cell_type": "code",
   "execution_count": 35,
   "metadata": {},
   "outputs": [
    {
     "data": {
      "text/html": [
       "<div>\n",
       "<style scoped>\n",
       "    .dataframe tbody tr th:only-of-type {\n",
       "        vertical-align: middle;\n",
       "    }\n",
       "\n",
       "    .dataframe tbody tr th {\n",
       "        vertical-align: top;\n",
       "    }\n",
       "\n",
       "    .dataframe thead th {\n",
       "        text-align: right;\n",
       "    }\n",
       "</style>\n",
       "<table border=\"1\" class=\"dataframe\">\n",
       "  <thead>\n",
       "    <tr style=\"text-align: right;\">\n",
       "      <th></th>\n",
       "      <th>date</th>\n",
       "      <th>text</th>\n",
       "      <th>state</th>\n",
       "      <th>query_term</th>\n",
       "    </tr>\n",
       "  </thead>\n",
       "  <tbody>\n",
       "    <tr>\n",
       "      <th>0</th>\n",
       "      <td>2020-04-24 21:59:42+00:00</td>\n",
       "      <td>The economy will collapse in the long term if we continue with the business closures and large government making decisions for us that have proven to mess everything up.</td>\n",
       "      <td>DC</td>\n",
       "      <td>business closures</td>\n",
       "    </tr>\n",
       "    <tr>\n",
       "      <th>1</th>\n",
       "      <td>2020-04-23 21:28:12+00:00</td>\n",
       "      <td>Classic counsel on cover letters! Covid-19 and business closures mean more job seekers. Get informed, boost your chances. #jobsearch #jobsearchcoach @National Harbor, Maryland https://www.instagram.com/p/B_Vosy8nb3S/?igshid=xj0jre0tc5sq</td>\n",
       "      <td>DC</td>\n",
       "      <td>business closures</td>\n",
       "    </tr>\n",
       "    <tr>\n",
       "      <th>2</th>\n",
       "      <td>2020-04-17 01:01:43+00:00</td>\n",
       "      <td>I'm guessing that would violate the mayor's non-essential business closure order?</td>\n",
       "      <td>DC</td>\n",
       "      <td>business closures</td>\n",
       "    </tr>\n",
       "    <tr>\n",
       "      <th>3</th>\n",
       "      <td>2020-04-16 18:19:35+00:00</td>\n",
       "      <td>Ok, why did this take so long...and yet mandatory stay at home orders and “non-essential business” closures have been in place for weeks... Wearing masks is key to stopping the spread but also .....responsibly reopening our Maryland economy.</td>\n",
       "      <td>DC</td>\n",
       "      <td>business closures</td>\n",
       "    </tr>\n",
       "    <tr>\n",
       "      <th>4</th>\n",
       "      <td>2020-04-16 01:53:41+00:00</td>\n",
       "      <td>Explain exactly how government-forced business closures are the “free-market”?</td>\n",
       "      <td>DC</td>\n",
       "      <td>business closures</td>\n",
       "    </tr>\n",
       "  </tbody>\n",
       "</table>\n",
       "</div>"
      ],
      "text/plain": [
       "                        date  \\\n",
       "0  2020-04-24 21:59:42+00:00   \n",
       "1  2020-04-23 21:28:12+00:00   \n",
       "2  2020-04-17 01:01:43+00:00   \n",
       "3  2020-04-16 18:19:35+00:00   \n",
       "4  2020-04-16 01:53:41+00:00   \n",
       "\n",
       "                                                                                                                                                                                                                                                 text  \\\n",
       "0                                                                           The economy will collapse in the long term if we continue with the business closures and large government making decisions for us that have proven to mess everything up.   \n",
       "1        Classic counsel on cover letters! Covid-19 and business closures mean more job seekers. Get informed, boost your chances. #jobsearch #jobsearchcoach @National Harbor, Maryland https://www.instagram.com/p/B_Vosy8nb3S/?igshid=xj0jre0tc5sq   \n",
       "2                                                                                                                                                                   I'm guessing that would violate the mayor's non-essential business closure order?   \n",
       "3  Ok, why did this take so long...and yet mandatory stay at home orders and “non-essential business” closures have been in place for weeks... Wearing masks is key to stopping the spread but also .....responsibly reopening our Maryland economy.    \n",
       "4                                                                                                                                                                      Explain exactly how government-forced business closures are the “free-market”?   \n",
       "\n",
       "  state         query_term  \n",
       "0    DC  business closures  \n",
       "1    DC  business closures  \n",
       "2    DC  business closures  \n",
       "3    DC  business closures  \n",
       "4    DC  business closures  "
      ]
     },
     "execution_count": 35,
     "metadata": {},
     "output_type": "execute_result"
    }
   ],
   "source": [
    "data.head()"
   ]
  },
  {
   "cell_type": "code",
   "execution_count": 36,
   "metadata": {},
   "outputs": [
    {
     "data": {
      "text/plain": [
       "date             0\n",
       "text          1085\n",
       "state            0\n",
       "query_term       0\n",
       "dtype: int64"
      ]
     },
     "execution_count": 36,
     "metadata": {},
     "output_type": "execute_result"
    }
   ],
   "source": [
    "# check missing data\n",
    "data.isna().sum()"
   ]
  },
  {
   "cell_type": "code",
   "execution_count": 37,
   "metadata": {},
   "outputs": [
    {
     "data": {
      "text/plain": [
       "(215358, 4)"
      ]
     },
     "execution_count": 37,
     "metadata": {},
     "output_type": "execute_result"
    }
   ],
   "source": [
    "# drop missing data\n",
    "\n",
    "data.dropna(inplace=True)\n",
    "data.shape"
   ]
  },
  {
   "cell_type": "code",
   "execution_count": 45,
   "metadata": {},
   "outputs": [],
   "source": [
    "# check if duplicates are really duplicates\n",
    "duplicates = [text for text in data['text'] if 'business closures mean more job' in text]\n"
   ]
  },
  {
   "cell_type": "code",
   "execution_count": 46,
   "metadata": {},
   "outputs": [
    {
     "data": {
      "text/plain": [
       "['Classic counsel on cover letters! Covid-19 and business closures mean more job seekers. Get informed, boost your chances. #jobsearch #jobsearchcoach @National Harbor, Maryland https://www.instagram.com/p/B_Vosy8nb3S/?igshid=xj0jre0tc5sq',\n",
       " 'Classic counsel on cover letters! Covid-19 and business closures mean more job seekers. Get informed, boost your chances. #jobsearch #jobsearchcoach @National Harbor, Maryland https://www.instagram.com/p/B_Vosy8nb3S/?igshid=xj0jre0tc5sq']"
      ]
     },
     "execution_count": 46,
     "metadata": {},
     "output_type": "execute_result"
    }
   ],
   "source": [
    "duplicates"
   ]
  },
  {
   "cell_type": "code",
   "execution_count": 48,
   "metadata": {},
   "outputs": [],
   "source": [
    "# drop duplicates\n",
    "\n",
    "data.drop_duplicates(subset='text', inplace=True)"
   ]
  },
  {
   "cell_type": "code",
   "execution_count": 49,
   "metadata": {},
   "outputs": [],
   "source": [
    "# export data into csv file\n",
    "\n",
    "data.to_csv('../cleandata/tweets_noDuplicates.csv', index=False)"
   ]
  },
  {
   "cell_type": "code",
   "execution_count": 17,
   "metadata": {},
   "outputs": [
    {
     "data": {
      "text/plain": [
       "0                                                                             The economy will collapse in the long term if we continue with the business closures and large government making decisions for us that have proven to mess everything up.\n",
       "1          Classic counsel on cover letters! Covid-19 and business closures mean more job seekers. Get informed, boost your chances. #jobsearch #jobsearchcoach @National Harbor, Maryland https://www.instagram.com/p/B_Vosy8nb3S/?igshid=xj0jre0tc5sq\n",
       "2                                                                                                                                                                     I'm guessing that would violate the mayor's non-essential business closure order?\n",
       "3    Ok, why did this take so long...and yet mandatory stay at home orders and “non-essential business” closures have been in place for weeks... Wearing masks is key to stopping the spread but also .....responsibly reopening our Maryland economy. \n",
       "4                                                                                                                                                                        Explain exactly how government-forced business closures are the “free-market”?\n",
       "Name: text, dtype: object"
      ]
     },
     "execution_count": 17,
     "metadata": {},
     "output_type": "execute_result"
    }
   ],
   "source": [
    "text = data['text']\n",
    "text.head()"
   ]
  },
  {
   "cell_type": "code",
   "execution_count": 21,
   "metadata": {},
   "outputs": [],
   "source": [
    "# clean data with CountVectorizer\n",
    "\n",
    "cvec = CountVectorizer()\n",
    "text_cv = cvec.fit_transform(text)"
   ]
  },
  {
   "cell_type": "code",
   "execution_count": null,
   "metadata": {},
   "outputs": [],
   "source": []
  }
 ],
 "metadata": {
  "kernelspec": {
   "display_name": "Python 3",
   "language": "python",
   "name": "python3"
  },
  "language_info": {
   "codemirror_mode": {
    "name": "ipython",
    "version": 3
   },
   "file_extension": ".py",
   "mimetype": "text/x-python",
   "name": "python",
   "nbconvert_exporter": "python",
   "pygments_lexer": "ipython3",
   "version": "3.7.6"
  }
 },
 "nbformat": 4,
 "nbformat_minor": 4
}
