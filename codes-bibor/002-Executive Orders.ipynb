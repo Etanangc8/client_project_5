{
 "cells": [
  {
   "cell_type": "markdown",
   "metadata": {},
   "source": [
    "### Stay at Home State Mandates\n",
    "\n",
    "source: [The Henry J. Kaiser Family Foundation](https://www.kff.org/health-costs/issue-brief/state-data-and-policy-actions-to-address-coronavirus/)\n",
    "\n",
    "Data: up to date ending with May 9, 2020\n",
    "\n",
    "Included: \n",
    "\n",
    " *  state mandates issued by the state's executive branch (if legislative mandates exist, the data set does not contain information about those)\n",
    " * many states have recommendations in place, however, in this dataset only states that issued restricting orders were taken into consideration\n",
    "\n",
    ">FOOTNOTES from the original data source\n",
    ">1. CT, RI, and WV have prohibited gatherings larger than five people, with limited exceptions.\n",
    "2. Social distancing restrictions remain in place in three counties in South FL, where reopening decisions are under the jurisdiction of local leadership.\n",
    "3. The FL governor has prohibited gatherings of more than 10 people in public spaces, but limits on private gatherings have fallen short of a mandate.\n",
    "4. Social distancing restrictions remain in place in three counties.\n",
    "5. Non-essential businesses remain closed and restaurants remain closed to dine-in services in some hard-hit counties\n",
    "6. Iowa bans all gatherings in 14 hard-hit counties in the northeastern part of the state, and bans gatherings of more than 10 people in the rest of the state.\n",
    "7. NE has enacted a large gatherings ban and bar/restaurant limits in counties where community spread has been confirmed.\n",
    "8. Nebraska has implemented less restrictive orders allowing restaurants to re-open with capacity limits in 10 of its 19 local health districts.\n",
    "9. Judge has ordered NY to hold its primary election, but litigation is still ongoing.\n",
    "10. Tennessee has implemented less restrictive orders allowing non-essential businesses and restaurants to reopen in 89 of the state’s 95 counties.\n",
    "11. Gatherings also limited to 50% of venue capacity if such limitation would be under 50 people.\n",
    "---"
   ]
  },
  {
   "cell_type": "code",
   "execution_count": 4,
   "metadata": {},
   "outputs": [],
   "source": [
    "import pandas as pd\n",
    "import numpy as np\n",
    "import matplotlib.pyplot as plt\n",
    "import seaborn as sns\n",
    "\n",
    "sns.set_style('white')"
   ]
  },
  {
   "cell_type": "code",
   "execution_count": 5,
   "metadata": {
    "scrolled": true
   },
   "outputs": [],
   "source": [
    "# data cleaning after downloading updated csv\n",
    "\n",
    "# df = pd.read_csv('/Users/bibor/Downloads/raw_data (1).csv', header=2)"
   ]
  },
  {
   "cell_type": "code",
   "execution_count": 6,
   "metadata": {
    "scrolled": true
   },
   "outputs": [],
   "source": [
    "# clean datafile\n",
    "# df = df.iloc[:52, :-1]\n",
    "# df.tail()"
   ]
  },
  {
   "cell_type": "code",
   "execution_count": 7,
   "metadata": {},
   "outputs": [],
   "source": [
    "# export df into csv file\n",
    "\n",
    "# df.to_csv('../data/state_mandates_5_9.csv', index=False)"
   ]
  },
  {
   "cell_type": "code",
   "execution_count": 8,
   "metadata": {},
   "outputs": [],
   "source": [
    "# set display \n",
    "pd.set_option('display.max_colwidth', 500)"
   ]
  },
  {
   "cell_type": "code",
   "execution_count": 9,
   "metadata": {},
   "outputs": [],
   "source": [
    "df = pd.read_csv('../data/state_mandates_5_9.csv')"
   ]
  },
  {
   "cell_type": "markdown",
   "metadata": {},
   "source": [
    "### Processing the Data"
   ]
  },
  {
   "cell_type": "code",
   "execution_count": 10,
   "metadata": {
    "scrolled": true
   },
   "outputs": [
    {
     "data": {
      "text/html": [
       "<div>\n",
       "<style scoped>\n",
       "    .dataframe tbody tr th:only-of-type {\n",
       "        vertical-align: middle;\n",
       "    }\n",
       "\n",
       "    .dataframe tbody tr th {\n",
       "        vertical-align: top;\n",
       "    }\n",
       "\n",
       "    .dataframe thead th {\n",
       "        text-align: right;\n",
       "    }\n",
       "</style>\n",
       "<table border=\"1\" class=\"dataframe\">\n",
       "  <thead>\n",
       "    <tr style=\"text-align: right;\">\n",
       "      <th></th>\n",
       "      <th>Location</th>\n",
       "      <th>State Is Easing Social Distancing Measures</th>\n",
       "      <th>Stay at Home Order</th>\n",
       "      <th>Mandatory Quarantine for Travelers</th>\n",
       "      <th>Non-Essential Business Closures</th>\n",
       "      <th>Large Gatherings Ban</th>\n",
       "      <th>School Closures</th>\n",
       "      <th>Restaurant Limits</th>\n",
       "      <th>Primary Election Postponement</th>\n",
       "      <th>Emergency Declaration Date</th>\n",
       "      <th>Emergency Declaration</th>\n",
       "    </tr>\n",
       "  </thead>\n",
       "  <tbody>\n",
       "    <tr>\n",
       "      <th>0</th>\n",
       "      <td>United States</td>\n",
       "      <td>Yes (34); No (17)</td>\n",
       "      <td>Original Stay at Home Order in Place (29); Stay at Home Order Eased or Lifted (16); No Action (6)</td>\n",
       "      <td>Original Traveler Quarantine Mandate in Place (20); Traveler Quarantine Mandate Eased or Lifted (3); No Action (28)</td>\n",
       "      <td>Original Non-Essential Business Closures Still in Place (17); Some or All Non-Essential Businesses Permitted to Reopen (28); No Action (6)</td>\n",
       "      <td>Original Gathering Ban/Limit in Place (40); Gathering Ban/Limit Eased or Lifted (9); No Action (2)</td>\n",
       "      <td>Closed (7); Closed for School Year (36); Recommended Closure (1); Recommended Closure for School Year (6); Rescinded (1)</td>\n",
       "      <td>Original Restaurant Closures Still in Place (34); Restaurants Reopened to Dine-in Service (16); No Action (1)</td>\n",
       "      <td>Postponed (14); Canceled (1); No (36)</td>\n",
       "      <td>2020-03-13</td>\n",
       "      <td>Yes (51); No (0)</td>\n",
       "    </tr>\n",
       "    <tr>\n",
       "      <th>1</th>\n",
       "      <td>Alabama</td>\n",
       "      <td>Yes</td>\n",
       "      <td>Lifted</td>\n",
       "      <td>-</td>\n",
       "      <td>Some Non-Essential Businesses Permitted to Reopen with Reduced Capacity</td>\n",
       "      <td>&gt;10 People Prohibited</td>\n",
       "      <td>Closed for School Year</td>\n",
       "      <td>Closed Except for Takeout/Delivery</td>\n",
       "      <td>Unchanged</td>\n",
       "      <td>2020-03-13</td>\n",
       "      <td>Yes</td>\n",
       "    </tr>\n",
       "    <tr>\n",
       "      <th>2</th>\n",
       "      <td>Alaska</td>\n",
       "      <td>Yes</td>\n",
       "      <td>Lifted</td>\n",
       "      <td>All Travelers</td>\n",
       "      <td>All Non-Essential Businesses Permitted to Reopen with Reduced Capacity</td>\n",
       "      <td>Expanded to 50+ People Prohibited</td>\n",
       "      <td>Closed for School Year</td>\n",
       "      <td>Reopened to Dine-in Service with Capacity Limits</td>\n",
       "      <td>Remote</td>\n",
       "      <td>2020-03-11</td>\n",
       "      <td>Yes</td>\n",
       "    </tr>\n",
       "    <tr>\n",
       "      <th>3</th>\n",
       "      <td>Arizona</td>\n",
       "      <td>Yes</td>\n",
       "      <td>Statewide</td>\n",
       "      <td>From Certain States</td>\n",
       "      <td>Some Non-Essential Businesses Permitted to Reopen with Reduced Capacity</td>\n",
       "      <td>&gt;10 People Prohibited</td>\n",
       "      <td>Closed for School Year</td>\n",
       "      <td>Closed Except for Takeout/Delivery</td>\n",
       "      <td>Unchanged</td>\n",
       "      <td>2020-03-11</td>\n",
       "      <td>Yes</td>\n",
       "    </tr>\n",
       "    <tr>\n",
       "      <th>4</th>\n",
       "      <td>Arkansas</td>\n",
       "      <td>Yes</td>\n",
       "      <td>No</td>\n",
       "      <td>-</td>\n",
       "      <td>Some Non-Essential Businesses Permitted to Reopen with Reduced Capacity</td>\n",
       "      <td>&gt;10 People Prohibited</td>\n",
       "      <td>Closed for School Year</td>\n",
       "      <td>Closed Except for Takeout/Delivery</td>\n",
       "      <td>Unchanged</td>\n",
       "      <td>2020-03-11</td>\n",
       "      <td>Yes</td>\n",
       "    </tr>\n",
       "  </tbody>\n",
       "</table>\n",
       "</div>"
      ],
      "text/plain": [
       "        Location State Is Easing Social Distancing Measures  \\\n",
       "0  United States                          Yes (34); No (17)   \n",
       "1        Alabama                                        Yes   \n",
       "2         Alaska                                        Yes   \n",
       "3        Arizona                                        Yes   \n",
       "4       Arkansas                                        Yes   \n",
       "\n",
       "                                                                                  Stay at Home Order  \\\n",
       "0  Original Stay at Home Order in Place (29); Stay at Home Order Eased or Lifted (16); No Action (6)   \n",
       "1                                                                                             Lifted   \n",
       "2                                                                                             Lifted   \n",
       "3                                                                                          Statewide   \n",
       "4                                                                                                 No   \n",
       "\n",
       "                                                                                    Mandatory Quarantine for Travelers  \\\n",
       "0  Original Traveler Quarantine Mandate in Place (20); Traveler Quarantine Mandate Eased or Lifted (3); No Action (28)   \n",
       "1                                                                                                                    -   \n",
       "2                                                                                                        All Travelers   \n",
       "3                                                                                                  From Certain States   \n",
       "4                                                                                                                    -   \n",
       "\n",
       "                                                                                                              Non-Essential Business Closures  \\\n",
       "0  Original Non-Essential Business Closures Still in Place (17); Some or All Non-Essential Businesses Permitted to Reopen (28); No Action (6)   \n",
       "1                                                                     Some Non-Essential Businesses Permitted to Reopen with Reduced Capacity   \n",
       "2                                                                      All Non-Essential Businesses Permitted to Reopen with Reduced Capacity   \n",
       "3                                                                     Some Non-Essential Businesses Permitted to Reopen with Reduced Capacity   \n",
       "4                                                                     Some Non-Essential Businesses Permitted to Reopen with Reduced Capacity   \n",
       "\n",
       "                                                                                 Large Gatherings Ban  \\\n",
       "0  Original Gathering Ban/Limit in Place (40); Gathering Ban/Limit Eased or Lifted (9); No Action (2)   \n",
       "1                                                                               >10 People Prohibited   \n",
       "2                                                                   Expanded to 50+ People Prohibited   \n",
       "3                                                                               >10 People Prohibited   \n",
       "4                                                                               >10 People Prohibited   \n",
       "\n",
       "                                                                                                            School Closures  \\\n",
       "0  Closed (7); Closed for School Year (36); Recommended Closure (1); Recommended Closure for School Year (6); Rescinded (1)   \n",
       "1                                                                                                    Closed for School Year   \n",
       "2                                                                                                    Closed for School Year   \n",
       "3                                                                                                    Closed for School Year   \n",
       "4                                                                                                    Closed for School Year   \n",
       "\n",
       "                                                                                               Restaurant Limits  \\\n",
       "0  Original Restaurant Closures Still in Place (34); Restaurants Reopened to Dine-in Service (16); No Action (1)   \n",
       "1                                                                             Closed Except for Takeout/Delivery   \n",
       "2                                                               Reopened to Dine-in Service with Capacity Limits   \n",
       "3                                                                             Closed Except for Takeout/Delivery   \n",
       "4                                                                             Closed Except for Takeout/Delivery   \n",
       "\n",
       "           Primary Election Postponement Emergency Declaration Date  \\\n",
       "0  Postponed (14); Canceled (1); No (36)                 2020-03-13   \n",
       "1                              Unchanged                 2020-03-13   \n",
       "2                                 Remote                 2020-03-11   \n",
       "3                              Unchanged                 2020-03-11   \n",
       "4                              Unchanged                 2020-03-11   \n",
       "\n",
       "  Emergency Declaration  \n",
       "0      Yes (51); No (0)  \n",
       "1                   Yes  \n",
       "2                   Yes  \n",
       "3                   Yes  \n",
       "4                   Yes  "
      ]
     },
     "execution_count": 10,
     "metadata": {},
     "output_type": "execute_result"
    }
   ],
   "source": [
    "df.head(5)"
   ]
  },
  {
   "cell_type": "code",
   "execution_count": 11,
   "metadata": {
    "scrolled": true
   },
   "outputs": [
    {
     "data": {
      "text/html": [
       "<div>\n",
       "<style scoped>\n",
       "    .dataframe tbody tr th:only-of-type {\n",
       "        vertical-align: middle;\n",
       "    }\n",
       "\n",
       "    .dataframe tbody tr th {\n",
       "        vertical-align: top;\n",
       "    }\n",
       "\n",
       "    .dataframe thead th {\n",
       "        text-align: right;\n",
       "    }\n",
       "</style>\n",
       "<table border=\"1\" class=\"dataframe\">\n",
       "  <thead>\n",
       "    <tr style=\"text-align: right;\">\n",
       "      <th></th>\n",
       "      <th>Location</th>\n",
       "      <th>State Is Easing Social Distancing Measures</th>\n",
       "      <th>Stay at Home Order</th>\n",
       "      <th>Mandatory Quarantine for Travelers</th>\n",
       "      <th>Non-Essential Business Closures</th>\n",
       "      <th>Large Gatherings Ban</th>\n",
       "      <th>School Closures</th>\n",
       "      <th>Restaurant Limits</th>\n",
       "      <th>Primary Election Postponement</th>\n",
       "      <th>Emergency Declaration Date</th>\n",
       "      <th>Emergency Declaration</th>\n",
       "    </tr>\n",
       "  </thead>\n",
       "  <tbody>\n",
       "    <tr>\n",
       "      <th>47</th>\n",
       "      <td>Virginia</td>\n",
       "      <td>-</td>\n",
       "      <td>Statewide</td>\n",
       "      <td>-</td>\n",
       "      <td>Some Non-Essential Businesses Closed</td>\n",
       "      <td>&gt;10 People Prohibited</td>\n",
       "      <td>Closed for School Year</td>\n",
       "      <td>Closed Except for Takeout/Delivery</td>\n",
       "      <td>Unchanged</td>\n",
       "      <td>2020-03-12</td>\n",
       "      <td>Yes</td>\n",
       "    </tr>\n",
       "    <tr>\n",
       "      <th>48</th>\n",
       "      <td>Washington</td>\n",
       "      <td>-</td>\n",
       "      <td>Statewide</td>\n",
       "      <td>-</td>\n",
       "      <td>All Non-Essential Businesses Closed</td>\n",
       "      <td>All Gatherings Prohibited</td>\n",
       "      <td>Closed for School Year</td>\n",
       "      <td>Closed Except for Takeout/Delivery</td>\n",
       "      <td>Unchanged</td>\n",
       "      <td>2020-02-29</td>\n",
       "      <td>Yes</td>\n",
       "    </tr>\n",
       "    <tr>\n",
       "      <th>49</th>\n",
       "      <td>West Virginia</td>\n",
       "      <td>Yes</td>\n",
       "      <td>Lifted</td>\n",
       "      <td>From Certain States</td>\n",
       "      <td>Some Non-Essential Businesses Permitted to Reopen with Reduced Capacity</td>\n",
       "      <td>Expanded to 25+ People Prohibited</td>\n",
       "      <td>Closed for School Year</td>\n",
       "      <td>Reopened to Dine-in Service with Capacity Limits</td>\n",
       "      <td>Postponed</td>\n",
       "      <td>2020-03-04</td>\n",
       "      <td>Yes</td>\n",
       "    </tr>\n",
       "    <tr>\n",
       "      <th>50</th>\n",
       "      <td>Wisconsin</td>\n",
       "      <td>-</td>\n",
       "      <td>Statewide</td>\n",
       "      <td>-</td>\n",
       "      <td>All Non-Essential Businesses Closed</td>\n",
       "      <td>All Gatherings Prohibited</td>\n",
       "      <td>Closed for School Year</td>\n",
       "      <td>Closed Except for Takeout/Delivery</td>\n",
       "      <td>Unchanged</td>\n",
       "      <td>2020-03-12</td>\n",
       "      <td>Yes</td>\n",
       "    </tr>\n",
       "    <tr>\n",
       "      <th>51</th>\n",
       "      <td>Wyoming</td>\n",
       "      <td>-</td>\n",
       "      <td>No</td>\n",
       "      <td>All Travelers</td>\n",
       "      <td>No information</td>\n",
       "      <td>&gt;10 People Prohibited</td>\n",
       "      <td>Closed</td>\n",
       "      <td>Closed Except for Takeout/Delivery</td>\n",
       "      <td>Remote</td>\n",
       "      <td>2020-03-13</td>\n",
       "      <td>Yes</td>\n",
       "    </tr>\n",
       "  </tbody>\n",
       "</table>\n",
       "</div>"
      ],
      "text/plain": [
       "         Location State Is Easing Social Distancing Measures  \\\n",
       "47       Virginia                                          -   \n",
       "48     Washington                                          -   \n",
       "49  West Virginia                                        Yes   \n",
       "50      Wisconsin                                          -   \n",
       "51        Wyoming                                          -   \n",
       "\n",
       "   Stay at Home Order Mandatory Quarantine for Travelers  \\\n",
       "47          Statewide                                  -   \n",
       "48          Statewide                                  -   \n",
       "49             Lifted                From Certain States   \n",
       "50          Statewide                                  -   \n",
       "51                 No                      All Travelers   \n",
       "\n",
       "                                            Non-Essential Business Closures  \\\n",
       "47                                     Some Non-Essential Businesses Closed   \n",
       "48                                      All Non-Essential Businesses Closed   \n",
       "49  Some Non-Essential Businesses Permitted to Reopen with Reduced Capacity   \n",
       "50                                      All Non-Essential Businesses Closed   \n",
       "51                                                           No information   \n",
       "\n",
       "                 Large Gatherings Ban         School Closures  \\\n",
       "47              >10 People Prohibited  Closed for School Year   \n",
       "48          All Gatherings Prohibited  Closed for School Year   \n",
       "49  Expanded to 25+ People Prohibited  Closed for School Year   \n",
       "50          All Gatherings Prohibited  Closed for School Year   \n",
       "51              >10 People Prohibited                  Closed   \n",
       "\n",
       "                                   Restaurant Limits  \\\n",
       "47                Closed Except for Takeout/Delivery   \n",
       "48                Closed Except for Takeout/Delivery   \n",
       "49  Reopened to Dine-in Service with Capacity Limits   \n",
       "50                Closed Except for Takeout/Delivery   \n",
       "51                Closed Except for Takeout/Delivery   \n",
       "\n",
       "   Primary Election Postponement Emergency Declaration Date  \\\n",
       "47                     Unchanged                 2020-03-12   \n",
       "48                     Unchanged                 2020-02-29   \n",
       "49                     Postponed                 2020-03-04   \n",
       "50                     Unchanged                 2020-03-12   \n",
       "51                        Remote                 2020-03-13   \n",
       "\n",
       "   Emergency Declaration  \n",
       "47                   Yes  \n",
       "48                   Yes  \n",
       "49                   Yes  \n",
       "50                   Yes  \n",
       "51                   Yes  "
      ]
     },
     "execution_count": 11,
     "metadata": {},
     "output_type": "execute_result"
    }
   ],
   "source": [
    "df.tail()"
   ]
  },
  {
   "cell_type": "code",
   "execution_count": 12,
   "metadata": {},
   "outputs": [
    {
     "data": {
      "text/plain": [
       "(52, 11)"
      ]
     },
     "execution_count": 12,
     "metadata": {},
     "output_type": "execute_result"
    }
   ],
   "source": [
    "df.shape"
   ]
  },
  {
   "cell_type": "code",
   "execution_count": 13,
   "metadata": {},
   "outputs": [
    {
     "name": "stdout",
     "output_type": "stream",
     "text": [
      "<class 'pandas.core.frame.DataFrame'>\n",
      "RangeIndex: 52 entries, 0 to 51\n",
      "Data columns (total 11 columns):\n",
      " #   Column                                      Non-Null Count  Dtype \n",
      "---  ------                                      --------------  ----- \n",
      " 0   Location                                    52 non-null     object\n",
      " 1   State Is Easing Social Distancing Measures  52 non-null     object\n",
      " 2   Stay at Home Order                          52 non-null     object\n",
      " 3   Mandatory Quarantine for Travelers          52 non-null     object\n",
      " 4   Non-Essential Business Closures             52 non-null     object\n",
      " 5   Large Gatherings Ban                        52 non-null     object\n",
      " 6   School Closures                             52 non-null     object\n",
      " 7   Restaurant Limits                           52 non-null     object\n",
      " 8   Primary Election Postponement               52 non-null     object\n",
      " 9   Emergency Declaration Date                  52 non-null     object\n",
      " 10  Emergency Declaration                       52 non-null     object\n",
      "dtypes: object(11)\n",
      "memory usage: 4.6+ KB\n"
     ]
    }
   ],
   "source": [
    "df.info()"
   ]
  },
  {
   "cell_type": "code",
   "execution_count": 14,
   "metadata": {},
   "outputs": [
    {
     "data": {
      "text/html": [
       "<div>\n",
       "<style scoped>\n",
       "    .dataframe tbody tr th:only-of-type {\n",
       "        vertical-align: middle;\n",
       "    }\n",
       "\n",
       "    .dataframe tbody tr th {\n",
       "        vertical-align: top;\n",
       "    }\n",
       "\n",
       "    .dataframe thead th {\n",
       "        text-align: right;\n",
       "    }\n",
       "</style>\n",
       "<table border=\"1\" class=\"dataframe\">\n",
       "  <thead>\n",
       "    <tr style=\"text-align: right;\">\n",
       "      <th></th>\n",
       "      <th>0</th>\n",
       "    </tr>\n",
       "  </thead>\n",
       "  <tbody>\n",
       "    <tr>\n",
       "      <th>Location</th>\n",
       "      <td>United States</td>\n",
       "    </tr>\n",
       "    <tr>\n",
       "      <th>State Is Easing Social Distancing Measures</th>\n",
       "      <td>Yes (34); No (17)</td>\n",
       "    </tr>\n",
       "    <tr>\n",
       "      <th>Stay at Home Order</th>\n",
       "      <td>Original Stay at Home Order in Place (29); Stay at Home Order Eased or Lifted (16); No Action (6)</td>\n",
       "    </tr>\n",
       "    <tr>\n",
       "      <th>Mandatory Quarantine for Travelers</th>\n",
       "      <td>Original Traveler Quarantine Mandate in Place (20); Traveler Quarantine Mandate Eased or Lifted (3); No Action (28)</td>\n",
       "    </tr>\n",
       "    <tr>\n",
       "      <th>Non-Essential Business Closures</th>\n",
       "      <td>Original Non-Essential Business Closures Still in Place (17); Some or All Non-Essential Businesses Permitted to Reopen (28); No Action (6)</td>\n",
       "    </tr>\n",
       "    <tr>\n",
       "      <th>Large Gatherings Ban</th>\n",
       "      <td>Original Gathering Ban/Limit in Place (40); Gathering Ban/Limit Eased or Lifted (9); No Action (2)</td>\n",
       "    </tr>\n",
       "    <tr>\n",
       "      <th>School Closures</th>\n",
       "      <td>Closed (7); Closed for School Year (36); Recommended Closure (1); Recommended Closure for School Year (6); Rescinded (1)</td>\n",
       "    </tr>\n",
       "    <tr>\n",
       "      <th>Restaurant Limits</th>\n",
       "      <td>Original Restaurant Closures Still in Place (34); Restaurants Reopened to Dine-in Service (16); No Action (1)</td>\n",
       "    </tr>\n",
       "    <tr>\n",
       "      <th>Primary Election Postponement</th>\n",
       "      <td>Postponed (14); Canceled (1); No (36)</td>\n",
       "    </tr>\n",
       "    <tr>\n",
       "      <th>Emergency Declaration Date</th>\n",
       "      <td>2020-03-13</td>\n",
       "    </tr>\n",
       "    <tr>\n",
       "      <th>Emergency Declaration</th>\n",
       "      <td>Yes (51); No (0)</td>\n",
       "    </tr>\n",
       "  </tbody>\n",
       "</table>\n",
       "</div>"
      ],
      "text/plain": [
       "                                                                                                                                                                                     0\n",
       "Location                                                                                                                                                                 United States\n",
       "State Is Easing Social Distancing Measures                                                                                                                           Yes (34); No (17)\n",
       "Stay at Home Order                                                                   Original Stay at Home Order in Place (29); Stay at Home Order Eased or Lifted (16); No Action (6)\n",
       "Mandatory Quarantine for Travelers                                 Original Traveler Quarantine Mandate in Place (20); Traveler Quarantine Mandate Eased or Lifted (3); No Action (28)\n",
       "Non-Essential Business Closures             Original Non-Essential Business Closures Still in Place (17); Some or All Non-Essential Businesses Permitted to Reopen (28); No Action (6)\n",
       "Large Gatherings Ban                                                                Original Gathering Ban/Limit in Place (40); Gathering Ban/Limit Eased or Lifted (9); No Action (2)\n",
       "School Closures                                               Closed (7); Closed for School Year (36); Recommended Closure (1); Recommended Closure for School Year (6); Rescinded (1)\n",
       "Restaurant Limits                                                        Original Restaurant Closures Still in Place (34); Restaurants Reopened to Dine-in Service (16); No Action (1)\n",
       "Primary Election Postponement                                                                                                                    Postponed (14); Canceled (1); No (36)\n",
       "Emergency Declaration Date                                                                                                                                                  2020-03-13\n",
       "Emergency Declaration                                                                                                                                                 Yes (51); No (0)"
      ]
     },
     "execution_count": 14,
     "metadata": {},
     "output_type": "execute_result"
    }
   ],
   "source": [
    "# the first row is aggregate data\n",
    "# let's extract it, and save it\n",
    "\n",
    "US = df.iloc[0, :]\n",
    "US = pd.DataFrame(US)\n",
    "US"
   ]
  },
  {
   "cell_type": "code",
   "execution_count": 15,
   "metadata": {
    "scrolled": true
   },
   "outputs": [
    {
     "data": {
      "text/html": [
       "<div>\n",
       "<style scoped>\n",
       "    .dataframe tbody tr th:only-of-type {\n",
       "        vertical-align: middle;\n",
       "    }\n",
       "\n",
       "    .dataframe tbody tr th {\n",
       "        vertical-align: top;\n",
       "    }\n",
       "\n",
       "    .dataframe thead th {\n",
       "        text-align: right;\n",
       "    }\n",
       "</style>\n",
       "<table border=\"1\" class=\"dataframe\">\n",
       "  <thead>\n",
       "    <tr style=\"text-align: right;\">\n",
       "      <th></th>\n",
       "      <th>Location</th>\n",
       "      <th>State Is Easing Social Distancing Measures</th>\n",
       "      <th>Stay at Home Order</th>\n",
       "      <th>Mandatory Quarantine for Travelers</th>\n",
       "      <th>Non-Essential Business Closures</th>\n",
       "      <th>Large Gatherings Ban</th>\n",
       "      <th>School Closures</th>\n",
       "      <th>Restaurant Limits</th>\n",
       "      <th>Primary Election Postponement</th>\n",
       "      <th>Emergency Declaration Date</th>\n",
       "      <th>Emergency Declaration</th>\n",
       "    </tr>\n",
       "  </thead>\n",
       "  <tbody>\n",
       "    <tr>\n",
       "      <th>1</th>\n",
       "      <td>Alabama</td>\n",
       "      <td>Yes</td>\n",
       "      <td>Lifted</td>\n",
       "      <td>-</td>\n",
       "      <td>Some Non-Essential Businesses Permitted to Reopen with Reduced Capacity</td>\n",
       "      <td>&gt;10 People Prohibited</td>\n",
       "      <td>Closed for School Year</td>\n",
       "      <td>Closed Except for Takeout/Delivery</td>\n",
       "      <td>Unchanged</td>\n",
       "      <td>2020-03-13</td>\n",
       "      <td>Yes</td>\n",
       "    </tr>\n",
       "    <tr>\n",
       "      <th>2</th>\n",
       "      <td>Alaska</td>\n",
       "      <td>Yes</td>\n",
       "      <td>Lifted</td>\n",
       "      <td>All Travelers</td>\n",
       "      <td>All Non-Essential Businesses Permitted to Reopen with Reduced Capacity</td>\n",
       "      <td>Expanded to 50+ People Prohibited</td>\n",
       "      <td>Closed for School Year</td>\n",
       "      <td>Reopened to Dine-in Service with Capacity Limits</td>\n",
       "      <td>Remote</td>\n",
       "      <td>2020-03-11</td>\n",
       "      <td>Yes</td>\n",
       "    </tr>\n",
       "    <tr>\n",
       "      <th>3</th>\n",
       "      <td>Arizona</td>\n",
       "      <td>Yes</td>\n",
       "      <td>Statewide</td>\n",
       "      <td>From Certain States</td>\n",
       "      <td>Some Non-Essential Businesses Permitted to Reopen with Reduced Capacity</td>\n",
       "      <td>&gt;10 People Prohibited</td>\n",
       "      <td>Closed for School Year</td>\n",
       "      <td>Closed Except for Takeout/Delivery</td>\n",
       "      <td>Unchanged</td>\n",
       "      <td>2020-03-11</td>\n",
       "      <td>Yes</td>\n",
       "    </tr>\n",
       "    <tr>\n",
       "      <th>4</th>\n",
       "      <td>Arkansas</td>\n",
       "      <td>Yes</td>\n",
       "      <td>No</td>\n",
       "      <td>-</td>\n",
       "      <td>Some Non-Essential Businesses Permitted to Reopen with Reduced Capacity</td>\n",
       "      <td>&gt;10 People Prohibited</td>\n",
       "      <td>Closed for School Year</td>\n",
       "      <td>Closed Except for Takeout/Delivery</td>\n",
       "      <td>Unchanged</td>\n",
       "      <td>2020-03-11</td>\n",
       "      <td>Yes</td>\n",
       "    </tr>\n",
       "    <tr>\n",
       "      <th>5</th>\n",
       "      <td>California</td>\n",
       "      <td>Yes</td>\n",
       "      <td>Statewide</td>\n",
       "      <td>-</td>\n",
       "      <td>Some Non-Essential Businesses Permitted to Reopen with Reduced Capacity</td>\n",
       "      <td>All Gatherings Prohibited</td>\n",
       "      <td>Recommended Closure for School Year</td>\n",
       "      <td>Closed Except for Takeout/Delivery</td>\n",
       "      <td>Unchanged</td>\n",
       "      <td>2020-03-04</td>\n",
       "      <td>Yes</td>\n",
       "    </tr>\n",
       "  </tbody>\n",
       "</table>\n",
       "</div>"
      ],
      "text/plain": [
       "     Location State Is Easing Social Distancing Measures Stay at Home Order  \\\n",
       "1     Alabama                                        Yes             Lifted   \n",
       "2      Alaska                                        Yes             Lifted   \n",
       "3     Arizona                                        Yes          Statewide   \n",
       "4    Arkansas                                        Yes                 No   \n",
       "5  California                                        Yes          Statewide   \n",
       "\n",
       "  Mandatory Quarantine for Travelers  \\\n",
       "1                                  -   \n",
       "2                      All Travelers   \n",
       "3                From Certain States   \n",
       "4                                  -   \n",
       "5                                  -   \n",
       "\n",
       "                                           Non-Essential Business Closures  \\\n",
       "1  Some Non-Essential Businesses Permitted to Reopen with Reduced Capacity   \n",
       "2   All Non-Essential Businesses Permitted to Reopen with Reduced Capacity   \n",
       "3  Some Non-Essential Businesses Permitted to Reopen with Reduced Capacity   \n",
       "4  Some Non-Essential Businesses Permitted to Reopen with Reduced Capacity   \n",
       "5  Some Non-Essential Businesses Permitted to Reopen with Reduced Capacity   \n",
       "\n",
       "                Large Gatherings Ban                      School Closures  \\\n",
       "1              >10 People Prohibited               Closed for School Year   \n",
       "2  Expanded to 50+ People Prohibited               Closed for School Year   \n",
       "3              >10 People Prohibited               Closed for School Year   \n",
       "4              >10 People Prohibited               Closed for School Year   \n",
       "5          All Gatherings Prohibited  Recommended Closure for School Year   \n",
       "\n",
       "                                  Restaurant Limits  \\\n",
       "1                Closed Except for Takeout/Delivery   \n",
       "2  Reopened to Dine-in Service with Capacity Limits   \n",
       "3                Closed Except for Takeout/Delivery   \n",
       "4                Closed Except for Takeout/Delivery   \n",
       "5                Closed Except for Takeout/Delivery   \n",
       "\n",
       "  Primary Election Postponement Emergency Declaration Date  \\\n",
       "1                     Unchanged                 2020-03-13   \n",
       "2                        Remote                 2020-03-11   \n",
       "3                     Unchanged                 2020-03-11   \n",
       "4                     Unchanged                 2020-03-11   \n",
       "5                     Unchanged                 2020-03-04   \n",
       "\n",
       "  Emergency Declaration  \n",
       "1                   Yes  \n",
       "2                   Yes  \n",
       "3                   Yes  \n",
       "4                   Yes  \n",
       "5                   Yes  "
      ]
     },
     "execution_count": 15,
     "metadata": {},
     "output_type": "execute_result"
    }
   ],
   "source": [
    "# dataframe to work on (drop US aggregate row and Footnotes column)\n",
    "\n",
    "data = df.iloc[1:, :]\n",
    "\n",
    "data.head()"
   ]
  },
  {
   "cell_type": "code",
   "execution_count": 16,
   "metadata": {},
   "outputs": [],
   "source": [
    "# change column names\n",
    "\n",
    "data.columns = data.columns.str.lower()\n",
    "\n",
    "# data dictionary\n",
    "column_names = {\n",
    "    'location': 'state',\n",
    "    'state is easing social distancing measures': 'easing_soc_dist',\n",
    "    'stay at home order': 'stay_home_ord',\n",
    "    'mandatory quarantine for travelers': 'traveler_quarant',\n",
    "    'non-essential business closures': 'business_clos',\n",
    "    'large gatherings ban': 'gathering_ban',\n",
    "    'school closures': 'school_clos',\n",
    "    'restaurant limits': 'rest_lims',\n",
    "    'primary election postponement': 'primaries',\n",
    "    'emergency declaration date': 'emergency_date',\n",
    "    'emergency declaration': 'emergency'\n",
    "}\n",
    "\n",
    "data.columns = data.columns.map(column_names)"
   ]
  },
  {
   "cell_type": "code",
   "execution_count": 17,
   "metadata": {},
   "outputs": [
    {
     "data": {
      "text/plain": [
       "Index(['state', 'easing_soc_dist', 'stay_home_ord', 'traveler_quarant',\n",
       "       'business_clos', 'gathering_ban', 'school_clos', 'rest_lims',\n",
       "       'primaries', 'emergency_date', 'emergency'],\n",
       "      dtype='object')"
      ]
     },
     "execution_count": 17,
     "metadata": {},
     "output_type": "execute_result"
    }
   ],
   "source": [
    "# change column names\n",
    "data.columns"
   ]
  },
  {
   "cell_type": "code",
   "execution_count": 18,
   "metadata": {},
   "outputs": [
    {
     "data": {
      "text/plain": [
       "Yes    51\n",
       "Name: emergency, dtype: int64"
      ]
     },
     "execution_count": 18,
     "metadata": {},
     "output_type": "execute_result"
    }
   ],
   "source": [
    "# value counts of emergency declaration column \n",
    "data['emergency'].value_counts()"
   ]
  },
  {
   "cell_type": "code",
   "execution_count": 19,
   "metadata": {},
   "outputs": [
    {
     "name": "stdout",
     "output_type": "stream",
     "text": [
      "Missing values: 0\n"
     ]
    },
    {
     "data": {
      "text/plain": [
       "Unchanged    28\n",
       "Postponed    17\n",
       "Remote        5\n",
       "Cancelled     1\n",
       "Name: primaries, dtype: int64"
      ]
     },
     "execution_count": 19,
     "metadata": {},
     "output_type": "execute_result"
    }
   ],
   "source": [
    "# inspect how states handled primary elections\n",
    "print(f'Missing values: {data[\"primaries\"].isna().sum()}')\n",
    "data['primaries'].value_counts()"
   ]
  },
  {
   "cell_type": "code",
   "execution_count": 20,
   "metadata": {},
   "outputs": [],
   "source": [
    "# Alaska has a missing value\n",
    "# the primaries were held on April 10, remotely \n",
    "# source: http://www.alaskademocrats.org/2020-presidential-primary\n",
    "\n",
    "# data['primaries'].fillna('remote', inplace=True) \n",
    "# data.loc[data['location'] == 'Alaska']"
   ]
  },
  {
   "cell_type": "markdown",
   "metadata": {},
   "source": [
    "**Changing values in the primary elections column:**\n",
    "\n",
    "primaries - refer to the presidential primary elections\n",
    "\n",
    "Original values: postponed, cancelled, '-', and NaN\n",
    "\n",
    "New values: \n",
    "- postponed - when a state postponed the election dates beyond June 1, \n",
    "- remote - when a state already held or is planning to hold the primary elections solely remotely\n",
    "- unchanged - when a state held or is planning to hold the elections without any changes\n",
    "\n",
    "- cancelled - New York State, it had been reinstated by a federal judge - however, there may be an appeal under way\n",
    "\n",
    "\n",
    "Data sources:\n",
    "- https://www.nytimes.com/article/2020-campaign-primary-calendar-coronavirus.html#link-311a5d28\n",
    "\n",
    "\n",
    "\n",
    "**Changing values in the stay at home order column:**\n",
    "\n",
    "Original values: Statewide, Lifted, '-', Rolled Back to High Risk Groups, and High-Risk Groups\n",
    "   \n",
    "New values: \n",
    "- No - where no statewide mandate existed \n",
    "- Statewide\n",
    "- Lifted\n",
    "- Rolled Back to High Risk Groups\n",
    "- High-Risk Groups\n",
    "\n",
    "Data sources:\n",
    "- https://www.nytimes.com/interactive/2020/us/coronavirus-stay-at-home-order.html\n",
    "- https://web.csg.org/covid19/executive-orders/\n",
    "\n",
    "\n",
    "\n",
    "**Changing values in the orders relevant to non-essential businesses and restaurants column:**\n",
    "\n",
    "Based on the following documents some values had been changed.\n",
    "\n",
    "Arkansas \n",
    "- Non-essential business closures - from '-' to 'Some businesses permitted to reopen'\n",
    "\n",
    "Data sources:\n",
    "- https://governor.arkansas.gov/images/uploads/executiveOrders/EO_20-25._._.pdf"
   ]
  },
  {
   "cell_type": "code",
   "execution_count": 21,
   "metadata": {},
   "outputs": [
    {
     "data": {
      "text/plain": [
       "Statewide                          28\n",
       "Lifted                             14\n",
       "No                                  6\n",
       "Rolled Back to High Risk Groups     2\n",
       "High-Risk Groups                    1\n",
       "Name: stay_home_ord, dtype: int64"
      ]
     },
     "execution_count": 21,
     "metadata": {},
     "output_type": "execute_result"
    }
   ],
   "source": [
    "# inspect the column of stay at home orders\n",
    "data['stay_home_ord'].value_counts()"
   ]
  },
  {
   "cell_type": "markdown",
   "metadata": {},
   "source": [
    "**Changing values in the 'state easing on social distancing measures' column:**\n",
    "\n",
    "'Yes' = 1\n",
    "'-' = 0"
   ]
  },
  {
   "cell_type": "code",
   "execution_count": 22,
   "metadata": {},
   "outputs": [
    {
     "name": "stderr",
     "output_type": "stream",
     "text": [
      "/Users/bibor/opt/anaconda3/lib/python3.7/site-packages/ipykernel_launcher.py:3: SettingWithCopyWarning: \n",
      "A value is trying to be set on a copy of a slice from a DataFrame.\n",
      "Try using .loc[row_indexer,col_indexer] = value instead\n",
      "\n",
      "See the caveats in the documentation: https://pandas.pydata.org/pandas-docs/stable/user_guide/indexing.html#returning-a-view-versus-a-copy\n",
      "  This is separate from the ipykernel package so we can avoid doing imports until\n"
     ]
    }
   ],
   "source": [
    "# recode easing_soc_dist variable\n",
    "\n",
    "data['easing_soc_dist'] = data['easing_soc_dist'].map({'Yes': 1, '-': 0})"
   ]
  },
  {
   "cell_type": "markdown",
   "metadata": {},
   "source": [
    "**Changing values in all other columns:**\n",
    "\n",
    "'-' were changed to 'No information'"
   ]
  },
  {
   "cell_type": "code",
   "execution_count": 23,
   "metadata": {},
   "outputs": [
    {
     "data": {
      "text/html": [
       "<div>\n",
       "<style scoped>\n",
       "    .dataframe tbody tr th:only-of-type {\n",
       "        vertical-align: middle;\n",
       "    }\n",
       "\n",
       "    .dataframe tbody tr th {\n",
       "        vertical-align: top;\n",
       "    }\n",
       "\n",
       "    .dataframe thead th {\n",
       "        text-align: right;\n",
       "    }\n",
       "</style>\n",
       "<table border=\"1\" class=\"dataframe\">\n",
       "  <thead>\n",
       "    <tr style=\"text-align: right;\">\n",
       "      <th></th>\n",
       "      <th>state</th>\n",
       "      <th>easing_soc_dist</th>\n",
       "      <th>stay_home_ord</th>\n",
       "      <th>traveler_quarant</th>\n",
       "      <th>business_clos</th>\n",
       "      <th>gathering_ban</th>\n",
       "      <th>school_clos</th>\n",
       "      <th>rest_lims</th>\n",
       "      <th>primaries</th>\n",
       "      <th>emergency_date</th>\n",
       "      <th>emergency</th>\n",
       "    </tr>\n",
       "  </thead>\n",
       "  <tbody>\n",
       "    <tr>\n",
       "      <th>1</th>\n",
       "      <td>Alabama</td>\n",
       "      <td>1</td>\n",
       "      <td>Lifted</td>\n",
       "      <td>-</td>\n",
       "      <td>Some Non-Essential Businesses Permitted to Reopen with Reduced Capacity</td>\n",
       "      <td>&gt;10 People Prohibited</td>\n",
       "      <td>Closed for School Year</td>\n",
       "      <td>Closed Except for Takeout/Delivery</td>\n",
       "      <td>Unchanged</td>\n",
       "      <td>2020-03-13</td>\n",
       "      <td>Yes</td>\n",
       "    </tr>\n",
       "  </tbody>\n",
       "</table>\n",
       "</div>"
      ],
      "text/plain": [
       "     state  easing_soc_dist stay_home_ord traveler_quarant  \\\n",
       "1  Alabama                1        Lifted                -   \n",
       "\n",
       "                                                             business_clos  \\\n",
       "1  Some Non-Essential Businesses Permitted to Reopen with Reduced Capacity   \n",
       "\n",
       "           gathering_ban             school_clos  \\\n",
       "1  >10 People Prohibited  Closed for School Year   \n",
       "\n",
       "                            rest_lims  primaries emergency_date emergency  \n",
       "1  Closed Except for Takeout/Delivery  Unchanged     2020-03-13       Yes  "
      ]
     },
     "execution_count": 23,
     "metadata": {},
     "output_type": "execute_result"
    }
   ],
   "source": [
    "data.head(1)"
   ]
  },
  {
   "cell_type": "code",
   "execution_count": 24,
   "metadata": {},
   "outputs": [
    {
     "name": "stderr",
     "output_type": "stream",
     "text": [
      "/Users/bibor/opt/anaconda3/lib/python3.7/site-packages/ipykernel_launcher.py:2: SettingWithCopyWarning: \n",
      "A value is trying to be set on a copy of a slice from a DataFrame\n",
      "\n",
      "See the caveats in the documentation: https://pandas.pydata.org/pandas-docs/stable/user_guide/indexing.html#returning-a-view-versus-a-copy\n",
      "  \n",
      "/Users/bibor/opt/anaconda3/lib/python3.7/site-packages/pandas/core/generic.py:8765: SettingWithCopyWarning: \n",
      "A value is trying to be set on a copy of a slice from a DataFrame\n",
      "\n",
      "See the caveats in the documentation: https://pandas.pydata.org/pandas-docs/stable/user_guide/indexing.html#returning-a-view-versus-a-copy\n",
      "  self._update_inplace(new_data)\n"
     ]
    }
   ],
   "source": [
    "# change '-' to 'No information'\n",
    "data['traveler_quarant'][data['traveler_quarant'] == '-'] = 'No information'"
   ]
  },
  {
   "cell_type": "code",
   "execution_count": 25,
   "metadata": {},
   "outputs": [
    {
     "data": {
      "text/plain": [
       "No information                   28\n",
       "All Travelers                    13\n",
       "From Certain States               6\n",
       "Lifted                            2\n",
       "Rolled Back to Certain States     1\n",
       "All Air Travelers                 1\n",
       "Name: traveler_quarant, dtype: int64"
      ]
     },
     "execution_count": 25,
     "metadata": {},
     "output_type": "execute_result"
    }
   ],
   "source": [
    "data['traveler_quarant'].value_counts()"
   ]
  },
  {
   "cell_type": "code",
   "execution_count": 26,
   "metadata": {},
   "outputs": [
    {
     "name": "stderr",
     "output_type": "stream",
     "text": [
      "/Users/bibor/opt/anaconda3/lib/python3.7/site-packages/ipykernel_launcher.py:2: SettingWithCopyWarning: \n",
      "A value is trying to be set on a copy of a slice from a DataFrame\n",
      "\n",
      "See the caveats in the documentation: https://pandas.pydata.org/pandas-docs/stable/user_guide/indexing.html#returning-a-view-versus-a-copy\n",
      "  \n"
     ]
    }
   ],
   "source": [
    "# change '-' to 'No information'\n",
    "data['business_clos'][data['business_clos'] == '-'] = 'No information'"
   ]
  },
  {
   "cell_type": "code",
   "execution_count": 27,
   "metadata": {},
   "outputs": [
    {
     "data": {
      "text/plain": [
       "Some Non-Essential Businesses Permitted to Reopen with Reduced Capacity    17\n",
       "All Non-Essential Businesses Closed                                        11\n",
       "Some Non-Essential Businesses Permitted to Reopen                           8\n",
       "Some Non-Essential Businesses Closed                                        6\n",
       "No information                                                              5\n",
       "All Non-Essential Businesses Permitted to Reopen with Reduced Capacity      3\n",
       "All Non-Essential Businesses Permitted to Reopen                            1\n",
       "Name: business_clos, dtype: int64"
      ]
     },
     "execution_count": 27,
     "metadata": {},
     "output_type": "execute_result"
    }
   ],
   "source": [
    "data['business_clos'].value_counts()"
   ]
  },
  {
   "cell_type": "code",
   "execution_count": 28,
   "metadata": {},
   "outputs": [
    {
     "name": "stderr",
     "output_type": "stream",
     "text": [
      "/Users/bibor/opt/anaconda3/lib/python3.7/site-packages/ipykernel_launcher.py:2: SettingWithCopyWarning: \n",
      "A value is trying to be set on a copy of a slice from a DataFrame\n",
      "\n",
      "See the caveats in the documentation: https://pandas.pydata.org/pandas-docs/stable/user_guide/indexing.html#returning-a-view-versus-a-copy\n",
      "  \n"
     ]
    }
   ],
   "source": [
    "# change '-' to 'No information'\n",
    "data['gathering_ban'][data['gathering_ban'] == '-'] = 'No information'"
   ]
  },
  {
   "cell_type": "code",
   "execution_count": 29,
   "metadata": {},
   "outputs": [
    {
     "data": {
      "text/plain": [
       ">10 People Prohibited                24\n",
       "All Gatherings Prohibited            13\n",
       "Lifted                                4\n",
       "Other                                 3\n",
       "No information                        2\n",
       "Expanded to 25+ People Prohibited     1\n",
       "Expanded to >10 People Prohibited     1\n",
       "Expanded to >25 People Prohibited     1\n",
       "Expanded to 50+ People Prohibited     1\n",
       "Expanded to 20+ People Prohibited     1\n",
       "Name: gathering_ban, dtype: int64"
      ]
     },
     "execution_count": 29,
     "metadata": {},
     "output_type": "execute_result"
    }
   ],
   "source": [
    "data['gathering_ban'].value_counts()"
   ]
  },
  {
   "cell_type": "code",
   "execution_count": 30,
   "metadata": {},
   "outputs": [
    {
     "data": {
      "text/plain": [
       "Closed for School Year                 36\n",
       "Closed                                  7\n",
       "Recommended Closure for School Year     6\n",
       "Rescinded                               1\n",
       "Recommended Closure                     1\n",
       "Name: school_clos, dtype: int64"
      ]
     },
     "execution_count": 30,
     "metadata": {},
     "output_type": "execute_result"
    }
   ],
   "source": [
    "data['school_clos'].value_counts()"
   ]
  },
  {
   "cell_type": "code",
   "execution_count": 31,
   "metadata": {},
   "outputs": [
    {
     "name": "stderr",
     "output_type": "stream",
     "text": [
      "/Users/bibor/opt/anaconda3/lib/python3.7/site-packages/ipykernel_launcher.py:2: SettingWithCopyWarning: \n",
      "A value is trying to be set on a copy of a slice from a DataFrame\n",
      "\n",
      "See the caveats in the documentation: https://pandas.pydata.org/pandas-docs/stable/user_guide/indexing.html#returning-a-view-versus-a-copy\n",
      "  \n"
     ]
    }
   ],
   "source": [
    "# change '-' to 'No information'\n",
    "data['rest_lims'][data['rest_lims'] == '-'] = 'No information'"
   ]
  },
  {
   "cell_type": "code",
   "execution_count": 32,
   "metadata": {},
   "outputs": [
    {
     "data": {
      "text/plain": [
       "Closed Except for Takeout/Delivery                  32\n",
       "Reopened to Dine-in Service with Capacity Limits    15\n",
       "Limited Dine-in Service                              2\n",
       "No information                                       1\n",
       "Reopened to Dine-in Service                          1\n",
       "Name: rest_lims, dtype: int64"
      ]
     },
     "execution_count": 32,
     "metadata": {},
     "output_type": "execute_result"
    }
   ],
   "source": [
    "data['rest_lims'].value_counts()"
   ]
  },
  {
   "cell_type": "markdown",
   "metadata": {},
   "source": [
    "**Change emergency_date datatype to date-time**"
   ]
  },
  {
   "cell_type": "code",
   "execution_count": 33,
   "metadata": {
    "scrolled": true
   },
   "outputs": [
    {
     "name": "stderr",
     "output_type": "stream",
     "text": [
      "/Users/bibor/opt/anaconda3/lib/python3.7/site-packages/ipykernel_launcher.py:1: SettingWithCopyWarning: \n",
      "A value is trying to be set on a copy of a slice from a DataFrame.\n",
      "Try using .loc[row_indexer,col_indexer] = value instead\n",
      "\n",
      "See the caveats in the documentation: https://pandas.pydata.org/pandas-docs/stable/user_guide/indexing.html#returning-a-view-versus-a-copy\n",
      "  \"\"\"Entry point for launching an IPython kernel.\n"
     ]
    }
   ],
   "source": [
    "data['order_date'] = pd.to_datetime(data['emergency_date'], infer_datetime_format=True)"
   ]
  },
  {
   "cell_type": "code",
   "execution_count": 34,
   "metadata": {},
   "outputs": [
    {
     "data": {
      "text/plain": [
       "dtype('O')"
      ]
     },
     "execution_count": 34,
     "metadata": {},
     "output_type": "execute_result"
    }
   ],
   "source": [
    "data['emergency_date'].dtype"
   ]
  },
  {
   "cell_type": "code",
   "execution_count": 35,
   "metadata": {},
   "outputs": [],
   "source": [
    "# save cleaned data_file\n",
    "\n",
    "data.to_csv('../data/cleaned_state_mandates.csv', index=False)"
   ]
  }
 ],
 "metadata": {
  "kernelspec": {
   "display_name": "Python 3",
   "language": "python",
   "name": "python3"
  },
  "language_info": {
   "codemirror_mode": {
    "name": "ipython",
    "version": 3
   },
   "file_extension": ".py",
   "mimetype": "text/x-python",
   "name": "python",
   "nbconvert_exporter": "python",
   "pygments_lexer": "ipython3",
   "version": "3.7.6"
  }
 },
 "nbformat": 4,
 "nbformat_minor": 4
}
