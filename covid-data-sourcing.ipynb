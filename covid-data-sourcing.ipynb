{
 "cells": [
  {
   "cell_type": "code",
   "execution_count": 1,
   "metadata": {},
   "outputs": [],
   "source": [
    "import requests\n",
    "import pandas as pd "
   ]
  },
  {
   "cell_type": "code",
   "execution_count": 2,
   "metadata": {},
   "outputs": [],
   "source": [
    "url = 'https://covidtracking.com/api/v1/states/daily.json'"
   ]
  },
  {
   "cell_type": "code",
   "execution_count": 3,
   "metadata": {},
   "outputs": [
    {
     "output_type": "execute_result",
     "data": {
      "text/plain": "200"
     },
     "metadata": {},
     "execution_count": 3
    }
   ],
   "source": [
    "req = requests.get(url)\n",
    "req.status_code"
   ]
  },
  {
   "cell_type": "code",
   "execution_count": 4,
   "metadata": {},
   "outputs": [],
   "source": [
    "covid = req.json()"
   ]
  },
  {
   "cell_type": "code",
   "execution_count": 5,
   "metadata": {},
   "outputs": [],
   "source": [
    "covid = pd.DataFrame(covid)"
   ]
  },
  {
   "cell_type": "code",
   "execution_count": 6,
   "metadata": {},
   "outputs": [
    {
     "output_type": "execute_result",
     "data": {
      "text/plain": "       date state  positive  negative  pending  hospitalizedCurrently  \\\n0  20200511    AK     381.0   28299.0      NaN                    7.0   \n1  20200511    AL   10009.0  119435.0      NaN                    NaN   \n2  20200511    AR    4034.0   64996.0      NaN                   61.0   \n3  20200511    AS       0.0     105.0      NaN                    NaN   \n4  20200511    AZ   11380.0  138861.0      NaN                  717.0   \n\n   hospitalizedCumulative  inIcuCurrently  inIcuCumulative  \\\n0                     NaN             NaN              NaN   \n1                  1256.0             NaN            463.0   \n2                   480.0             NaN              NaN   \n3                     NaN             NaN              NaN   \n4                  1537.0           297.0              NaN   \n\n   onVentilatorCurrently  ...  hospitalized   total totalTestResults  posNeg  \\\n0                    NaN  ...           NaN   28680            28680   28680   \n1                    NaN  ...        1256.0  129444           129444  129444   \n2                   11.0  ...         480.0   69030            69030   69030   \n3                    NaN  ...           NaN     105              105     105   \n4                  201.0  ...        1537.0  150241           150241  150241   \n\n  fips deathIncrease  hospitalizedIncrease  negativeIncrease  \\\n0   02           0.0                   0.0            1314.0   \n1   01           8.0                  16.0            1791.0   \n2   05           6.0                   9.0            3215.0   \n3   60           0.0                   0.0              22.0   \n4   04           6.0                   9.0           12241.0   \n\n   positiveIncrease  totalTestResultsIncrease  \n0               2.0                    1316.0  \n1             232.0                    2023.0  \n2             287.0                    3502.0  \n3               0.0                      22.0  \n4             261.0                   12502.0  \n\n[5 rows x 27 columns]",
      "text/html": "<div>\n<style scoped>\n    .dataframe tbody tr th:only-of-type {\n        vertical-align: middle;\n    }\n\n    .dataframe tbody tr th {\n        vertical-align: top;\n    }\n\n    .dataframe thead th {\n        text-align: right;\n    }\n</style>\n<table border=\"1\" class=\"dataframe\">\n  <thead>\n    <tr style=\"text-align: right;\">\n      <th></th>\n      <th>date</th>\n      <th>state</th>\n      <th>positive</th>\n      <th>negative</th>\n      <th>pending</th>\n      <th>hospitalizedCurrently</th>\n      <th>hospitalizedCumulative</th>\n      <th>inIcuCurrently</th>\n      <th>inIcuCumulative</th>\n      <th>onVentilatorCurrently</th>\n      <th>...</th>\n      <th>hospitalized</th>\n      <th>total</th>\n      <th>totalTestResults</th>\n      <th>posNeg</th>\n      <th>fips</th>\n      <th>deathIncrease</th>\n      <th>hospitalizedIncrease</th>\n      <th>negativeIncrease</th>\n      <th>positiveIncrease</th>\n      <th>totalTestResultsIncrease</th>\n    </tr>\n  </thead>\n  <tbody>\n    <tr>\n      <th>0</th>\n      <td>20200511</td>\n      <td>AK</td>\n      <td>381.0</td>\n      <td>28299.0</td>\n      <td>NaN</td>\n      <td>7.0</td>\n      <td>NaN</td>\n      <td>NaN</td>\n      <td>NaN</td>\n      <td>NaN</td>\n      <td>...</td>\n      <td>NaN</td>\n      <td>28680</td>\n      <td>28680</td>\n      <td>28680</td>\n      <td>02</td>\n      <td>0.0</td>\n      <td>0.0</td>\n      <td>1314.0</td>\n      <td>2.0</td>\n      <td>1316.0</td>\n    </tr>\n    <tr>\n      <th>1</th>\n      <td>20200511</td>\n      <td>AL</td>\n      <td>10009.0</td>\n      <td>119435.0</td>\n      <td>NaN</td>\n      <td>NaN</td>\n      <td>1256.0</td>\n      <td>NaN</td>\n      <td>463.0</td>\n      <td>NaN</td>\n      <td>...</td>\n      <td>1256.0</td>\n      <td>129444</td>\n      <td>129444</td>\n      <td>129444</td>\n      <td>01</td>\n      <td>8.0</td>\n      <td>16.0</td>\n      <td>1791.0</td>\n      <td>232.0</td>\n      <td>2023.0</td>\n    </tr>\n    <tr>\n      <th>2</th>\n      <td>20200511</td>\n      <td>AR</td>\n      <td>4034.0</td>\n      <td>64996.0</td>\n      <td>NaN</td>\n      <td>61.0</td>\n      <td>480.0</td>\n      <td>NaN</td>\n      <td>NaN</td>\n      <td>11.0</td>\n      <td>...</td>\n      <td>480.0</td>\n      <td>69030</td>\n      <td>69030</td>\n      <td>69030</td>\n      <td>05</td>\n      <td>6.0</td>\n      <td>9.0</td>\n      <td>3215.0</td>\n      <td>287.0</td>\n      <td>3502.0</td>\n    </tr>\n    <tr>\n      <th>3</th>\n      <td>20200511</td>\n      <td>AS</td>\n      <td>0.0</td>\n      <td>105.0</td>\n      <td>NaN</td>\n      <td>NaN</td>\n      <td>NaN</td>\n      <td>NaN</td>\n      <td>NaN</td>\n      <td>NaN</td>\n      <td>...</td>\n      <td>NaN</td>\n      <td>105</td>\n      <td>105</td>\n      <td>105</td>\n      <td>60</td>\n      <td>0.0</td>\n      <td>0.0</td>\n      <td>22.0</td>\n      <td>0.0</td>\n      <td>22.0</td>\n    </tr>\n    <tr>\n      <th>4</th>\n      <td>20200511</td>\n      <td>AZ</td>\n      <td>11380.0</td>\n      <td>138861.0</td>\n      <td>NaN</td>\n      <td>717.0</td>\n      <td>1537.0</td>\n      <td>297.0</td>\n      <td>NaN</td>\n      <td>201.0</td>\n      <td>...</td>\n      <td>1537.0</td>\n      <td>150241</td>\n      <td>150241</td>\n      <td>150241</td>\n      <td>04</td>\n      <td>6.0</td>\n      <td>9.0</td>\n      <td>12241.0</td>\n      <td>261.0</td>\n      <td>12502.0</td>\n    </tr>\n  </tbody>\n</table>\n<p>5 rows × 27 columns</p>\n</div>"
     },
     "metadata": {},
     "execution_count": 6
    }
   ],
   "source": [
    "covid.head()"
   ]
  },
  {
   "cell_type": "code",
   "execution_count": 7,
   "metadata": {},
   "outputs": [
    {
     "output_type": "execute_result",
     "data": {
      "text/plain": "(3769, 27)"
     },
     "metadata": {},
     "execution_count": 7
    }
   ],
   "source": [
    "covid.shape"
   ]
  },
  {
   "cell_type": "code",
   "execution_count": 8,
   "metadata": {},
   "outputs": [],
   "source": [
    "covid.to_csv('covid-daily.csv', index=False)"
   ]
  },
  {
   "cell_type": "code",
   "execution_count": null,
   "metadata": {},
   "outputs": [],
   "source": []
  },
  {
   "cell_type": "code",
   "execution_count": null,
   "metadata": {},
   "outputs": [],
   "source": []
  },
  {
   "cell_type": "code",
   "execution_count": null,
   "metadata": {},
   "outputs": [],
   "source": []
  },
  {
   "cell_type": "code",
   "execution_count": null,
   "metadata": {},
   "outputs": [],
   "source": []
  },
  {
   "cell_type": "code",
   "execution_count": null,
   "metadata": {},
   "outputs": [],
   "source": []
  }
 ],
 "metadata": {
  "language_info": {
   "codemirror_mode": {
    "name": "ipython",
    "version": 3
   },
   "file_extension": ".py",
   "mimetype": "text/x-python",
   "name": "python",
   "nbconvert_exporter": "python",
   "pygments_lexer": "ipython3",
   "version": "3.7.6-final"
  },
  "orig_nbformat": 2,
  "kernelspec": {
   "name": "python3",
   "display_name": "Python 3"
  }
 },
 "nbformat": 4,
 "nbformat_minor": 2
}