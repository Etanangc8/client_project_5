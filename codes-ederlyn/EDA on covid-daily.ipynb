{
 "cells": [
  {
   "cell_type": "markdown",
   "metadata": {},
   "source": [
    "# (Scrap sheet) Testing EDA graphs on COVID Data pull"
   ]
  },
  {
   "cell_type": "markdown",
   "metadata": {},
   "source": [
    "COVID-daily data was aggregated data. The data being reported per state was difficult to filter and read to create a meaningful graph. (Attempts below)  "
   ]
  },
  {
   "cell_type": "code",
   "execution_count": 1,
   "metadata": {},
   "outputs": [
    {
     "name": "stderr",
     "output_type": "stream",
     "text": [
      "\n",
      "Bad key \"text.kerning_factor\" on line 4 in\n",
      "/Users/EderlynT/opt/anaconda3/envs/dsi/lib/python3.7/site-packages/matplotlib/mpl-data/stylelib/_classic_test_patch.mplstyle.\n",
      "You probably need to get an updated matplotlibrc file from\n",
      "https://github.com/matplotlib/matplotlib/blob/v3.1.3/matplotlibrc.template\n",
      "or from the matplotlib source distribution\n"
     ]
    }
   ],
   "source": [
    "import pandas as pd\n",
    "import numpy as np\n",
    "import seaborn as sns\n",
    "import matplotlib.pyplot as plt\n",
    "\n",
    "import warnings\n",
    "warnings.filterwarnings(\"ignore\")"
   ]
  },
  {
   "cell_type": "code",
   "execution_count": 179,
   "metadata": {},
   "outputs": [
    {
     "data": {
      "text/html": [
       "<div>\n",
       "<style scoped>\n",
       "    .dataframe tbody tr th:only-of-type {\n",
       "        vertical-align: middle;\n",
       "    }\n",
       "\n",
       "    .dataframe tbody tr th {\n",
       "        vertical-align: top;\n",
       "    }\n",
       "\n",
       "    .dataframe thead th {\n",
       "        text-align: right;\n",
       "    }\n",
       "</style>\n",
       "<table border=\"1\" class=\"dataframe\">\n",
       "  <thead>\n",
       "    <tr style=\"text-align: right;\">\n",
       "      <th></th>\n",
       "      <th>date</th>\n",
       "      <th>state</th>\n",
       "      <th>positive</th>\n",
       "      <th>negative</th>\n",
       "      <th>pending</th>\n",
       "      <th>hospitalizedCurrently</th>\n",
       "      <th>hospitalizedCumulative</th>\n",
       "      <th>inIcuCurrently</th>\n",
       "      <th>inIcuCumulative</th>\n",
       "      <th>onVentilatorCurrently</th>\n",
       "      <th>...</th>\n",
       "      <th>hospitalized</th>\n",
       "      <th>total</th>\n",
       "      <th>totalTestResults</th>\n",
       "      <th>posNeg</th>\n",
       "      <th>fips</th>\n",
       "      <th>deathIncrease</th>\n",
       "      <th>hospitalizedIncrease</th>\n",
       "      <th>negativeIncrease</th>\n",
       "      <th>positiveIncrease</th>\n",
       "      <th>totalTestResultsIncrease</th>\n",
       "    </tr>\n",
       "  </thead>\n",
       "  <tbody>\n",
       "    <tr>\n",
       "      <th>3764</th>\n",
       "      <td>20200126</td>\n",
       "      <td>WA</td>\n",
       "      <td>1.0</td>\n",
       "      <td>NaN</td>\n",
       "      <td>NaN</td>\n",
       "      <td>NaN</td>\n",
       "      <td>NaN</td>\n",
       "      <td>NaN</td>\n",
       "      <td>NaN</td>\n",
       "      <td>NaN</td>\n",
       "      <td>...</td>\n",
       "      <td>NaN</td>\n",
       "      <td>1</td>\n",
       "      <td>1</td>\n",
       "      <td>1</td>\n",
       "      <td>53</td>\n",
       "      <td>0.0</td>\n",
       "      <td>0.0</td>\n",
       "      <td>0.0</td>\n",
       "      <td>0.0</td>\n",
       "      <td>0.0</td>\n",
       "    </tr>\n",
       "    <tr>\n",
       "      <th>3765</th>\n",
       "      <td>20200125</td>\n",
       "      <td>WA</td>\n",
       "      <td>1.0</td>\n",
       "      <td>NaN</td>\n",
       "      <td>NaN</td>\n",
       "      <td>NaN</td>\n",
       "      <td>NaN</td>\n",
       "      <td>NaN</td>\n",
       "      <td>NaN</td>\n",
       "      <td>NaN</td>\n",
       "      <td>...</td>\n",
       "      <td>NaN</td>\n",
       "      <td>1</td>\n",
       "      <td>1</td>\n",
       "      <td>1</td>\n",
       "      <td>53</td>\n",
       "      <td>0.0</td>\n",
       "      <td>0.0</td>\n",
       "      <td>0.0</td>\n",
       "      <td>0.0</td>\n",
       "      <td>0.0</td>\n",
       "    </tr>\n",
       "    <tr>\n",
       "      <th>3766</th>\n",
       "      <td>20200124</td>\n",
       "      <td>WA</td>\n",
       "      <td>1.0</td>\n",
       "      <td>NaN</td>\n",
       "      <td>NaN</td>\n",
       "      <td>NaN</td>\n",
       "      <td>NaN</td>\n",
       "      <td>NaN</td>\n",
       "      <td>NaN</td>\n",
       "      <td>NaN</td>\n",
       "      <td>...</td>\n",
       "      <td>NaN</td>\n",
       "      <td>1</td>\n",
       "      <td>1</td>\n",
       "      <td>1</td>\n",
       "      <td>53</td>\n",
       "      <td>0.0</td>\n",
       "      <td>0.0</td>\n",
       "      <td>0.0</td>\n",
       "      <td>0.0</td>\n",
       "      <td>0.0</td>\n",
       "    </tr>\n",
       "    <tr>\n",
       "      <th>3767</th>\n",
       "      <td>20200123</td>\n",
       "      <td>WA</td>\n",
       "      <td>1.0</td>\n",
       "      <td>NaN</td>\n",
       "      <td>NaN</td>\n",
       "      <td>NaN</td>\n",
       "      <td>NaN</td>\n",
       "      <td>NaN</td>\n",
       "      <td>NaN</td>\n",
       "      <td>NaN</td>\n",
       "      <td>...</td>\n",
       "      <td>NaN</td>\n",
       "      <td>1</td>\n",
       "      <td>1</td>\n",
       "      <td>1</td>\n",
       "      <td>53</td>\n",
       "      <td>0.0</td>\n",
       "      <td>0.0</td>\n",
       "      <td>0.0</td>\n",
       "      <td>0.0</td>\n",
       "      <td>0.0</td>\n",
       "    </tr>\n",
       "    <tr>\n",
       "      <th>3768</th>\n",
       "      <td>20200122</td>\n",
       "      <td>WA</td>\n",
       "      <td>1.0</td>\n",
       "      <td>NaN</td>\n",
       "      <td>NaN</td>\n",
       "      <td>NaN</td>\n",
       "      <td>NaN</td>\n",
       "      <td>NaN</td>\n",
       "      <td>NaN</td>\n",
       "      <td>NaN</td>\n",
       "      <td>...</td>\n",
       "      <td>NaN</td>\n",
       "      <td>1</td>\n",
       "      <td>1</td>\n",
       "      <td>1</td>\n",
       "      <td>53</td>\n",
       "      <td>NaN</td>\n",
       "      <td>NaN</td>\n",
       "      <td>NaN</td>\n",
       "      <td>NaN</td>\n",
       "      <td>NaN</td>\n",
       "    </tr>\n",
       "  </tbody>\n",
       "</table>\n",
       "<p>5 rows × 27 columns</p>\n",
       "</div>"
      ],
      "text/plain": [
       "          date state  positive  negative  pending  hospitalizedCurrently  \\\n",
       "3764  20200126    WA       1.0       NaN      NaN                    NaN   \n",
       "3765  20200125    WA       1.0       NaN      NaN                    NaN   \n",
       "3766  20200124    WA       1.0       NaN      NaN                    NaN   \n",
       "3767  20200123    WA       1.0       NaN      NaN                    NaN   \n",
       "3768  20200122    WA       1.0       NaN      NaN                    NaN   \n",
       "\n",
       "      hospitalizedCumulative  inIcuCurrently  inIcuCumulative  \\\n",
       "3764                     NaN             NaN              NaN   \n",
       "3765                     NaN             NaN              NaN   \n",
       "3766                     NaN             NaN              NaN   \n",
       "3767                     NaN             NaN              NaN   \n",
       "3768                     NaN             NaN              NaN   \n",
       "\n",
       "      onVentilatorCurrently  ...  hospitalized  total totalTestResults posNeg  \\\n",
       "3764                    NaN  ...           NaN      1                1      1   \n",
       "3765                    NaN  ...           NaN      1                1      1   \n",
       "3766                    NaN  ...           NaN      1                1      1   \n",
       "3767                    NaN  ...           NaN      1                1      1   \n",
       "3768                    NaN  ...           NaN      1                1      1   \n",
       "\n",
       "     fips deathIncrease  hospitalizedIncrease  negativeIncrease  \\\n",
       "3764   53           0.0                   0.0               0.0   \n",
       "3765   53           0.0                   0.0               0.0   \n",
       "3766   53           0.0                   0.0               0.0   \n",
       "3767   53           0.0                   0.0               0.0   \n",
       "3768   53           NaN                   NaN               NaN   \n",
       "\n",
       "      positiveIncrease  totalTestResultsIncrease  \n",
       "3764               0.0                       0.0  \n",
       "3765               0.0                       0.0  \n",
       "3766               0.0                       0.0  \n",
       "3767               0.0                       0.0  \n",
       "3768               NaN                       NaN  \n",
       "\n",
       "[5 rows x 27 columns]"
      ]
     },
     "execution_count": 179,
     "metadata": {},
     "output_type": "execute_result"
    }
   ],
   "source": [
    "daily = pd.read_csv('../covid-daily.csv')\n",
    "daily.tail()"
   ]
  },
  {
   "cell_type": "code",
   "execution_count": 180,
   "metadata": {},
   "outputs": [
    {
     "data": {
      "text/html": [
       "<div>\n",
       "<style scoped>\n",
       "    .dataframe tbody tr th:only-of-type {\n",
       "        vertical-align: middle;\n",
       "    }\n",
       "\n",
       "    .dataframe tbody tr th {\n",
       "        vertical-align: top;\n",
       "    }\n",
       "\n",
       "    .dataframe thead th {\n",
       "        text-align: right;\n",
       "    }\n",
       "</style>\n",
       "<table border=\"1\" class=\"dataframe\">\n",
       "  <thead>\n",
       "    <tr style=\"text-align: right;\">\n",
       "      <th></th>\n",
       "      <th>state</th>\n",
       "      <th>easing_soc_dist</th>\n",
       "      <th>stay_home_ord</th>\n",
       "      <th>traveler_quarant</th>\n",
       "      <th>business_clos</th>\n",
       "      <th>gathering_ban</th>\n",
       "      <th>school_clos</th>\n",
       "      <th>rest_lims</th>\n",
       "      <th>primaries</th>\n",
       "      <th>emergency_date</th>\n",
       "      <th>emergency</th>\n",
       "      <th>order_date</th>\n",
       "      <th>shelter_in_place</th>\n",
       "      <th>state_abbr</th>\n",
       "    </tr>\n",
       "  </thead>\n",
       "  <tbody>\n",
       "    <tr>\n",
       "      <th>0</th>\n",
       "      <td>Alabama</td>\n",
       "      <td>1</td>\n",
       "      <td>Lifted</td>\n",
       "      <td>No information</td>\n",
       "      <td>Some Non-Essential Businesses Permitted to Reo...</td>\n",
       "      <td>&gt;10 People Prohibited</td>\n",
       "      <td>Closed for School Year</td>\n",
       "      <td>Closed Except for Takeout/Delivery</td>\n",
       "      <td>Unchanged</td>\n",
       "      <td>2020-03-13</td>\n",
       "      <td>Yes</td>\n",
       "      <td>2020-03-13</td>\n",
       "      <td>1.0</td>\n",
       "      <td>AL</td>\n",
       "    </tr>\n",
       "    <tr>\n",
       "      <th>1</th>\n",
       "      <td>Alaska</td>\n",
       "      <td>1</td>\n",
       "      <td>Lifted</td>\n",
       "      <td>All Travelers</td>\n",
       "      <td>All Non-Essential Businesses Permitted to Reop...</td>\n",
       "      <td>Expanded to 50+ People Prohibited</td>\n",
       "      <td>Closed for School Year</td>\n",
       "      <td>Reopened to Dine-in Service with Capacity Limits</td>\n",
       "      <td>Remote</td>\n",
       "      <td>2020-03-11</td>\n",
       "      <td>Yes</td>\n",
       "      <td>2020-03-11</td>\n",
       "      <td>1.0</td>\n",
       "      <td>AK</td>\n",
       "    </tr>\n",
       "    <tr>\n",
       "      <th>2</th>\n",
       "      <td>Arizona</td>\n",
       "      <td>1</td>\n",
       "      <td>Statewide</td>\n",
       "      <td>From Certain States</td>\n",
       "      <td>Some Non-Essential Businesses Permitted to Reo...</td>\n",
       "      <td>&gt;10 People Prohibited</td>\n",
       "      <td>Closed for School Year</td>\n",
       "      <td>Closed Except for Takeout/Delivery</td>\n",
       "      <td>Unchanged</td>\n",
       "      <td>2020-03-11</td>\n",
       "      <td>Yes</td>\n",
       "      <td>2020-03-11</td>\n",
       "      <td>1.0</td>\n",
       "      <td>AZ</td>\n",
       "    </tr>\n",
       "    <tr>\n",
       "      <th>3</th>\n",
       "      <td>Arkansas</td>\n",
       "      <td>1</td>\n",
       "      <td>No</td>\n",
       "      <td>No information</td>\n",
       "      <td>Some Non-Essential Businesses Permitted to Reo...</td>\n",
       "      <td>&gt;10 People Prohibited</td>\n",
       "      <td>Closed for School Year</td>\n",
       "      <td>Closed Except for Takeout/Delivery</td>\n",
       "      <td>Unchanged</td>\n",
       "      <td>2020-03-11</td>\n",
       "      <td>Yes</td>\n",
       "      <td>2020-03-11</td>\n",
       "      <td>0.0</td>\n",
       "      <td>AR</td>\n",
       "    </tr>\n",
       "    <tr>\n",
       "      <th>4</th>\n",
       "      <td>California</td>\n",
       "      <td>1</td>\n",
       "      <td>Statewide</td>\n",
       "      <td>No information</td>\n",
       "      <td>Some Non-Essential Businesses Permitted to Reo...</td>\n",
       "      <td>All Gatherings Prohibited</td>\n",
       "      <td>Recommended Closure for School Year</td>\n",
       "      <td>Closed Except for Takeout/Delivery</td>\n",
       "      <td>Unchanged</td>\n",
       "      <td>2020-03-04</td>\n",
       "      <td>Yes</td>\n",
       "      <td>2020-03-04</td>\n",
       "      <td>1.0</td>\n",
       "      <td>CA</td>\n",
       "    </tr>\n",
       "  </tbody>\n",
       "</table>\n",
       "</div>"
      ],
      "text/plain": [
       "        state  easing_soc_dist stay_home_ord     traveler_quarant  \\\n",
       "0     Alabama                1        Lifted       No information   \n",
       "1      Alaska                1        Lifted        All Travelers   \n",
       "2     Arizona                1     Statewide  From Certain States   \n",
       "3    Arkansas                1            No       No information   \n",
       "4  California                1     Statewide       No information   \n",
       "\n",
       "                                       business_clos  \\\n",
       "0  Some Non-Essential Businesses Permitted to Reo...   \n",
       "1  All Non-Essential Businesses Permitted to Reop...   \n",
       "2  Some Non-Essential Businesses Permitted to Reo...   \n",
       "3  Some Non-Essential Businesses Permitted to Reo...   \n",
       "4  Some Non-Essential Businesses Permitted to Reo...   \n",
       "\n",
       "                       gathering_ban                          school_clos  \\\n",
       "0              >10 People Prohibited               Closed for School Year   \n",
       "1  Expanded to 50+ People Prohibited               Closed for School Year   \n",
       "2              >10 People Prohibited               Closed for School Year   \n",
       "3              >10 People Prohibited               Closed for School Year   \n",
       "4          All Gatherings Prohibited  Recommended Closure for School Year   \n",
       "\n",
       "                                          rest_lims  primaries emergency_date  \\\n",
       "0                Closed Except for Takeout/Delivery  Unchanged     2020-03-13   \n",
       "1  Reopened to Dine-in Service with Capacity Limits     Remote     2020-03-11   \n",
       "2                Closed Except for Takeout/Delivery  Unchanged     2020-03-11   \n",
       "3                Closed Except for Takeout/Delivery  Unchanged     2020-03-11   \n",
       "4                Closed Except for Takeout/Delivery  Unchanged     2020-03-04   \n",
       "\n",
       "  emergency  order_date  shelter_in_place state_abbr  \n",
       "0       Yes  2020-03-13               1.0         AL  \n",
       "1       Yes  2020-03-11               1.0         AK  \n",
       "2       Yes  2020-03-11               1.0         AZ  \n",
       "3       Yes  2020-03-11               0.0         AR  \n",
       "4       Yes  2020-03-04               1.0         CA  "
      ]
     },
     "execution_count": 180,
     "metadata": {},
     "output_type": "execute_result"
    }
   ],
   "source": [
    "state = pd.read_csv('../data/cleaned_state_mandates.csv')\n",
    "state.head()"
   ]
  },
  {
   "cell_type": "code",
   "execution_count": 5,
   "metadata": {},
   "outputs": [
    {
     "data": {
      "text/plain": [
       "date                           0\n",
       "state                          0\n",
       "positive                      15\n",
       "negative                     187\n",
       "pending                     3045\n",
       "hospitalizedCurrently       2249\n",
       "hospitalizedCumulative      2269\n",
       "inIcuCurrently              2990\n",
       "inIcuCumulative             3456\n",
       "onVentilatorCurrently       3142\n",
       "onVentilatorCumulative      3667\n",
       "recovered                   2403\n",
       "dataQualityGrade            2820\n",
       "lastUpdateEt                 373\n",
       "hash                           0\n",
       "dateChecked                    0\n",
       "death                        726\n",
       "hospitalized                2269\n",
       "total                          0\n",
       "totalTestResults               0\n",
       "posNeg                         0\n",
       "fips                           0\n",
       "deathIncrease                 56\n",
       "hospitalizedIncrease          56\n",
       "negativeIncrease              56\n",
       "positiveIncrease              56\n",
       "totalTestResultsIncrease      56\n",
       "dtype: int64"
      ]
     },
     "execution_count": 5,
     "metadata": {},
     "output_type": "execute_result"
    }
   ],
   "source": [
    "daily.isnull().sum()"
   ]
  },
  {
   "cell_type": "code",
   "execution_count": 181,
   "metadata": {},
   "outputs": [],
   "source": [
    "daily = daily.dropna(subset=['deathIncrease', 'hospitalizedIncrease', 'negativeIncrease', 'positiveIncrease'])\n"
   ]
  },
  {
   "cell_type": "code",
   "execution_count": 182,
   "metadata": {},
   "outputs": [
    {
     "data": {
      "text/plain": [
       "date                           0\n",
       "state                          0\n",
       "positive                      14\n",
       "negative                     164\n",
       "pending                     3011\n",
       "hospitalizedCurrently       2193\n",
       "hospitalizedCumulative      2213\n",
       "inIcuCurrently              2934\n",
       "inIcuCumulative             3400\n",
       "onVentilatorCurrently       3086\n",
       "onVentilatorCumulative      3611\n",
       "recovered                   2347\n",
       "dataQualityGrade            2764\n",
       "lastUpdateEt                 323\n",
       "hash                           0\n",
       "dateChecked                    0\n",
       "death                        671\n",
       "hospitalized                2213\n",
       "total                          0\n",
       "totalTestResults               0\n",
       "posNeg                         0\n",
       "fips                           0\n",
       "deathIncrease                  0\n",
       "hospitalizedIncrease           0\n",
       "negativeIncrease               0\n",
       "positiveIncrease               0\n",
       "totalTestResultsIncrease       0\n",
       "dtype: int64"
      ]
     },
     "execution_count": 182,
     "metadata": {},
     "output_type": "execute_result"
    }
   ],
   "source": [
    "daily.isnull().sum()"
   ]
  },
  {
   "cell_type": "code",
   "execution_count": 117,
   "metadata": {},
   "outputs": [
    {
     "data": {
      "text/plain": [
       "(3713, 27)"
      ]
     },
     "execution_count": 117,
     "metadata": {},
     "output_type": "execute_result"
    }
   ],
   "source": [
    "daily.shape"
   ]
  },
  {
   "cell_type": "code",
   "execution_count": 8,
   "metadata": {
    "scrolled": true
   },
   "outputs": [
    {
     "data": {
      "text/html": [
       "<div>\n",
       "<style scoped>\n",
       "    .dataframe tbody tr th:only-of-type {\n",
       "        vertical-align: middle;\n",
       "    }\n",
       "\n",
       "    .dataframe tbody tr th {\n",
       "        vertical-align: top;\n",
       "    }\n",
       "\n",
       "    .dataframe thead th {\n",
       "        text-align: right;\n",
       "    }\n",
       "</style>\n",
       "<table border=\"1\" class=\"dataframe\">\n",
       "  <thead>\n",
       "    <tr style=\"text-align: right;\">\n",
       "      <th></th>\n",
       "      <th>date</th>\n",
       "      <th>positive</th>\n",
       "      <th>negative</th>\n",
       "      <th>pending</th>\n",
       "      <th>hospitalizedCurrently</th>\n",
       "      <th>hospitalizedCumulative</th>\n",
       "      <th>inIcuCurrently</th>\n",
       "      <th>inIcuCumulative</th>\n",
       "      <th>onVentilatorCurrently</th>\n",
       "      <th>onVentilatorCumulative</th>\n",
       "      <th>...</th>\n",
       "      <th>hospitalized</th>\n",
       "      <th>total</th>\n",
       "      <th>totalTestResults</th>\n",
       "      <th>posNeg</th>\n",
       "      <th>fips</th>\n",
       "      <th>deathIncrease</th>\n",
       "      <th>hospitalizedIncrease</th>\n",
       "      <th>negativeIncrease</th>\n",
       "      <th>positiveIncrease</th>\n",
       "      <th>totalTestResultsIncrease</th>\n",
       "    </tr>\n",
       "  </thead>\n",
       "  <tbody>\n",
       "    <tr>\n",
       "      <th>count</th>\n",
       "      <td>3.713000e+03</td>\n",
       "      <td>3699.000000</td>\n",
       "      <td>3549.000000</td>\n",
       "      <td>702.000000</td>\n",
       "      <td>1520.000000</td>\n",
       "      <td>1500.000000</td>\n",
       "      <td>779.000000</td>\n",
       "      <td>313.000000</td>\n",
       "      <td>627.000000</td>\n",
       "      <td>102.000000</td>\n",
       "      <td>...</td>\n",
       "      <td>1500.000000</td>\n",
       "      <td>3.713000e+03</td>\n",
       "      <td>3.713000e+03</td>\n",
       "      <td>3.713000e+03</td>\n",
       "      <td>3713.000000</td>\n",
       "      <td>3713.000000</td>\n",
       "      <td>3713.000000</td>\n",
       "      <td>3713.000000</td>\n",
       "      <td>3713.000000</td>\n",
       "      <td>3713.000000</td>\n",
       "    </tr>\n",
       "    <tr>\n",
       "      <th>mean</th>\n",
       "      <td>2.020039e+07</td>\n",
       "      <td>9183.234928</td>\n",
       "      <td>46374.805861</td>\n",
       "      <td>1416.243590</td>\n",
       "      <td>1388.394737</td>\n",
       "      <td>2482.258000</td>\n",
       "      <td>611.546855</td>\n",
       "      <td>369.051118</td>\n",
       "      <td>319.942584</td>\n",
       "      <td>106.598039</td>\n",
       "      <td>...</td>\n",
       "      <td>2482.258000</td>\n",
       "      <td>5.374284e+04</td>\n",
       "      <td>5.347508e+04</td>\n",
       "      <td>5.347508e+04</td>\n",
       "      <td>32.292755</td>\n",
       "      <td>20.228117</td>\n",
       "      <td>40.994883</td>\n",
       "      <td>2168.085914</td>\n",
       "      <td>360.974414</td>\n",
       "      <td>2526.552114</td>\n",
       "    </tr>\n",
       "    <tr>\n",
       "      <th>std</th>\n",
       "      <td>6.972279e+01</td>\n",
       "      <td>29476.630652</td>\n",
       "      <td>90972.178797</td>\n",
       "      <td>7240.557601</td>\n",
       "      <td>2670.929690</td>\n",
       "      <td>8999.758521</td>\n",
       "      <td>954.991384</td>\n",
       "      <td>352.876055</td>\n",
       "      <td>428.955917</td>\n",
       "      <td>67.344285</td>\n",
       "      <td>...</td>\n",
       "      <td>8999.758521</td>\n",
       "      <td>1.130587e+05</td>\n",
       "      <td>1.129733e+05</td>\n",
       "      <td>1.129733e+05</td>\n",
       "      <td>18.546182</td>\n",
       "      <td>67.173624</td>\n",
       "      <td>249.707475</td>\n",
       "      <td>5192.979773</td>\n",
       "      <td>935.433820</td>\n",
       "      <td>5681.638602</td>\n",
       "    </tr>\n",
       "    <tr>\n",
       "      <th>min</th>\n",
       "      <td>2.020012e+07</td>\n",
       "      <td>0.000000</td>\n",
       "      <td>0.000000</td>\n",
       "      <td>0.000000</td>\n",
       "      <td>2.000000</td>\n",
       "      <td>0.000000</td>\n",
       "      <td>2.000000</td>\n",
       "      <td>6.000000</td>\n",
       "      <td>0.000000</td>\n",
       "      <td>2.000000</td>\n",
       "      <td>...</td>\n",
       "      <td>0.000000</td>\n",
       "      <td>0.000000e+00</td>\n",
       "      <td>0.000000e+00</td>\n",
       "      <td>0.000000e+00</td>\n",
       "      <td>1.000000</td>\n",
       "      <td>-201.000000</td>\n",
       "      <td>-181.000000</td>\n",
       "      <td>-5174.000000</td>\n",
       "      <td>-383.000000</td>\n",
       "      <td>-9269.000000</td>\n",
       "    </tr>\n",
       "    <tr>\n",
       "      <th>25%</th>\n",
       "      <td>2.020032e+07</td>\n",
       "      <td>88.000000</td>\n",
       "      <td>1378.000000</td>\n",
       "      <td>10.000000</td>\n",
       "      <td>86.000000</td>\n",
       "      <td>101.750000</td>\n",
       "      <td>91.500000</td>\n",
       "      <td>86.000000</td>\n",
       "      <td>28.500000</td>\n",
       "      <td>57.000000</td>\n",
       "      <td>...</td>\n",
       "      <td>101.750000</td>\n",
       "      <td>9.950000e+02</td>\n",
       "      <td>9.140000e+02</td>\n",
       "      <td>9.140000e+02</td>\n",
       "      <td>17.000000</td>\n",
       "      <td>0.000000</td>\n",
       "      <td>0.000000</td>\n",
       "      <td>25.000000</td>\n",
       "      <td>7.000000</td>\n",
       "      <td>62.000000</td>\n",
       "    </tr>\n",
       "    <tr>\n",
       "      <th>50%</th>\n",
       "      <td>2.020041e+07</td>\n",
       "      <td>1101.000000</td>\n",
       "      <td>14957.000000</td>\n",
       "      <td>52.000000</td>\n",
       "      <td>371.000000</td>\n",
       "      <td>427.500000</td>\n",
       "      <td>166.000000</td>\n",
       "      <td>260.000000</td>\n",
       "      <td>137.000000</td>\n",
       "      <td>95.000000</td>\n",
       "      <td>...</td>\n",
       "      <td>427.500000</td>\n",
       "      <td>1.482400e+04</td>\n",
       "      <td>1.479400e+04</td>\n",
       "      <td>1.479400e+04</td>\n",
       "      <td>32.000000</td>\n",
       "      <td>2.000000</td>\n",
       "      <td>0.000000</td>\n",
       "      <td>598.000000</td>\n",
       "      <td>72.000000</td>\n",
       "      <td>698.000000</td>\n",
       "    </tr>\n",
       "    <tr>\n",
       "      <th>75%</th>\n",
       "      <td>2.020042e+07</td>\n",
       "      <td>6080.000000</td>\n",
       "      <td>51075.000000</td>\n",
       "      <td>370.750000</td>\n",
       "      <td>1514.250000</td>\n",
       "      <td>1265.250000</td>\n",
       "      <td>876.500000</td>\n",
       "      <td>514.000000</td>\n",
       "      <td>497.000000</td>\n",
       "      <td>136.250000</td>\n",
       "      <td>...</td>\n",
       "      <td>1265.250000</td>\n",
       "      <td>5.659700e+04</td>\n",
       "      <td>5.576400e+04</td>\n",
       "      <td>5.576400e+04</td>\n",
       "      <td>46.000000</td>\n",
       "      <td>11.000000</td>\n",
       "      <td>7.000000</td>\n",
       "      <td>2351.000000</td>\n",
       "      <td>310.000000</td>\n",
       "      <td>2730.000000</td>\n",
       "    </tr>\n",
       "    <tr>\n",
       "      <th>max</th>\n",
       "      <td>2.020051e+07</td>\n",
       "      <td>337055.000000</td>\n",
       "      <td>923958.000000</td>\n",
       "      <td>64400.000000</td>\n",
       "      <td>18825.000000</td>\n",
       "      <td>73143.000000</td>\n",
       "      <td>5225.000000</td>\n",
       "      <td>1414.000000</td>\n",
       "      <td>2425.000000</td>\n",
       "      <td>276.000000</td>\n",
       "      <td>...</td>\n",
       "      <td>73143.000000</td>\n",
       "      <td>1.204651e+06</td>\n",
       "      <td>1.204651e+06</td>\n",
       "      <td>1.204651e+06</td>\n",
       "      <td>78.000000</td>\n",
       "      <td>951.000000</td>\n",
       "      <td>7758.000000</td>\n",
       "      <td>163092.000000</td>\n",
       "      <td>11571.000000</td>\n",
       "      <td>165227.000000</td>\n",
       "    </tr>\n",
       "  </tbody>\n",
       "</table>\n",
       "<p>8 rows × 22 columns</p>\n",
       "</div>"
      ],
      "text/plain": [
       "               date       positive       negative       pending  \\\n",
       "count  3.713000e+03    3699.000000    3549.000000    702.000000   \n",
       "mean   2.020039e+07    9183.234928   46374.805861   1416.243590   \n",
       "std    6.972279e+01   29476.630652   90972.178797   7240.557601   \n",
       "min    2.020012e+07       0.000000       0.000000      0.000000   \n",
       "25%    2.020032e+07      88.000000    1378.000000     10.000000   \n",
       "50%    2.020041e+07    1101.000000   14957.000000     52.000000   \n",
       "75%    2.020042e+07    6080.000000   51075.000000    370.750000   \n",
       "max    2.020051e+07  337055.000000  923958.000000  64400.000000   \n",
       "\n",
       "       hospitalizedCurrently  hospitalizedCumulative  inIcuCurrently  \\\n",
       "count            1520.000000             1500.000000      779.000000   \n",
       "mean             1388.394737             2482.258000      611.546855   \n",
       "std              2670.929690             8999.758521      954.991384   \n",
       "min                 2.000000                0.000000        2.000000   \n",
       "25%                86.000000              101.750000       91.500000   \n",
       "50%               371.000000              427.500000      166.000000   \n",
       "75%              1514.250000             1265.250000      876.500000   \n",
       "max             18825.000000            73143.000000     5225.000000   \n",
       "\n",
       "       inIcuCumulative  onVentilatorCurrently  onVentilatorCumulative  ...  \\\n",
       "count       313.000000             627.000000              102.000000  ...   \n",
       "mean        369.051118             319.942584              106.598039  ...   \n",
       "std         352.876055             428.955917               67.344285  ...   \n",
       "min           6.000000               0.000000                2.000000  ...   \n",
       "25%          86.000000              28.500000               57.000000  ...   \n",
       "50%         260.000000             137.000000               95.000000  ...   \n",
       "75%         514.000000             497.000000              136.250000  ...   \n",
       "max        1414.000000            2425.000000              276.000000  ...   \n",
       "\n",
       "       hospitalized         total  totalTestResults        posNeg  \\\n",
       "count   1500.000000  3.713000e+03      3.713000e+03  3.713000e+03   \n",
       "mean    2482.258000  5.374284e+04      5.347508e+04  5.347508e+04   \n",
       "std     8999.758521  1.130587e+05      1.129733e+05  1.129733e+05   \n",
       "min        0.000000  0.000000e+00      0.000000e+00  0.000000e+00   \n",
       "25%      101.750000  9.950000e+02      9.140000e+02  9.140000e+02   \n",
       "50%      427.500000  1.482400e+04      1.479400e+04  1.479400e+04   \n",
       "75%     1265.250000  5.659700e+04      5.576400e+04  5.576400e+04   \n",
       "max    73143.000000  1.204651e+06      1.204651e+06  1.204651e+06   \n",
       "\n",
       "              fips  deathIncrease  hospitalizedIncrease  negativeIncrease  \\\n",
       "count  3713.000000    3713.000000           3713.000000       3713.000000   \n",
       "mean     32.292755      20.228117             40.994883       2168.085914   \n",
       "std      18.546182      67.173624            249.707475       5192.979773   \n",
       "min       1.000000    -201.000000           -181.000000      -5174.000000   \n",
       "25%      17.000000       0.000000              0.000000         25.000000   \n",
       "50%      32.000000       2.000000              0.000000        598.000000   \n",
       "75%      46.000000      11.000000              7.000000       2351.000000   \n",
       "max      78.000000     951.000000           7758.000000     163092.000000   \n",
       "\n",
       "       positiveIncrease  totalTestResultsIncrease  \n",
       "count       3713.000000               3713.000000  \n",
       "mean         360.974414               2526.552114  \n",
       "std          935.433820               5681.638602  \n",
       "min         -383.000000              -9269.000000  \n",
       "25%            7.000000                 62.000000  \n",
       "50%           72.000000                698.000000  \n",
       "75%          310.000000               2730.000000  \n",
       "max        11571.000000             165227.000000  \n",
       "\n",
       "[8 rows x 22 columns]"
      ]
     },
     "execution_count": 8,
     "metadata": {},
     "output_type": "execute_result"
    }
   ],
   "source": [
    "daily.describe()"
   ]
  },
  {
   "cell_type": "code",
   "execution_count": 9,
   "metadata": {},
   "outputs": [
    {
     "data": {
      "text/plain": [
       "Index(['date', 'state', 'positive', 'negative', 'pending',\n",
       "       'hospitalizedCurrently', 'hospitalizedCumulative', 'inIcuCurrently',\n",
       "       'inIcuCumulative', 'onVentilatorCurrently', 'onVentilatorCumulative',\n",
       "       'recovered', 'dataQualityGrade', 'lastUpdateEt', 'hash', 'dateChecked',\n",
       "       'death', 'hospitalized', 'total', 'totalTestResults', 'posNeg', 'fips',\n",
       "       'deathIncrease', 'hospitalizedIncrease', 'negativeIncrease',\n",
       "       'positiveIncrease', 'totalTestResultsIncrease'],\n",
       "      dtype='object')"
      ]
     },
     "execution_count": 9,
     "metadata": {},
     "output_type": "execute_result"
    }
   ],
   "source": [
    "daily.columns"
   ]
  },
  {
   "cell_type": "code",
   "execution_count": 10,
   "metadata": {},
   "outputs": [
    {
     "data": {
      "text/html": [
       "<div>\n",
       "<style scoped>\n",
       "    .dataframe tbody tr th:only-of-type {\n",
       "        vertical-align: middle;\n",
       "    }\n",
       "\n",
       "    .dataframe tbody tr th {\n",
       "        vertical-align: top;\n",
       "    }\n",
       "\n",
       "    .dataframe thead th {\n",
       "        text-align: right;\n",
       "    }\n",
       "</style>\n",
       "<table border=\"1\" class=\"dataframe\">\n",
       "  <thead>\n",
       "    <tr style=\"text-align: right;\">\n",
       "      <th></th>\n",
       "      <th>date</th>\n",
       "      <th>positive</th>\n",
       "      <th>negative</th>\n",
       "      <th>pending</th>\n",
       "      <th>hospitalizedCurrently</th>\n",
       "      <th>hospitalizedCumulative</th>\n",
       "      <th>inIcuCurrently</th>\n",
       "      <th>inIcuCumulative</th>\n",
       "      <th>onVentilatorCurrently</th>\n",
       "      <th>onVentilatorCumulative</th>\n",
       "      <th>...</th>\n",
       "      <th>hospitalized</th>\n",
       "      <th>total</th>\n",
       "      <th>totalTestResults</th>\n",
       "      <th>posNeg</th>\n",
       "      <th>fips</th>\n",
       "      <th>deathIncrease</th>\n",
       "      <th>hospitalizedIncrease</th>\n",
       "      <th>negativeIncrease</th>\n",
       "      <th>positiveIncrease</th>\n",
       "      <th>totalTestResultsIncrease</th>\n",
       "    </tr>\n",
       "  </thead>\n",
       "  <tbody>\n",
       "    <tr>\n",
       "      <th>date</th>\n",
       "      <td>1.000000</td>\n",
       "      <td>0.258101</td>\n",
       "      <td>0.442977</td>\n",
       "      <td>0.011677</td>\n",
       "      <td>-0.006755</td>\n",
       "      <td>0.133903</td>\n",
       "      <td>-0.107017</td>\n",
       "      <td>0.442391</td>\n",
       "      <td>0.008566</td>\n",
       "      <td>0.387069</td>\n",
       "      <td>...</td>\n",
       "      <td>0.133903</td>\n",
       "      <td>0.416399</td>\n",
       "      <td>0.417407</td>\n",
       "      <td>0.417407</td>\n",
       "      <td>-0.003994</td>\n",
       "      <td>0.175620</td>\n",
       "      <td>0.074877</td>\n",
       "      <td>0.277710</td>\n",
       "      <td>0.160620</td>\n",
       "      <td>0.279550</td>\n",
       "    </tr>\n",
       "    <tr>\n",
       "      <th>positive</th>\n",
       "      <td>0.258101</td>\n",
       "      <td>1.000000</td>\n",
       "      <td>0.738830</td>\n",
       "      <td>0.054658</td>\n",
       "      <td>0.838429</td>\n",
       "      <td>0.993223</td>\n",
       "      <td>0.865444</td>\n",
       "      <td>0.923541</td>\n",
       "      <td>0.787394</td>\n",
       "      <td>0.866808</td>\n",
       "      <td>...</td>\n",
       "      <td>0.993223</td>\n",
       "      <td>0.845846</td>\n",
       "      <td>0.846390</td>\n",
       "      <td>0.846390</td>\n",
       "      <td>-0.042312</td>\n",
       "      <td>0.781434</td>\n",
       "      <td>0.453801</td>\n",
       "      <td>0.517886</td>\n",
       "      <td>0.719575</td>\n",
       "      <td>0.591956</td>\n",
       "    </tr>\n",
       "    <tr>\n",
       "      <th>negative</th>\n",
       "      <td>0.442977</td>\n",
       "      <td>0.738830</td>\n",
       "      <td>1.000000</td>\n",
       "      <td>0.083019</td>\n",
       "      <td>0.593224</td>\n",
       "      <td>0.822194</td>\n",
       "      <td>0.555818</td>\n",
       "      <td>0.859684</td>\n",
       "      <td>0.588003</td>\n",
       "      <td>0.620343</td>\n",
       "      <td>...</td>\n",
       "      <td>0.822194</td>\n",
       "      <td>0.984049</td>\n",
       "      <td>0.984380</td>\n",
       "      <td>0.984380</td>\n",
       "      <td>-0.081292</td>\n",
       "      <td>0.497083</td>\n",
       "      <td>0.263306</td>\n",
       "      <td>0.707713</td>\n",
       "      <td>0.501407</td>\n",
       "      <td>0.730256</td>\n",
       "    </tr>\n",
       "    <tr>\n",
       "      <th>pending</th>\n",
       "      <td>0.011677</td>\n",
       "      <td>0.054658</td>\n",
       "      <td>0.083019</td>\n",
       "      <td>1.000000</td>\n",
       "      <td>0.133868</td>\n",
       "      <td>0.642748</td>\n",
       "      <td>0.141527</td>\n",
       "      <td>-0.394307</td>\n",
       "      <td>0.286631</td>\n",
       "      <td>NaN</td>\n",
       "      <td>...</td>\n",
       "      <td>0.642748</td>\n",
       "      <td>0.165888</td>\n",
       "      <td>0.083064</td>\n",
       "      <td>0.083064</td>\n",
       "      <td>-0.225767</td>\n",
       "      <td>0.093609</td>\n",
       "      <td>-0.017775</td>\n",
       "      <td>0.122590</td>\n",
       "      <td>0.313405</td>\n",
       "      <td>0.143489</td>\n",
       "    </tr>\n",
       "    <tr>\n",
       "      <th>hospitalizedCurrently</th>\n",
       "      <td>-0.006755</td>\n",
       "      <td>0.838429</td>\n",
       "      <td>0.593224</td>\n",
       "      <td>0.133868</td>\n",
       "      <td>1.000000</td>\n",
       "      <td>0.843392</td>\n",
       "      <td>0.987155</td>\n",
       "      <td>0.860492</td>\n",
       "      <td>0.959535</td>\n",
       "      <td>0.345277</td>\n",
       "      <td>...</td>\n",
       "      <td>0.843392</td>\n",
       "      <td>0.697262</td>\n",
       "      <td>0.696359</td>\n",
       "      <td>0.696359</td>\n",
       "      <td>-0.050930</td>\n",
       "      <td>0.908104</td>\n",
       "      <td>0.561603</td>\n",
       "      <td>0.444011</td>\n",
       "      <td>0.913722</td>\n",
       "      <td>0.564545</td>\n",
       "    </tr>\n",
       "    <tr>\n",
       "      <th>hospitalizedCumulative</th>\n",
       "      <td>0.133903</td>\n",
       "      <td>0.993223</td>\n",
       "      <td>0.822194</td>\n",
       "      <td>0.642748</td>\n",
       "      <td>0.843392</td>\n",
       "      <td>1.000000</td>\n",
       "      <td>0.893668</td>\n",
       "      <td>0.966958</td>\n",
       "      <td>0.974091</td>\n",
       "      <td>0.962132</td>\n",
       "      <td>...</td>\n",
       "      <td>1.000000</td>\n",
       "      <td>0.901360</td>\n",
       "      <td>0.901664</td>\n",
       "      <td>0.901664</td>\n",
       "      <td>0.027436</td>\n",
       "      <td>0.786340</td>\n",
       "      <td>0.502712</td>\n",
       "      <td>0.720870</td>\n",
       "      <td>0.694317</td>\n",
       "      <td>0.770379</td>\n",
       "    </tr>\n",
       "    <tr>\n",
       "      <th>inIcuCurrently</th>\n",
       "      <td>-0.107017</td>\n",
       "      <td>0.865444</td>\n",
       "      <td>0.555818</td>\n",
       "      <td>0.141527</td>\n",
       "      <td>0.987155</td>\n",
       "      <td>0.893668</td>\n",
       "      <td>1.000000</td>\n",
       "      <td>0.907040</td>\n",
       "      <td>0.985494</td>\n",
       "      <td>0.966003</td>\n",
       "      <td>...</td>\n",
       "      <td>0.893668</td>\n",
       "      <td>0.685159</td>\n",
       "      <td>0.683491</td>\n",
       "      <td>0.683491</td>\n",
       "      <td>-0.165050</td>\n",
       "      <td>0.911938</td>\n",
       "      <td>0.625614</td>\n",
       "      <td>0.400982</td>\n",
       "      <td>0.904450</td>\n",
       "      <td>0.525735</td>\n",
       "    </tr>\n",
       "    <tr>\n",
       "      <th>inIcuCumulative</th>\n",
       "      <td>0.442391</td>\n",
       "      <td>0.923541</td>\n",
       "      <td>0.859684</td>\n",
       "      <td>-0.394307</td>\n",
       "      <td>0.860492</td>\n",
       "      <td>0.966958</td>\n",
       "      <td>0.907040</td>\n",
       "      <td>1.000000</td>\n",
       "      <td>0.887402</td>\n",
       "      <td>0.973261</td>\n",
       "      <td>...</td>\n",
       "      <td>0.966958</td>\n",
       "      <td>0.878472</td>\n",
       "      <td>0.878587</td>\n",
       "      <td>0.878587</td>\n",
       "      <td>0.069509</td>\n",
       "      <td>0.668945</td>\n",
       "      <td>0.187614</td>\n",
       "      <td>0.563673</td>\n",
       "      <td>0.723233</td>\n",
       "      <td>0.599211</td>\n",
       "    </tr>\n",
       "    <tr>\n",
       "      <th>onVentilatorCurrently</th>\n",
       "      <td>0.008566</td>\n",
       "      <td>0.787394</td>\n",
       "      <td>0.588003</td>\n",
       "      <td>0.286631</td>\n",
       "      <td>0.959535</td>\n",
       "      <td>0.974091</td>\n",
       "      <td>0.985494</td>\n",
       "      <td>0.887402</td>\n",
       "      <td>1.000000</td>\n",
       "      <td>-0.555530</td>\n",
       "      <td>...</td>\n",
       "      <td>0.974091</td>\n",
       "      <td>0.667056</td>\n",
       "      <td>0.666994</td>\n",
       "      <td>0.666994</td>\n",
       "      <td>-0.010087</td>\n",
       "      <td>0.768147</td>\n",
       "      <td>0.050369</td>\n",
       "      <td>0.391114</td>\n",
       "      <td>0.867234</td>\n",
       "      <td>0.485323</td>\n",
       "    </tr>\n",
       "    <tr>\n",
       "      <th>onVentilatorCumulative</th>\n",
       "      <td>0.387069</td>\n",
       "      <td>0.866808</td>\n",
       "      <td>0.620343</td>\n",
       "      <td>NaN</td>\n",
       "      <td>0.345277</td>\n",
       "      <td>0.962132</td>\n",
       "      <td>0.966003</td>\n",
       "      <td>0.973261</td>\n",
       "      <td>-0.555530</td>\n",
       "      <td>1.000000</td>\n",
       "      <td>...</td>\n",
       "      <td>0.962132</td>\n",
       "      <td>0.645398</td>\n",
       "      <td>0.645398</td>\n",
       "      <td>0.645398</td>\n",
       "      <td>-0.273895</td>\n",
       "      <td>0.659243</td>\n",
       "      <td>0.067876</td>\n",
       "      <td>0.355419</td>\n",
       "      <td>0.536587</td>\n",
       "      <td>0.375550</td>\n",
       "    </tr>\n",
       "    <tr>\n",
       "      <th>recovered</th>\n",
       "      <td>0.194213</td>\n",
       "      <td>0.936207</td>\n",
       "      <td>0.929084</td>\n",
       "      <td>0.575649</td>\n",
       "      <td>0.719326</td>\n",
       "      <td>0.976266</td>\n",
       "      <td>0.773155</td>\n",
       "      <td>0.591190</td>\n",
       "      <td>0.670532</td>\n",
       "      <td>0.442540</td>\n",
       "      <td>...</td>\n",
       "      <td>0.976266</td>\n",
       "      <td>0.960442</td>\n",
       "      <td>0.960449</td>\n",
       "      <td>0.960449</td>\n",
       "      <td>-0.002148</td>\n",
       "      <td>0.649409</td>\n",
       "      <td>0.398410</td>\n",
       "      <td>0.675156</td>\n",
       "      <td>0.579876</td>\n",
       "      <td>0.714545</td>\n",
       "    </tr>\n",
       "    <tr>\n",
       "      <th>death</th>\n",
       "      <td>0.218442</td>\n",
       "      <td>0.983989</td>\n",
       "      <td>0.691078</td>\n",
       "      <td>-0.012106</td>\n",
       "      <td>0.756037</td>\n",
       "      <td>0.984093</td>\n",
       "      <td>0.783735</td>\n",
       "      <td>0.926059</td>\n",
       "      <td>0.734649</td>\n",
       "      <td>0.953787</td>\n",
       "      <td>...</td>\n",
       "      <td>0.984093</td>\n",
       "      <td>0.805269</td>\n",
       "      <td>0.806029</td>\n",
       "      <td>0.806029</td>\n",
       "      <td>-0.033808</td>\n",
       "      <td>0.716437</td>\n",
       "      <td>0.390016</td>\n",
       "      <td>0.463607</td>\n",
       "      <td>0.609410</td>\n",
       "      <td>0.525764</td>\n",
       "    </tr>\n",
       "    <tr>\n",
       "      <th>hospitalized</th>\n",
       "      <td>0.133903</td>\n",
       "      <td>0.993223</td>\n",
       "      <td>0.822194</td>\n",
       "      <td>0.642748</td>\n",
       "      <td>0.843392</td>\n",
       "      <td>1.000000</td>\n",
       "      <td>0.893668</td>\n",
       "      <td>0.966958</td>\n",
       "      <td>0.974091</td>\n",
       "      <td>0.962132</td>\n",
       "      <td>...</td>\n",
       "      <td>1.000000</td>\n",
       "      <td>0.901360</td>\n",
       "      <td>0.901664</td>\n",
       "      <td>0.901664</td>\n",
       "      <td>0.027436</td>\n",
       "      <td>0.786340</td>\n",
       "      <td>0.502712</td>\n",
       "      <td>0.720870</td>\n",
       "      <td>0.694317</td>\n",
       "      <td>0.770379</td>\n",
       "    </tr>\n",
       "    <tr>\n",
       "      <th>total</th>\n",
       "      <td>0.416399</td>\n",
       "      <td>0.845846</td>\n",
       "      <td>0.984049</td>\n",
       "      <td>0.165888</td>\n",
       "      <td>0.697262</td>\n",
       "      <td>0.901360</td>\n",
       "      <td>0.685159</td>\n",
       "      <td>0.878472</td>\n",
       "      <td>0.667056</td>\n",
       "      <td>0.645398</td>\n",
       "      <td>...</td>\n",
       "      <td>0.901360</td>\n",
       "      <td>1.000000</td>\n",
       "      <td>0.999601</td>\n",
       "      <td>0.999601</td>\n",
       "      <td>-0.089565</td>\n",
       "      <td>0.599312</td>\n",
       "      <td>0.327841</td>\n",
       "      <td>0.697850</td>\n",
       "      <td>0.588570</td>\n",
       "      <td>0.734936</td>\n",
       "    </tr>\n",
       "    <tr>\n",
       "      <th>totalTestResults</th>\n",
       "      <td>0.417407</td>\n",
       "      <td>0.846390</td>\n",
       "      <td>0.984380</td>\n",
       "      <td>0.083064</td>\n",
       "      <td>0.696359</td>\n",
       "      <td>0.901664</td>\n",
       "      <td>0.683491</td>\n",
       "      <td>0.878587</td>\n",
       "      <td>0.666994</td>\n",
       "      <td>0.645398</td>\n",
       "      <td>...</td>\n",
       "      <td>0.901664</td>\n",
       "      <td>0.999601</td>\n",
       "      <td>1.000000</td>\n",
       "      <td>1.000000</td>\n",
       "      <td>-0.087034</td>\n",
       "      <td>0.599515</td>\n",
       "      <td>0.328365</td>\n",
       "      <td>0.697433</td>\n",
       "      <td>0.587787</td>\n",
       "      <td>0.734425</td>\n",
       "    </tr>\n",
       "    <tr>\n",
       "      <th>posNeg</th>\n",
       "      <td>0.417407</td>\n",
       "      <td>0.846390</td>\n",
       "      <td>0.984380</td>\n",
       "      <td>0.083064</td>\n",
       "      <td>0.696359</td>\n",
       "      <td>0.901664</td>\n",
       "      <td>0.683491</td>\n",
       "      <td>0.878587</td>\n",
       "      <td>0.666994</td>\n",
       "      <td>0.645398</td>\n",
       "      <td>...</td>\n",
       "      <td>0.901664</td>\n",
       "      <td>0.999601</td>\n",
       "      <td>1.000000</td>\n",
       "      <td>1.000000</td>\n",
       "      <td>-0.087034</td>\n",
       "      <td>0.599515</td>\n",
       "      <td>0.328365</td>\n",
       "      <td>0.697433</td>\n",
       "      <td>0.587787</td>\n",
       "      <td>0.734425</td>\n",
       "    </tr>\n",
       "    <tr>\n",
       "      <th>fips</th>\n",
       "      <td>-0.003994</td>\n",
       "      <td>-0.042312</td>\n",
       "      <td>-0.081292</td>\n",
       "      <td>-0.225767</td>\n",
       "      <td>-0.050930</td>\n",
       "      <td>0.027436</td>\n",
       "      <td>-0.165050</td>\n",
       "      <td>0.069509</td>\n",
       "      <td>-0.010087</td>\n",
       "      <td>-0.273895</td>\n",
       "      <td>...</td>\n",
       "      <td>0.027436</td>\n",
       "      <td>-0.089565</td>\n",
       "      <td>-0.087034</td>\n",
       "      <td>-0.087034</td>\n",
       "      <td>1.000000</td>\n",
       "      <td>-0.051643</td>\n",
       "      <td>-0.017123</td>\n",
       "      <td>-0.100491</td>\n",
       "      <td>-0.067175</td>\n",
       "      <td>-0.103853</td>\n",
       "    </tr>\n",
       "    <tr>\n",
       "      <th>deathIncrease</th>\n",
       "      <td>0.175620</td>\n",
       "      <td>0.781434</td>\n",
       "      <td>0.497083</td>\n",
       "      <td>0.093609</td>\n",
       "      <td>0.908104</td>\n",
       "      <td>0.786340</td>\n",
       "      <td>0.911938</td>\n",
       "      <td>0.668945</td>\n",
       "      <td>0.768147</td>\n",
       "      <td>0.659243</td>\n",
       "      <td>...</td>\n",
       "      <td>0.786340</td>\n",
       "      <td>0.599312</td>\n",
       "      <td>0.599515</td>\n",
       "      <td>0.599515</td>\n",
       "      <td>-0.051643</td>\n",
       "      <td>1.000000</td>\n",
       "      <td>0.552808</td>\n",
       "      <td>0.380358</td>\n",
       "      <td>0.857667</td>\n",
       "      <td>0.488985</td>\n",
       "    </tr>\n",
       "    <tr>\n",
       "      <th>hospitalizedIncrease</th>\n",
       "      <td>0.074877</td>\n",
       "      <td>0.453801</td>\n",
       "      <td>0.263306</td>\n",
       "      <td>-0.017775</td>\n",
       "      <td>0.561603</td>\n",
       "      <td>0.502712</td>\n",
       "      <td>0.625614</td>\n",
       "      <td>0.187614</td>\n",
       "      <td>0.050369</td>\n",
       "      <td>0.067876</td>\n",
       "      <td>...</td>\n",
       "      <td>0.502712</td>\n",
       "      <td>0.327841</td>\n",
       "      <td>0.328365</td>\n",
       "      <td>0.328365</td>\n",
       "      <td>-0.017123</td>\n",
       "      <td>0.552808</td>\n",
       "      <td>1.000000</td>\n",
       "      <td>0.216948</td>\n",
       "      <td>0.625098</td>\n",
       "      <td>0.301279</td>\n",
       "    </tr>\n",
       "    <tr>\n",
       "      <th>negativeIncrease</th>\n",
       "      <td>0.277710</td>\n",
       "      <td>0.517886</td>\n",
       "      <td>0.707713</td>\n",
       "      <td>0.122590</td>\n",
       "      <td>0.444011</td>\n",
       "      <td>0.720870</td>\n",
       "      <td>0.400982</td>\n",
       "      <td>0.563673</td>\n",
       "      <td>0.391114</td>\n",
       "      <td>0.355419</td>\n",
       "      <td>...</td>\n",
       "      <td>0.720870</td>\n",
       "      <td>0.697850</td>\n",
       "      <td>0.697433</td>\n",
       "      <td>0.697433</td>\n",
       "      <td>-0.100491</td>\n",
       "      <td>0.380358</td>\n",
       "      <td>0.216948</td>\n",
       "      <td>1.000000</td>\n",
       "      <td>0.453211</td>\n",
       "      <td>0.988795</td>\n",
       "    </tr>\n",
       "    <tr>\n",
       "      <th>positiveIncrease</th>\n",
       "      <td>0.160620</td>\n",
       "      <td>0.719575</td>\n",
       "      <td>0.501407</td>\n",
       "      <td>0.313405</td>\n",
       "      <td>0.913722</td>\n",
       "      <td>0.694317</td>\n",
       "      <td>0.904450</td>\n",
       "      <td>0.723233</td>\n",
       "      <td>0.867234</td>\n",
       "      <td>0.536587</td>\n",
       "      <td>...</td>\n",
       "      <td>0.694317</td>\n",
       "      <td>0.588570</td>\n",
       "      <td>0.587787</td>\n",
       "      <td>0.587787</td>\n",
       "      <td>-0.067175</td>\n",
       "      <td>0.857667</td>\n",
       "      <td>0.625098</td>\n",
       "      <td>0.453211</td>\n",
       "      <td>1.000000</td>\n",
       "      <td>0.579023</td>\n",
       "    </tr>\n",
       "    <tr>\n",
       "      <th>totalTestResultsIncrease</th>\n",
       "      <td>0.279550</td>\n",
       "      <td>0.591956</td>\n",
       "      <td>0.730256</td>\n",
       "      <td>0.143489</td>\n",
       "      <td>0.564545</td>\n",
       "      <td>0.770379</td>\n",
       "      <td>0.525735</td>\n",
       "      <td>0.599211</td>\n",
       "      <td>0.485323</td>\n",
       "      <td>0.375550</td>\n",
       "      <td>...</td>\n",
       "      <td>0.770379</td>\n",
       "      <td>0.734936</td>\n",
       "      <td>0.734425</td>\n",
       "      <td>0.734425</td>\n",
       "      <td>-0.103853</td>\n",
       "      <td>0.488985</td>\n",
       "      <td>0.301279</td>\n",
       "      <td>0.988795</td>\n",
       "      <td>0.579023</td>\n",
       "      <td>1.000000</td>\n",
       "    </tr>\n",
       "  </tbody>\n",
       "</table>\n",
       "<p>22 rows × 22 columns</p>\n",
       "</div>"
      ],
      "text/plain": [
       "                              date  positive  negative   pending  \\\n",
       "date                      1.000000  0.258101  0.442977  0.011677   \n",
       "positive                  0.258101  1.000000  0.738830  0.054658   \n",
       "negative                  0.442977  0.738830  1.000000  0.083019   \n",
       "pending                   0.011677  0.054658  0.083019  1.000000   \n",
       "hospitalizedCurrently    -0.006755  0.838429  0.593224  0.133868   \n",
       "hospitalizedCumulative    0.133903  0.993223  0.822194  0.642748   \n",
       "inIcuCurrently           -0.107017  0.865444  0.555818  0.141527   \n",
       "inIcuCumulative           0.442391  0.923541  0.859684 -0.394307   \n",
       "onVentilatorCurrently     0.008566  0.787394  0.588003  0.286631   \n",
       "onVentilatorCumulative    0.387069  0.866808  0.620343       NaN   \n",
       "recovered                 0.194213  0.936207  0.929084  0.575649   \n",
       "death                     0.218442  0.983989  0.691078 -0.012106   \n",
       "hospitalized              0.133903  0.993223  0.822194  0.642748   \n",
       "total                     0.416399  0.845846  0.984049  0.165888   \n",
       "totalTestResults          0.417407  0.846390  0.984380  0.083064   \n",
       "posNeg                    0.417407  0.846390  0.984380  0.083064   \n",
       "fips                     -0.003994 -0.042312 -0.081292 -0.225767   \n",
       "deathIncrease             0.175620  0.781434  0.497083  0.093609   \n",
       "hospitalizedIncrease      0.074877  0.453801  0.263306 -0.017775   \n",
       "negativeIncrease          0.277710  0.517886  0.707713  0.122590   \n",
       "positiveIncrease          0.160620  0.719575  0.501407  0.313405   \n",
       "totalTestResultsIncrease  0.279550  0.591956  0.730256  0.143489   \n",
       "\n",
       "                          hospitalizedCurrently  hospitalizedCumulative  \\\n",
       "date                                  -0.006755                0.133903   \n",
       "positive                               0.838429                0.993223   \n",
       "negative                               0.593224                0.822194   \n",
       "pending                                0.133868                0.642748   \n",
       "hospitalizedCurrently                  1.000000                0.843392   \n",
       "hospitalizedCumulative                 0.843392                1.000000   \n",
       "inIcuCurrently                         0.987155                0.893668   \n",
       "inIcuCumulative                        0.860492                0.966958   \n",
       "onVentilatorCurrently                  0.959535                0.974091   \n",
       "onVentilatorCumulative                 0.345277                0.962132   \n",
       "recovered                              0.719326                0.976266   \n",
       "death                                  0.756037                0.984093   \n",
       "hospitalized                           0.843392                1.000000   \n",
       "total                                  0.697262                0.901360   \n",
       "totalTestResults                       0.696359                0.901664   \n",
       "posNeg                                 0.696359                0.901664   \n",
       "fips                                  -0.050930                0.027436   \n",
       "deathIncrease                          0.908104                0.786340   \n",
       "hospitalizedIncrease                   0.561603                0.502712   \n",
       "negativeIncrease                       0.444011                0.720870   \n",
       "positiveIncrease                       0.913722                0.694317   \n",
       "totalTestResultsIncrease               0.564545                0.770379   \n",
       "\n",
       "                          inIcuCurrently  inIcuCumulative  \\\n",
       "date                           -0.107017         0.442391   \n",
       "positive                        0.865444         0.923541   \n",
       "negative                        0.555818         0.859684   \n",
       "pending                         0.141527        -0.394307   \n",
       "hospitalizedCurrently           0.987155         0.860492   \n",
       "hospitalizedCumulative          0.893668         0.966958   \n",
       "inIcuCurrently                  1.000000         0.907040   \n",
       "inIcuCumulative                 0.907040         1.000000   \n",
       "onVentilatorCurrently           0.985494         0.887402   \n",
       "onVentilatorCumulative          0.966003         0.973261   \n",
       "recovered                       0.773155         0.591190   \n",
       "death                           0.783735         0.926059   \n",
       "hospitalized                    0.893668         0.966958   \n",
       "total                           0.685159         0.878472   \n",
       "totalTestResults                0.683491         0.878587   \n",
       "posNeg                          0.683491         0.878587   \n",
       "fips                           -0.165050         0.069509   \n",
       "deathIncrease                   0.911938         0.668945   \n",
       "hospitalizedIncrease            0.625614         0.187614   \n",
       "negativeIncrease                0.400982         0.563673   \n",
       "positiveIncrease                0.904450         0.723233   \n",
       "totalTestResultsIncrease        0.525735         0.599211   \n",
       "\n",
       "                          onVentilatorCurrently  onVentilatorCumulative  ...  \\\n",
       "date                                   0.008566                0.387069  ...   \n",
       "positive                               0.787394                0.866808  ...   \n",
       "negative                               0.588003                0.620343  ...   \n",
       "pending                                0.286631                     NaN  ...   \n",
       "hospitalizedCurrently                  0.959535                0.345277  ...   \n",
       "hospitalizedCumulative                 0.974091                0.962132  ...   \n",
       "inIcuCurrently                         0.985494                0.966003  ...   \n",
       "inIcuCumulative                        0.887402                0.973261  ...   \n",
       "onVentilatorCurrently                  1.000000               -0.555530  ...   \n",
       "onVentilatorCumulative                -0.555530                1.000000  ...   \n",
       "recovered                              0.670532                0.442540  ...   \n",
       "death                                  0.734649                0.953787  ...   \n",
       "hospitalized                           0.974091                0.962132  ...   \n",
       "total                                  0.667056                0.645398  ...   \n",
       "totalTestResults                       0.666994                0.645398  ...   \n",
       "posNeg                                 0.666994                0.645398  ...   \n",
       "fips                                  -0.010087               -0.273895  ...   \n",
       "deathIncrease                          0.768147                0.659243  ...   \n",
       "hospitalizedIncrease                   0.050369                0.067876  ...   \n",
       "negativeIncrease                       0.391114                0.355419  ...   \n",
       "positiveIncrease                       0.867234                0.536587  ...   \n",
       "totalTestResultsIncrease               0.485323                0.375550  ...   \n",
       "\n",
       "                          hospitalized     total  totalTestResults    posNeg  \\\n",
       "date                          0.133903  0.416399          0.417407  0.417407   \n",
       "positive                      0.993223  0.845846          0.846390  0.846390   \n",
       "negative                      0.822194  0.984049          0.984380  0.984380   \n",
       "pending                       0.642748  0.165888          0.083064  0.083064   \n",
       "hospitalizedCurrently         0.843392  0.697262          0.696359  0.696359   \n",
       "hospitalizedCumulative        1.000000  0.901360          0.901664  0.901664   \n",
       "inIcuCurrently                0.893668  0.685159          0.683491  0.683491   \n",
       "inIcuCumulative               0.966958  0.878472          0.878587  0.878587   \n",
       "onVentilatorCurrently         0.974091  0.667056          0.666994  0.666994   \n",
       "onVentilatorCumulative        0.962132  0.645398          0.645398  0.645398   \n",
       "recovered                     0.976266  0.960442          0.960449  0.960449   \n",
       "death                         0.984093  0.805269          0.806029  0.806029   \n",
       "hospitalized                  1.000000  0.901360          0.901664  0.901664   \n",
       "total                         0.901360  1.000000          0.999601  0.999601   \n",
       "totalTestResults              0.901664  0.999601          1.000000  1.000000   \n",
       "posNeg                        0.901664  0.999601          1.000000  1.000000   \n",
       "fips                          0.027436 -0.089565         -0.087034 -0.087034   \n",
       "deathIncrease                 0.786340  0.599312          0.599515  0.599515   \n",
       "hospitalizedIncrease          0.502712  0.327841          0.328365  0.328365   \n",
       "negativeIncrease              0.720870  0.697850          0.697433  0.697433   \n",
       "positiveIncrease              0.694317  0.588570          0.587787  0.587787   \n",
       "totalTestResultsIncrease      0.770379  0.734936          0.734425  0.734425   \n",
       "\n",
       "                              fips  deathIncrease  hospitalizedIncrease  \\\n",
       "date                     -0.003994       0.175620              0.074877   \n",
       "positive                 -0.042312       0.781434              0.453801   \n",
       "negative                 -0.081292       0.497083              0.263306   \n",
       "pending                  -0.225767       0.093609             -0.017775   \n",
       "hospitalizedCurrently    -0.050930       0.908104              0.561603   \n",
       "hospitalizedCumulative    0.027436       0.786340              0.502712   \n",
       "inIcuCurrently           -0.165050       0.911938              0.625614   \n",
       "inIcuCumulative           0.069509       0.668945              0.187614   \n",
       "onVentilatorCurrently    -0.010087       0.768147              0.050369   \n",
       "onVentilatorCumulative   -0.273895       0.659243              0.067876   \n",
       "recovered                -0.002148       0.649409              0.398410   \n",
       "death                    -0.033808       0.716437              0.390016   \n",
       "hospitalized              0.027436       0.786340              0.502712   \n",
       "total                    -0.089565       0.599312              0.327841   \n",
       "totalTestResults         -0.087034       0.599515              0.328365   \n",
       "posNeg                   -0.087034       0.599515              0.328365   \n",
       "fips                      1.000000      -0.051643             -0.017123   \n",
       "deathIncrease            -0.051643       1.000000              0.552808   \n",
       "hospitalizedIncrease     -0.017123       0.552808              1.000000   \n",
       "negativeIncrease         -0.100491       0.380358              0.216948   \n",
       "positiveIncrease         -0.067175       0.857667              0.625098   \n",
       "totalTestResultsIncrease -0.103853       0.488985              0.301279   \n",
       "\n",
       "                          negativeIncrease  positiveIncrease  \\\n",
       "date                              0.277710          0.160620   \n",
       "positive                          0.517886          0.719575   \n",
       "negative                          0.707713          0.501407   \n",
       "pending                           0.122590          0.313405   \n",
       "hospitalizedCurrently             0.444011          0.913722   \n",
       "hospitalizedCumulative            0.720870          0.694317   \n",
       "inIcuCurrently                    0.400982          0.904450   \n",
       "inIcuCumulative                   0.563673          0.723233   \n",
       "onVentilatorCurrently             0.391114          0.867234   \n",
       "onVentilatorCumulative            0.355419          0.536587   \n",
       "recovered                         0.675156          0.579876   \n",
       "death                             0.463607          0.609410   \n",
       "hospitalized                      0.720870          0.694317   \n",
       "total                             0.697850          0.588570   \n",
       "totalTestResults                  0.697433          0.587787   \n",
       "posNeg                            0.697433          0.587787   \n",
       "fips                             -0.100491         -0.067175   \n",
       "deathIncrease                     0.380358          0.857667   \n",
       "hospitalizedIncrease              0.216948          0.625098   \n",
       "negativeIncrease                  1.000000          0.453211   \n",
       "positiveIncrease                  0.453211          1.000000   \n",
       "totalTestResultsIncrease          0.988795          0.579023   \n",
       "\n",
       "                          totalTestResultsIncrease  \n",
       "date                                      0.279550  \n",
       "positive                                  0.591956  \n",
       "negative                                  0.730256  \n",
       "pending                                   0.143489  \n",
       "hospitalizedCurrently                     0.564545  \n",
       "hospitalizedCumulative                    0.770379  \n",
       "inIcuCurrently                            0.525735  \n",
       "inIcuCumulative                           0.599211  \n",
       "onVentilatorCurrently                     0.485323  \n",
       "onVentilatorCumulative                    0.375550  \n",
       "recovered                                 0.714545  \n",
       "death                                     0.525764  \n",
       "hospitalized                              0.770379  \n",
       "total                                     0.734936  \n",
       "totalTestResults                          0.734425  \n",
       "posNeg                                    0.734425  \n",
       "fips                                     -0.103853  \n",
       "deathIncrease                             0.488985  \n",
       "hospitalizedIncrease                      0.301279  \n",
       "negativeIncrease                          0.988795  \n",
       "positiveIncrease                          0.579023  \n",
       "totalTestResultsIncrease                  1.000000  \n",
       "\n",
       "[22 rows x 22 columns]"
      ]
     },
     "execution_count": 10,
     "metadata": {},
     "output_type": "execute_result"
    }
   ],
   "source": [
    "daily.corr()"
   ]
  },
  {
   "cell_type": "code",
   "execution_count": 11,
   "metadata": {},
   "outputs": [
    {
     "data": {
      "text/plain": [
       "date                          int64\n",
       "state                        object\n",
       "positive                    float64\n",
       "negative                    float64\n",
       "pending                     float64\n",
       "hospitalizedCurrently       float64\n",
       "hospitalizedCumulative      float64\n",
       "inIcuCurrently              float64\n",
       "inIcuCumulative             float64\n",
       "onVentilatorCurrently       float64\n",
       "onVentilatorCumulative      float64\n",
       "recovered                   float64\n",
       "dataQualityGrade             object\n",
       "lastUpdateEt                 object\n",
       "hash                         object\n",
       "dateChecked                  object\n",
       "death                       float64\n",
       "hospitalized                float64\n",
       "total                         int64\n",
       "totalTestResults              int64\n",
       "posNeg                        int64\n",
       "fips                          int64\n",
       "deathIncrease               float64\n",
       "hospitalizedIncrease        float64\n",
       "negativeIncrease            float64\n",
       "positiveIncrease            float64\n",
       "totalTestResultsIncrease    float64\n",
       "dtype: object"
      ]
     },
     "execution_count": 11,
     "metadata": {},
     "output_type": "execute_result"
    }
   ],
   "source": [
    "daily.dtypes"
   ]
  },
  {
   "cell_type": "code",
   "execution_count": 13,
   "metadata": {},
   "outputs": [
    {
     "data": {
      "image/png": "[encoded data removed]",
      "text/plain": [
       "<Figure size 432x288 with 1 Axes>"
      ]
     },
     "metadata": {
      "needs_background": "light"
     },
     "output_type": "display_data"
    }
   ],
   "source": [
    "plt.hist(daily['positiveIncrease'])\n",
    "plt.title('Positive');"
   ]
  },
  {
   "cell_type": "code",
   "execution_count": 24,
   "metadata": {},
   "outputs": [],
   "source": [
    "# 14 states lifted the stay at home order by May 9.\n",
    "\n",
    "# 0            Alabama\n",
    "# 1             Alaska\n",
    "# 9            Florida\n",
    "# 12             Idaho\n",
    "# 14           Indiana\n",
    "# 16            Kansas\n",
    "# 24       Mississippi\n",
    "# 25          Missouri\n",
    "# 26           Montana\n",
    "# 40    South Carolina\n",
    "# 42         Tennessee\n",
    "# 43             Texas\n",
    "# 44              Utah\n",
    "# 48     West Virginia\n",
    "# Name: state, dtype: object"
   ]
  },
  {
   "cell_type": "code",
   "execution_count": 66,
   "metadata": {},
   "outputs": [
    {
     "data": {
      "text/html": [
       "<div>\n",
       "<style scoped>\n",
       "    .dataframe tbody tr th:only-of-type {\n",
       "        vertical-align: middle;\n",
       "    }\n",
       "\n",
       "    .dataframe tbody tr th {\n",
       "        vertical-align: top;\n",
       "    }\n",
       "\n",
       "    .dataframe thead th {\n",
       "        text-align: right;\n",
       "    }\n",
       "</style>\n",
       "<table border=\"1\" class=\"dataframe\">\n",
       "  <thead>\n",
       "    <tr style=\"text-align: right;\">\n",
       "      <th></th>\n",
       "      <th>date</th>\n",
       "      <th>state</th>\n",
       "      <th>positive</th>\n",
       "      <th>negative</th>\n",
       "      <th>pending</th>\n",
       "      <th>hospitalizedCurrently</th>\n",
       "      <th>hospitalizedCumulative</th>\n",
       "      <th>inIcuCurrently</th>\n",
       "      <th>inIcuCumulative</th>\n",
       "      <th>onVentilatorCurrently</th>\n",
       "      <th>...</th>\n",
       "      <th>hospitalized</th>\n",
       "      <th>total</th>\n",
       "      <th>totalTestResults</th>\n",
       "      <th>posNeg</th>\n",
       "      <th>fips</th>\n",
       "      <th>deathIncrease</th>\n",
       "      <th>hospitalizedIncrease</th>\n",
       "      <th>negativeIncrease</th>\n",
       "      <th>positiveIncrease</th>\n",
       "      <th>totalTestResultsIncrease</th>\n",
       "    </tr>\n",
       "  </thead>\n",
       "  <tbody>\n",
       "    <tr>\n",
       "      <th>54</th>\n",
       "      <td>20200511</td>\n",
       "      <td>WV</td>\n",
       "      <td>1366.0</td>\n",
       "      <td>62103.0</td>\n",
       "      <td>NaN</td>\n",
       "      <td>49.0</td>\n",
       "      <td>NaN</td>\n",
       "      <td>10.0</td>\n",
       "      <td>NaN</td>\n",
       "      <td>6.0</td>\n",
       "      <td>...</td>\n",
       "      <td>NaN</td>\n",
       "      <td>63469</td>\n",
       "      <td>63469</td>\n",
       "      <td>63469</td>\n",
       "      <td>54</td>\n",
       "      <td>0.0</td>\n",
       "      <td>0.0</td>\n",
       "      <td>819.0</td>\n",
       "      <td>6.0</td>\n",
       "      <td>825.0</td>\n",
       "    </tr>\n",
       "    <tr>\n",
       "      <th>110</th>\n",
       "      <td>20200510</td>\n",
       "      <td>WV</td>\n",
       "      <td>1360.0</td>\n",
       "      <td>61284.0</td>\n",
       "      <td>NaN</td>\n",
       "      <td>49.0</td>\n",
       "      <td>NaN</td>\n",
       "      <td>10.0</td>\n",
       "      <td>NaN</td>\n",
       "      <td>6.0</td>\n",
       "      <td>...</td>\n",
       "      <td>NaN</td>\n",
       "      <td>62644</td>\n",
       "      <td>62644</td>\n",
       "      <td>62644</td>\n",
       "      <td>54</td>\n",
       "      <td>1.0</td>\n",
       "      <td>0.0</td>\n",
       "      <td>1622.0</td>\n",
       "      <td>25.0</td>\n",
       "      <td>1647.0</td>\n",
       "    </tr>\n",
       "    <tr>\n",
       "      <th>166</th>\n",
       "      <td>20200509</td>\n",
       "      <td>WV</td>\n",
       "      <td>1335.0</td>\n",
       "      <td>59662.0</td>\n",
       "      <td>NaN</td>\n",
       "      <td>53.0</td>\n",
       "      <td>NaN</td>\n",
       "      <td>13.0</td>\n",
       "      <td>NaN</td>\n",
       "      <td>7.0</td>\n",
       "      <td>...</td>\n",
       "      <td>NaN</td>\n",
       "      <td>60997</td>\n",
       "      <td>60997</td>\n",
       "      <td>60997</td>\n",
       "      <td>54</td>\n",
       "      <td>2.0</td>\n",
       "      <td>0.0</td>\n",
       "      <td>1536.0</td>\n",
       "      <td>25.0</td>\n",
       "      <td>1561.0</td>\n",
       "    </tr>\n",
       "    <tr>\n",
       "      <th>222</th>\n",
       "      <td>20200508</td>\n",
       "      <td>WV</td>\n",
       "      <td>1310.0</td>\n",
       "      <td>58126.0</td>\n",
       "      <td>NaN</td>\n",
       "      <td>65.0</td>\n",
       "      <td>NaN</td>\n",
       "      <td>19.0</td>\n",
       "      <td>NaN</td>\n",
       "      <td>11.0</td>\n",
       "      <td>...</td>\n",
       "      <td>NaN</td>\n",
       "      <td>59436</td>\n",
       "      <td>59436</td>\n",
       "      <td>59436</td>\n",
       "      <td>54</td>\n",
       "      <td>0.0</td>\n",
       "      <td>0.0</td>\n",
       "      <td>1892.0</td>\n",
       "      <td>23.0</td>\n",
       "      <td>1915.0</td>\n",
       "    </tr>\n",
       "    <tr>\n",
       "      <th>278</th>\n",
       "      <td>20200507</td>\n",
       "      <td>WV</td>\n",
       "      <td>1287.0</td>\n",
       "      <td>56234.0</td>\n",
       "      <td>NaN</td>\n",
       "      <td>76.0</td>\n",
       "      <td>NaN</td>\n",
       "      <td>22.0</td>\n",
       "      <td>NaN</td>\n",
       "      <td>12.0</td>\n",
       "      <td>...</td>\n",
       "      <td>NaN</td>\n",
       "      <td>57521</td>\n",
       "      <td>57521</td>\n",
       "      <td>57521</td>\n",
       "      <td>54</td>\n",
       "      <td>1.0</td>\n",
       "      <td>0.0</td>\n",
       "      <td>1698.0</td>\n",
       "      <td>39.0</td>\n",
       "      <td>1737.0</td>\n",
       "    </tr>\n",
       "    <tr>\n",
       "      <th>...</th>\n",
       "      <td>...</td>\n",
       "      <td>...</td>\n",
       "      <td>...</td>\n",
       "      <td>...</td>\n",
       "      <td>...</td>\n",
       "      <td>...</td>\n",
       "      <td>...</td>\n",
       "      <td>...</td>\n",
       "      <td>...</td>\n",
       "      <td>...</td>\n",
       "      <td>...</td>\n",
       "      <td>...</td>\n",
       "      <td>...</td>\n",
       "      <td>...</td>\n",
       "      <td>...</td>\n",
       "      <td>...</td>\n",
       "      <td>...</td>\n",
       "      <td>...</td>\n",
       "      <td>...</td>\n",
       "      <td>...</td>\n",
       "      <td>...</td>\n",
       "    </tr>\n",
       "    <tr>\n",
       "      <th>3444</th>\n",
       "      <td>20200311</td>\n",
       "      <td>WV</td>\n",
       "      <td>0.0</td>\n",
       "      <td>3.0</td>\n",
       "      <td>2.0</td>\n",
       "      <td>NaN</td>\n",
       "      <td>NaN</td>\n",
       "      <td>NaN</td>\n",
       "      <td>NaN</td>\n",
       "      <td>NaN</td>\n",
       "      <td>...</td>\n",
       "      <td>NaN</td>\n",
       "      <td>5</td>\n",
       "      <td>3</td>\n",
       "      <td>3</td>\n",
       "      <td>54</td>\n",
       "      <td>0.0</td>\n",
       "      <td>0.0</td>\n",
       "      <td>1.0</td>\n",
       "      <td>0.0</td>\n",
       "      <td>1.0</td>\n",
       "    </tr>\n",
       "    <tr>\n",
       "      <th>3494</th>\n",
       "      <td>20200310</td>\n",
       "      <td>WV</td>\n",
       "      <td>0.0</td>\n",
       "      <td>2.0</td>\n",
       "      <td>3.0</td>\n",
       "      <td>NaN</td>\n",
       "      <td>NaN</td>\n",
       "      <td>NaN</td>\n",
       "      <td>NaN</td>\n",
       "      <td>NaN</td>\n",
       "      <td>...</td>\n",
       "      <td>NaN</td>\n",
       "      <td>5</td>\n",
       "      <td>2</td>\n",
       "      <td>2</td>\n",
       "      <td>54</td>\n",
       "      <td>0.0</td>\n",
       "      <td>0.0</td>\n",
       "      <td>0.0</td>\n",
       "      <td>0.0</td>\n",
       "      <td>0.0</td>\n",
       "    </tr>\n",
       "    <tr>\n",
       "      <th>3544</th>\n",
       "      <td>20200309</td>\n",
       "      <td>WV</td>\n",
       "      <td>0.0</td>\n",
       "      <td>2.0</td>\n",
       "      <td>3.0</td>\n",
       "      <td>NaN</td>\n",
       "      <td>NaN</td>\n",
       "      <td>NaN</td>\n",
       "      <td>NaN</td>\n",
       "      <td>NaN</td>\n",
       "      <td>...</td>\n",
       "      <td>NaN</td>\n",
       "      <td>5</td>\n",
       "      <td>2</td>\n",
       "      <td>2</td>\n",
       "      <td>54</td>\n",
       "      <td>0.0</td>\n",
       "      <td>0.0</td>\n",
       "      <td>0.0</td>\n",
       "      <td>0.0</td>\n",
       "      <td>0.0</td>\n",
       "    </tr>\n",
       "    <tr>\n",
       "      <th>3594</th>\n",
       "      <td>20200308</td>\n",
       "      <td>WV</td>\n",
       "      <td>0.0</td>\n",
       "      <td>2.0</td>\n",
       "      <td>3.0</td>\n",
       "      <td>NaN</td>\n",
       "      <td>NaN</td>\n",
       "      <td>NaN</td>\n",
       "      <td>NaN</td>\n",
       "      <td>NaN</td>\n",
       "      <td>...</td>\n",
       "      <td>NaN</td>\n",
       "      <td>5</td>\n",
       "      <td>2</td>\n",
       "      <td>2</td>\n",
       "      <td>54</td>\n",
       "      <td>0.0</td>\n",
       "      <td>0.0</td>\n",
       "      <td>0.0</td>\n",
       "      <td>0.0</td>\n",
       "      <td>0.0</td>\n",
       "    </tr>\n",
       "    <tr>\n",
       "      <th>3644</th>\n",
       "      <td>20200307</td>\n",
       "      <td>WV</td>\n",
       "      <td>0.0</td>\n",
       "      <td>2.0</td>\n",
       "      <td>3.0</td>\n",
       "      <td>NaN</td>\n",
       "      <td>NaN</td>\n",
       "      <td>NaN</td>\n",
       "      <td>NaN</td>\n",
       "      <td>NaN</td>\n",
       "      <td>...</td>\n",
       "      <td>NaN</td>\n",
       "      <td>5</td>\n",
       "      <td>2</td>\n",
       "      <td>2</td>\n",
       "      <td>54</td>\n",
       "      <td>0.0</td>\n",
       "      <td>0.0</td>\n",
       "      <td>1.0</td>\n",
       "      <td>0.0</td>\n",
       "      <td>1.0</td>\n",
       "    </tr>\n",
       "  </tbody>\n",
       "</table>\n",
       "<p>66 rows × 27 columns</p>\n",
       "</div>"
      ],
      "text/plain": [
       "          date state  positive  negative  pending  hospitalizedCurrently  \\\n",
       "54    20200511    WV    1366.0   62103.0      NaN                   49.0   \n",
       "110   20200510    WV    1360.0   61284.0      NaN                   49.0   \n",
       "166   20200509    WV    1335.0   59662.0      NaN                   53.0   \n",
       "222   20200508    WV    1310.0   58126.0      NaN                   65.0   \n",
       "278   20200507    WV    1287.0   56234.0      NaN                   76.0   \n",
       "...        ...   ...       ...       ...      ...                    ...   \n",
       "3444  20200311    WV       0.0       3.0      2.0                    NaN   \n",
       "3494  20200310    WV       0.0       2.0      3.0                    NaN   \n",
       "3544  20200309    WV       0.0       2.0      3.0                    NaN   \n",
       "3594  20200308    WV       0.0       2.0      3.0                    NaN   \n",
       "3644  20200307    WV       0.0       2.0      3.0                    NaN   \n",
       "\n",
       "      hospitalizedCumulative  inIcuCurrently  inIcuCumulative  \\\n",
       "54                       NaN            10.0              NaN   \n",
       "110                      NaN            10.0              NaN   \n",
       "166                      NaN            13.0              NaN   \n",
       "222                      NaN            19.0              NaN   \n",
       "278                      NaN            22.0              NaN   \n",
       "...                      ...             ...              ...   \n",
       "3444                     NaN             NaN              NaN   \n",
       "3494                     NaN             NaN              NaN   \n",
       "3544                     NaN             NaN              NaN   \n",
       "3594                     NaN             NaN              NaN   \n",
       "3644                     NaN             NaN              NaN   \n",
       "\n",
       "      onVentilatorCurrently  ...  hospitalized  total totalTestResults posNeg  \\\n",
       "54                      6.0  ...           NaN  63469            63469  63469   \n",
       "110                     6.0  ...           NaN  62644            62644  62644   \n",
       "166                     7.0  ...           NaN  60997            60997  60997   \n",
       "222                    11.0  ...           NaN  59436            59436  59436   \n",
       "278                    12.0  ...           NaN  57521            57521  57521   \n",
       "...                     ...  ...           ...    ...              ...    ...   \n",
       "3444                    NaN  ...           NaN      5                3      3   \n",
       "3494                    NaN  ...           NaN      5                2      2   \n",
       "3544                    NaN  ...           NaN      5                2      2   \n",
       "3594                    NaN  ...           NaN      5                2      2   \n",
       "3644                    NaN  ...           NaN      5                2      2   \n",
       "\n",
       "     fips deathIncrease  hospitalizedIncrease  negativeIncrease  \\\n",
       "54     54           0.0                   0.0             819.0   \n",
       "110    54           1.0                   0.0            1622.0   \n",
       "166    54           2.0                   0.0            1536.0   \n",
       "222    54           0.0                   0.0            1892.0   \n",
       "278    54           1.0                   0.0            1698.0   \n",
       "...   ...           ...                   ...               ...   \n",
       "3444   54           0.0                   0.0               1.0   \n",
       "3494   54           0.0                   0.0               0.0   \n",
       "3544   54           0.0                   0.0               0.0   \n",
       "3594   54           0.0                   0.0               0.0   \n",
       "3644   54           0.0                   0.0               1.0   \n",
       "\n",
       "      positiveIncrease  totalTestResultsIncrease  \n",
       "54                 6.0                     825.0  \n",
       "110               25.0                    1647.0  \n",
       "166               25.0                    1561.0  \n",
       "222               23.0                    1915.0  \n",
       "278               39.0                    1737.0  \n",
       "...                ...                       ...  \n",
       "3444               0.0                       1.0  \n",
       "3494               0.0                       0.0  \n",
       "3544               0.0                       0.0  \n",
       "3594               0.0                       0.0  \n",
       "3644               0.0                       1.0  \n",
       "\n",
       "[66 rows x 27 columns]"
      ]
     },
     "execution_count": 66,
     "metadata": {},
     "output_type": "execute_result"
    }
   ],
   "source": [
    "daily.loc[daily['state'] == 'WV']"
   ]
  },
  {
   "cell_type": "code",
   "execution_count": 68,
   "metadata": {
    "collapsed": true
   },
   "outputs": [
    {
     "data": {
      "text/plain": [
       "<matplotlib.axes._subplots.AxesSubplot at 0x1a1c800f50>"
      ]
     },
     "execution_count": 68,
     "metadata": {},
     "output_type": "execute_result"
    },
    {
     "data": {
      "image/png": "[encoded data removed]",
      "text/plain": [
       "<Figure size 432x288 with 1 Axes>"
      ]
     },
     "metadata": {
      "needs_background": "light"
     },
     "output_type": "display_data"
    }
   ],
   "source": [
    "plt.title('Alabama')\n",
    "sns.distplot(daily[daily['state'] == 'AL']['positiveIncrease'],\n",
    "             bins = 10,\n",
    "             kde = True)"
   ]
  },
  {
   "cell_type": "code",
   "execution_count": 42,
   "metadata": {
    "collapsed": true
   },
   "outputs": [
    {
     "data": {
      "text/plain": [
       "<matplotlib.axes._subplots.AxesSubplot at 0x1a1c3e0250>"
      ]
     },
     "execution_count": 42,
     "metadata": {},
     "output_type": "execute_result"
    },
    {
     "data": {
      "image/png": "[encoded data removed]",
      "text/plain": [
       "<Figure size 432x288 with 1 Axes>"
      ]
     },
     "metadata": {
      "needs_background": "light"
     },
     "output_type": "display_data"
    }
   ],
   "source": [
    "plt.title('Alaska')\n",
    "sns.distplot(daily[daily['state'] == 'AK']['positiveIncrease'],\n",
    "             bins = 10,\n",
    "             kde = True)"
   ]
  },
  {
   "cell_type": "code",
   "execution_count": 43,
   "metadata": {
    "collapsed": true
   },
   "outputs": [
    {
     "data": {
      "text/plain": [
       "<matplotlib.axes._subplots.AxesSubplot at 0x1a1b4f2910>"
      ]
     },
     "execution_count": 43,
     "metadata": {},
     "output_type": "execute_result"
    },
    {
     "data": {
      "image/png": "[encoded data removed]",
      "text/plain": [
       "<Figure size 432x288 with 1 Axes>"
      ]
     },
     "metadata": {
      "needs_background": "light"
     },
     "output_type": "display_data"
    }
   ],
   "source": [
    "plt.title('Florida')\n",
    "sns.distplot(daily[daily['state'] == 'FL']['positiveIncrease'],\n",
    "             bins = 10,\n",
    "             kde = True)"
   ]
  },
  {
   "cell_type": "code",
   "execution_count": 44,
   "metadata": {
    "collapsed": true
   },
   "outputs": [
    {
     "data": {
      "text/plain": [
       "<matplotlib.axes._subplots.AxesSubplot at 0x1a1b623050>"
      ]
     },
     "execution_count": 44,
     "metadata": {},
     "output_type": "execute_result"
    },
    {
     "data": {
      "image/png": "[encoded data removed]",
      "text/plain": [
       "<Figure size 432x288 with 1 Axes>"
      ]
     },
     "metadata": {
      "needs_background": "light"
     },
     "output_type": "display_data"
    }
   ],
   "source": [
    "plt.title('Idaho')\n",
    "sns.distplot(daily[daily['state'] == 'ID']['positiveIncrease'],\n",
    "             bins = 10,\n",
    "             kde = True)"
   ]
  },
  {
   "cell_type": "code",
   "execution_count": 46,
   "metadata": {
    "collapsed": true
   },
   "outputs": [
    {
     "data": {
      "text/plain": [
       "<matplotlib.axes._subplots.AxesSubplot at 0x1a1b77e290>"
      ]
     },
     "execution_count": 46,
     "metadata": {},
     "output_type": "execute_result"
    },
    {
     "data": {
      "image/png": "[encoded data removed]",
      "text/plain": [
       "<Figure size 432x288 with 1 Axes>"
      ]
     },
     "metadata": {
      "needs_background": "light"
     },
     "output_type": "display_data"
    }
   ],
   "source": [
    "plt.title('Indiana')\n",
    "sns.distplot(daily[daily['state'] == 'IN']['positiveIncrease'],\n",
    "             bins = 10,\n",
    "             kde = True)"
   ]
  },
  {
   "cell_type": "code",
   "execution_count": 48,
   "metadata": {
    "collapsed": true
   },
   "outputs": [
    {
     "data": {
      "text/plain": [
       "<matplotlib.axes._subplots.AxesSubplot at 0x1a1c454790>"
      ]
     },
     "execution_count": 48,
     "metadata": {},
     "output_type": "execute_result"
    },
    {
     "data": {
      "image/png": "[encoded data removed]",
      "text/plain": [
       "<Figure size 432x288 with 1 Axes>"
      ]
     },
     "metadata": {
      "needs_background": "light"
     },
     "output_type": "display_data"
    }
   ],
   "source": [
    "plt.title('Kansas')\n",
    "sns.distplot(daily[daily['state'] == 'KS']['positiveIncrease'],\n",
    "             bins = 10,\n",
    "             kde = True)"
   ]
  },
  {
   "cell_type": "code",
   "execution_count": 50,
   "metadata": {
    "collapsed": true
   },
   "outputs": [
    {
     "data": {
      "text/plain": [
       "<matplotlib.axes._subplots.AxesSubplot at 0x1a1a134bd0>"
      ]
     },
     "execution_count": 50,
     "metadata": {},
     "output_type": "execute_result"
    },
    {
     "data": {
      "image/png": "[encoded data removed]",
      "text/plain": [
       "<Figure size 432x288 with 1 Axes>"
      ]
     },
     "metadata": {
      "needs_background": "light"
     },
     "output_type": "display_data"
    }
   ],
   "source": [
    "plt.title('Mississippi')\n",
    "sns.distplot(daily[daily['state'] == 'MS']['positiveIncrease'],\n",
    "             bins = 10,\n",
    "             kde = True)"
   ]
  },
  {
   "cell_type": "code",
   "execution_count": 52,
   "metadata": {
    "collapsed": true
   },
   "outputs": [
    {
     "data": {
      "text/plain": [
       "<matplotlib.axes._subplots.AxesSubplot at 0x1a1a263410>"
      ]
     },
     "execution_count": 52,
     "metadata": {},
     "output_type": "execute_result"
    },
    {
     "data": {
      "image/png": "[encoded data removed]",
      "text/plain": [
       "<Figure size 432x288 with 1 Axes>"
      ]
     },
     "metadata": {
      "needs_background": "light"
     },
     "output_type": "display_data"
    }
   ],
   "source": [
    "plt.title('Missouri')\n",
    "sns.distplot(daily[daily['state'] == 'MO']['positiveIncrease'],\n",
    "             bins = 10,\n",
    "             kde = True)"
   ]
  },
  {
   "cell_type": "code",
   "execution_count": 54,
   "metadata": {
    "collapsed": true
   },
   "outputs": [
    {
     "data": {
      "text/plain": [
       "<matplotlib.axes._subplots.AxesSubplot at 0x1a1a3a5cd0>"
      ]
     },
     "execution_count": 54,
     "metadata": {},
     "output_type": "execute_result"
    },
    {
     "data": {
      "image/png": "[encoded data removed]",
      "text/plain": [
       "<Figure size 432x288 with 1 Axes>"
      ]
     },
     "metadata": {
      "needs_background": "light"
     },
     "output_type": "display_data"
    }
   ],
   "source": [
    "plt.title('Montana')\n",
    "sns.distplot(daily[daily['state'] == 'MT']['positiveIncrease'],\n",
    "             bins = 10,\n",
    "             kde = True)"
   ]
  },
  {
   "cell_type": "code",
   "execution_count": 56,
   "metadata": {
    "collapsed": true
   },
   "outputs": [
    {
     "data": {
      "text/plain": [
       "<matplotlib.axes._subplots.AxesSubplot at 0x1a1a3953d0>"
      ]
     },
     "execution_count": 56,
     "metadata": {},
     "output_type": "execute_result"
    },
    {
     "data": {
      "image/png": "[encoded data removed]",
      "text/plain": [
       "<Figure size 432x288 with 1 Axes>"
      ]
     },
     "metadata": {
      "needs_background": "light"
     },
     "output_type": "display_data"
    }
   ],
   "source": [
    "plt.title('South Carolina')\n",
    "sns.distplot(daily[daily['state'] == 'SC']['positiveIncrease'],\n",
    "             bins = 10,\n",
    "             kde = True)"
   ]
  },
  {
   "cell_type": "code",
   "execution_count": 58,
   "metadata": {
    "collapsed": true
   },
   "outputs": [
    {
     "data": {
      "text/plain": [
       "<matplotlib.axes._subplots.AxesSubplot at 0x1a1a3e3810>"
      ]
     },
     "execution_count": 58,
     "metadata": {},
     "output_type": "execute_result"
    },
    {
     "data": {
      "image/png": "[encoded data removed]",
      "text/plain": [
       "<Figure size 432x288 with 1 Axes>"
      ]
     },
     "metadata": {
      "needs_background": "light"
     },
     "output_type": "display_data"
    }
   ],
   "source": [
    "plt.title('Tennessee')\n",
    "sns.distplot(daily[daily['state'] == 'TN']['positiveIncrease'],\n",
    "             bins = 10,\n",
    "             kde = True)"
   ]
  },
  {
   "cell_type": "code",
   "execution_count": 60,
   "metadata": {
    "collapsed": true
   },
   "outputs": [
    {
     "data": {
      "text/plain": [
       "<matplotlib.axes._subplots.AxesSubplot at 0x1a1a761f50>"
      ]
     },
     "execution_count": 60,
     "metadata": {},
     "output_type": "execute_result"
    },
    {
     "data": {
      "image/png": "[encoded data removed]",
      "text/plain": [
       "<Figure size 432x288 with 1 Axes>"
      ]
     },
     "metadata": {
      "needs_background": "light"
     },
     "output_type": "display_data"
    }
   ],
   "source": [
    "plt.title('Texas')\n",
    "sns.distplot(daily[daily['state'] == 'TX']['positiveIncrease'],\n",
    "             bins = 10,\n",
    "             kde = True)"
   ]
  },
  {
   "cell_type": "code",
   "execution_count": 62,
   "metadata": {
    "collapsed": true
   },
   "outputs": [
    {
     "data": {
      "text/plain": [
       "<matplotlib.axes._subplots.AxesSubplot at 0x1a1a8ac9d0>"
      ]
     },
     "execution_count": 62,
     "metadata": {},
     "output_type": "execute_result"
    },
    {
     "data": {
      "image/png": "[encoded data removed]",
      "text/plain": [
       "<Figure size 432x288 with 1 Axes>"
      ]
     },
     "metadata": {
      "needs_background": "light"
     },
     "output_type": "display_data"
    }
   ],
   "source": [
    "plt.title('Utah')\n",
    "sns.distplot(daily[daily['state'] == 'UT']['positiveIncrease'],\n",
    "             bins = 10,\n",
    "             kde = True)"
   ]
  },
  {
   "cell_type": "code",
   "execution_count": 99,
   "metadata": {
    "collapsed": true
   },
   "outputs": [
    {
     "data": {
      "text/plain": [
       "<matplotlib.axes._subplots.AxesSubplot at 0x1a1e06ad50>"
      ]
     },
     "execution_count": 99,
     "metadata": {},
     "output_type": "execute_result"
    },
    {
     "data": {
      "image/png": "[encoded data removed]",
      "text/plain": [
       "<Figure size 432x288 with 1 Axes>"
      ]
     },
     "metadata": {
      "needs_background": "light"
     },
     "output_type": "display_data"
    }
   ],
   "source": [
    "plt.title('West Virginia')\n",
    "sns.distplot(daily[daily['state'] == 'WV']['positiveIncrease'],\n",
    "             bins = 10,\n",
    "             kde = True)"
   ]
  },
  {
   "cell_type": "code",
   "execution_count": 103,
   "metadata": {},
   "outputs": [],
   "source": [
    "alabama = daily.loc[daily['state'] == 'AL']"
   ]
  },
  {
   "cell_type": "code",
   "execution_count": 113,
   "metadata": {
    "collapsed": true
   },
   "outputs": [
    {
     "data": {
      "text/plain": [
       "1       232.0\n",
       "57      210.0\n",
       "113     346.0\n",
       "169     323.0\n",
       "225     317.0\n",
       "        ...  \n",
       "3346      0.0\n",
       "3397      0.0\n",
       "3447      0.0\n",
       "3497      0.0\n",
       "3547      0.0\n",
       "Name: positiveIncrease, Length: 65, dtype: float64"
      ]
     },
     "execution_count": 113,
     "metadata": {},
     "output_type": "execute_result"
    }
   ],
   "source": [
    "alabama['positiveIncrease'].sort_index()"
   ]
  },
  {
   "cell_type": "code",
   "execution_count": 122,
   "metadata": {},
   "outputs": [
    {
     "data": {
      "text/plain": [
       "(65, 27)"
      ]
     },
     "execution_count": 122,
     "metadata": {},
     "output_type": "execute_result"
    }
   ],
   "source": [
    "alabama.shape"
   ]
  },
  {
   "cell_type": "code",
   "execution_count": 130,
   "metadata": {
    "collapsed": true
   },
   "outputs": [
    {
     "data": {
      "text/plain": [
       "<matplotlib.axes._subplots.AxesSubplot at 0x1a1ee94810>"
      ]
     },
     "execution_count": 130,
     "metadata": {},
     "output_type": "execute_result"
    },
    {
     "data": {
      "image/png": "[encoded data removed]",
      "text/plain": [
       "<Figure size 432x288 with 1 Axes>"
      ]
     },
     "metadata": {
      "needs_background": "light"
     },
     "output_type": "display_data"
    }
   ],
   "source": [
    "sns.lineplot(x='positiveIncrease', y= days, data=alabama)"
   ]
  },
  {
   "cell_type": "code",
   "execution_count": 132,
   "metadata": {
    "collapsed": true
   },
   "outputs": [
    {
     "data": {
      "text/plain": [
       "<matplotlib.axes._subplots.AxesSubplot at 0x1a1e3ca850>"
      ]
     },
     "execution_count": 132,
     "metadata": {},
     "output_type": "execute_result"
    },
    {
     "data": {
      "image/png": "[encoded data removed]",
      "text/plain": [
       "<Figure size 720x576 with 1 Axes>"
      ]
     },
     "metadata": {
      "needs_background": "light"
     },
     "output_type": "display_data"
    }
   ],
   "source": [
    "alabama['positiveIncrease'].plot(figsize=(10,8), kind='line')"
   ]
  },
  {
   "cell_type": "code",
   "execution_count": 79,
   "metadata": {
    "collapsed": true
   },
   "outputs": [
    {
     "data": {
      "text/plain": [
       "Index(['date', 'state', 'positive', 'negative', 'pending',\n",
       "       'hospitalizedCurrently', 'hospitalizedCumulative', 'inIcuCurrently',\n",
       "       'inIcuCumulative', 'onVentilatorCurrently', 'onVentilatorCumulative',\n",
       "       'recovered', 'dataQualityGrade', 'lastUpdateEt', 'hash', 'dateChecked',\n",
       "       'death', 'hospitalized', 'total', 'totalTestResults', 'posNeg', 'fips',\n",
       "       'deathIncrease', 'hospitalizedIncrease', 'negativeIncrease',\n",
       "       'positiveIncrease', 'totalTestResultsIncrease'],\n",
       "      dtype='object')"
      ]
     },
     "execution_count": 79,
     "metadata": {},
     "output_type": "execute_result"
    }
   ],
   "source": [
    "daily.columns"
   ]
  },
  {
   "cell_type": "code",
   "execution_count": 90,
   "metadata": {},
   "outputs": [
    {
     "data": {
      "text/plain": [
       "Index(['state', 'easing_soc_dist', 'stay_home_ord', 'traveler_quarant',\n",
       "       'business_clos', 'gathering_ban', 'school_clos', 'rest_lims',\n",
       "       'primaries', 'emergency_date', 'emergency', 'order_date',\n",
       "       'shelter_in_place', 'state_abbr'],\n",
       "      dtype='object')"
      ]
     },
     "execution_count": 90,
     "metadata": {},
     "output_type": "execute_result"
    }
   ],
   "source": [
    "state.columns"
   ]
  },
  {
   "cell_type": "code",
   "execution_count": null,
   "metadata": {
    "scrolled": true
   },
   "outputs": [],
   "source": [
    "state_daily_inc = state_daily_inc[['state', 'deathIncrease','hospitalizedIncrease', 'negativeIncrease', 'positiveIncrease', 'totalTestResultsIncrease']]"
   ]
  },
  {
   "cell_type": "code",
   "execution_count": null,
   "metadata": {},
   "outputs": [],
   "source": [
    "daily_inc.loc[daily_inc['state'] == 'WV']"
   ]
  },
  {
   "cell_type": "code",
   "execution_count": 151,
   "metadata": {},
   "outputs": [
    {
     "data": {
      "image/png": "[encoded data removed]",
      "text/plain": [
       "<Figure size 1152x648 with 1 Axes>"
      ]
     },
     "metadata": {
      "needs_background": "light"
     },
     "output_type": "display_data"
    }
   ],
   "source": [
    "plt.figure(figsize=(16, 9))\n",
    "\n",
    "plt.plot(daily[daily['state'] == 'AL']['totalTestResultsIncrease'],\n",
    "         #daily_inc[daily_inc['state'] == 'VA']['negativeIncrease'],\n",
    "         label = 'Alabama')\n",
    "\n",
    "plt.plot(daily[daily['state'] == 'AL']['totalTestResultsIncrease'],\n",
    "         #daily[daily['state'] == 'DC']['negativeIncrease'],\n",
    "         label = 'Alaska')\n",
    "\n",
    "plt.legend(loc = 'upper right');"
   ]
  },
  {
   "cell_type": "code",
   "execution_count": 89,
   "metadata": {},
   "outputs": [
    {
     "data": {
      "image/png": "[encoded data removed]",
      "text/plain": [
       "<Figure size 1008x504 with 1 Axes>"
      ]
     },
     "metadata": {
      "needs_background": "light"
     },
     "output_type": "display_data"
    }
   ],
   "source": [
    "plt.figure(figsize=(14, 7))\n",
    "\n",
    "plt.scatter(daily['totalTestResultsIncrease'],\n",
    "            daily['positiveIncrease']);\n",
    "\n",
    "plt.title(\"Total Results Increase versus Daily Positive Increase\", fontsize = 30)\n",
    "plt.ylabel(\"Daily Positive Increase Average\", fontsize = 20)\n",
    "plt.xlabel(\"Total Test Results Increase\", fontsize = 20);"
   ]
  },
  {
   "cell_type": "code",
   "execution_count": 143,
   "metadata": {},
   "outputs": [
    {
     "data": {
      "text/plain": [
       "(array([0., 0., 0., 0., 0., 0., 0., 0., 0., 0.]),\n",
       " array([0. , 0.1, 0.2, 0.3, 0.4, 0.5, 0.6, 0.7, 0.8, 0.9, 1. ]),\n",
       " <a list of 10 Patch objects>)"
      ]
     },
     "execution_count": 143,
     "metadata": {},
     "output_type": "execute_result"
    },
    {
     "data": {
      "image/png": "[encoded data removed]",
      "text/plain": [
       "<Figure size 432x288 with 1 Axes>"
      ]
     },
     "metadata": {
      "needs_background": "light"
     },
     "output_type": "display_data"
    }
   ],
   "source": [
    "plt.hist(daily[daily['positiveIncrease'] == 'AL'])\n"
   ]
  },
  {
   "cell_type": "code",
   "execution_count": 152,
   "metadata": {},
   "outputs": [
    {
     "data": {
      "text/plain": [
       "array([<matplotlib.axes._subplots.AxesSubplot object at 0x1a24b23210>],\n",
       "      dtype=object)"
      ]
     },
     "execution_count": 152,
     "metadata": {},
     "output_type": "execute_result"
    },
    {
     "data": {
      "image/png": "[encoded data removed]",
      "text/plain": [
       "<Figure size 432x288 with 1 Axes>"
      ]
     },
     "metadata": {
      "needs_background": "light"
     },
     "output_type": "display_data"
    }
   ],
   "source": [
    "daily['totalTestResultsIncrease'].plot.line(subplots=True)\n"
   ]
  },
  {
   "cell_type": "code",
   "execution_count": 166,
   "metadata": {},
   "outputs": [
    {
     "data": {
      "text/html": [
       "<div>\n",
       "<style scoped>\n",
       "    .dataframe tbody tr th:only-of-type {\n",
       "        vertical-align: middle;\n",
       "    }\n",
       "\n",
       "    .dataframe tbody tr th {\n",
       "        vertical-align: top;\n",
       "    }\n",
       "\n",
       "    .dataframe thead th {\n",
       "        text-align: right;\n",
       "    }\n",
       "</style>\n",
       "<table border=\"1\" class=\"dataframe\">\n",
       "  <thead>\n",
       "    <tr style=\"text-align: right;\">\n",
       "      <th></th>\n",
       "      <th>state</th>\n",
       "      <th>deathIncrease</th>\n",
       "      <th>hospitalizedIncrease</th>\n",
       "      <th>negativeIncrease</th>\n",
       "      <th>positiveIncrease</th>\n",
       "      <th>totalTestResultsIncrease</th>\n",
       "    </tr>\n",
       "  </thead>\n",
       "  <tbody>\n",
       "    <tr>\n",
       "      <th>0</th>\n",
       "      <td>AK</td>\n",
       "      <td>0.0</td>\n",
       "      <td>0.0</td>\n",
       "      <td>1314.0</td>\n",
       "      <td>2.0</td>\n",
       "      <td>1316.0</td>\n",
       "    </tr>\n",
       "    <tr>\n",
       "      <th>1</th>\n",
       "      <td>AL</td>\n",
       "      <td>8.0</td>\n",
       "      <td>16.0</td>\n",
       "      <td>1791.0</td>\n",
       "      <td>232.0</td>\n",
       "      <td>2023.0</td>\n",
       "    </tr>\n",
       "    <tr>\n",
       "      <th>2</th>\n",
       "      <td>AR</td>\n",
       "      <td>6.0</td>\n",
       "      <td>9.0</td>\n",
       "      <td>3215.0</td>\n",
       "      <td>287.0</td>\n",
       "      <td>3502.0</td>\n",
       "    </tr>\n",
       "    <tr>\n",
       "      <th>3</th>\n",
       "      <td>AS</td>\n",
       "      <td>0.0</td>\n",
       "      <td>0.0</td>\n",
       "      <td>22.0</td>\n",
       "      <td>0.0</td>\n",
       "      <td>22.0</td>\n",
       "    </tr>\n",
       "    <tr>\n",
       "      <th>4</th>\n",
       "      <td>AZ</td>\n",
       "      <td>6.0</td>\n",
       "      <td>9.0</td>\n",
       "      <td>12241.0</td>\n",
       "      <td>261.0</td>\n",
       "      <td>12502.0</td>\n",
       "    </tr>\n",
       "  </tbody>\n",
       "</table>\n",
       "</div>"
      ],
      "text/plain": [
       "  state  deathIncrease  hospitalizedIncrease  negativeIncrease  \\\n",
       "0    AK            0.0                   0.0            1314.0   \n",
       "1    AL            8.0                  16.0            1791.0   \n",
       "2    AR            6.0                   9.0            3215.0   \n",
       "3    AS            0.0                   0.0              22.0   \n",
       "4    AZ            6.0                   9.0           12241.0   \n",
       "\n",
       "   positiveIncrease  totalTestResultsIncrease  \n",
       "0               2.0                    1316.0  \n",
       "1             232.0                    2023.0  \n",
       "2             287.0                    3502.0  \n",
       "3               0.0                      22.0  \n",
       "4             261.0                   12502.0  "
      ]
     },
     "execution_count": 166,
     "metadata": {},
     "output_type": "execute_result"
    }
   ],
   "source": [
    "daily_inc = daily[['state', 'deathIncrease','hospitalizedIncrease', 'negativeIncrease', 'positiveIncrease', 'totalTestResultsIncrease']]\n",
    "daily_inc.head()"
   ]
  },
  {
   "cell_type": "code",
   "execution_count": 167,
   "metadata": {},
   "outputs": [
    {
     "data": {
      "text/plain": [
       "0         2.0\n",
       "1       232.0\n",
       "2       287.0\n",
       "3         0.0\n",
       "4       261.0\n",
       "        ...  \n",
       "3763      0.0\n",
       "3764      0.0\n",
       "3765      0.0\n",
       "3766      0.0\n",
       "3767      0.0\n",
       "Name: positiveIncrease, Length: 3713, dtype: float64"
      ]
     },
     "execution_count": 167,
     "metadata": {},
     "output_type": "execute_result"
    }
   ],
   "source": [
    "daily['positiveIncrease']"
   ]
  },
  {
   "cell_type": "code",
   "execution_count": 172,
   "metadata": {},
   "outputs": [
    {
     "data": {
      "image/png": "[encoded data removed]",
      "text/plain": [
       "<Figure size 864x216 with 4 Axes>"
      ]
     },
     "metadata": {
      "needs_background": "light"
     },
     "output_type": "display_data"
    }
   ],
   "source": [
    "# Create some dummy data\n",
    "# code assistance form StackOverflow\n",
    "\n",
    "data = pd.DataFrame()\n",
    "states = [\"AL\",\"AK\",\"FL\",\"ID\"]\n",
    "\n",
    "data['state']=np.hstack([[state]*np.random.randint(10,20) for state in states])\n",
    "data['positiveIncrease']=np.random.random(data.shape[0])\n",
    "\n",
    "# Now create a figure\n",
    "fig, axes = plt.subplots(1,4, figsize=(12,3))\n",
    "\n",
    "# Now plot each zone on a particular axis\n",
    "for i, state in enumerate(states):\n",
    "    data.loc[data.state == state].hist(column='positiveIncrease',\n",
    "                                   bins=np.linspace(0,1,10),\n",
    "                                   ax=axes[i],\n",
    "                                   sharey=True)\n",
    "    axes[i].set_title('positiveIncrease in {0}'.format(state))\n",
    "    axes[i].set_xlabel('Value')\n",
    "    axes[i].set_ylabel('Count')\n",
    "\n",
    "fig.tight_layout()\n",
    "fig.show()\n"
   ]
  },
  {
   "cell_type": "code",
   "execution_count": 174,
   "metadata": {},
   "outputs": [
    {
     "data": {
      "image/png": "[encoded data removed]",
      "text/plain": [
       "<Figure size 432x288 with 1 Axes>"
      ]
     },
     "metadata": {
      "needs_background": "light"
     },
     "output_type": "display_data"
    }
   ],
   "source": [
    "daily.positiveIncrease.plot(\n",
    "    kind='hist', \n",
    "    bins=20, \n",
    "    title='Histogram of Positive Case Increase'\n",
    ");\n",
    "\n",
    "plt.xlabel('Positive Cases');\n",
    "plt.ylabel('Frequency');\n",
    "plt.savefig('pos_increase.png');    # Save to file!\n"
   ]
  },
  {
   "cell_type": "code",
   "execution_count": 175,
   "metadata": {},
   "outputs": [
    {
     "data": {
      "text/plain": [
       "(3713, 27)"
      ]
     },
     "execution_count": 175,
     "metadata": {},
     "output_type": "execute_result"
    }
   ],
   "source": [
    "daily.shape"
   ]
  }
 ],
 "metadata": {
  "kernelspec": {
   "display_name": "Python [conda env:dsi] *",
   "language": "python",
   "name": "conda-env-dsi-py"
  },
  "language_info": {
   "codemirror_mode": {
    "name": "ipython",
    "version": 3
   },
   "file_extension": ".py",
   "mimetype": "text/x-python",
   "name": "python",
   "nbconvert_exporter": "python",
   "pygments_lexer": "ipython3",
   "version": "3.7.6"
  }
 },
 "nbformat": 4,
 "nbformat_minor": 4
}
