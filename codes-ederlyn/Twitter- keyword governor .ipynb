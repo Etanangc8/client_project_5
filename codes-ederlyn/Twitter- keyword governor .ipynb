{
 "cells": [
  {
   "cell_type": "markdown",
   "metadata": {},
   "source": [
    "<h1><center>Tweets from Twitter re. COVID</center></h1>"
   ]
  },
  {
   "cell_type": "markdown",
   "metadata": {},
   "source": [
    "## Keyword: \"Governor\""
   ]
  },
  {
   "cell_type": "markdown",
   "metadata": {},
   "source": [
    "- Playing around with parameters for twitter\n",
    "- df does not include \"since_date\" & \"until_date\" \n",
    "\n",
    "- https://towardsdatascience.com/how-to-scrape-tweets-from-twitter-59287e20f0f1\n",
    "- https://github.com/Etanangc8/TwitterBot/blob/master/TwitterScraper/GetOldTweets3_Twitter_Scraper.ipynb\n",
    "- https://github.com/Mottl/GetOldTweets3\n",
    "- https://bhaskarvk.github.io/2015/01/how-to-use-twitters-search-rest-api-most-effectively./"
   ]
  },
  {
   "cell_type": "code",
   "execution_count": 2,
   "metadata": {},
   "outputs": [
    {
     "name": "stdout",
     "output_type": "stream",
     "text": [
      "Collecting GetOldTweets3\n",
      "  Downloading GetOldTweets3-0.0.11-py3-none-any.whl (13 kB)\n",
      "Collecting pyquery>=1.2.10\n",
      "  Downloading pyquery-1.4.1-py2.py3-none-any.whl (22 kB)\n",
      "Requirement already satisfied: lxml>=3.5.0 in /Users/bibor/opt/anaconda3/lib/python3.7/site-packages (from GetOldTweets3) (4.5.0)\n",
      "Collecting cssselect>0.7.9\n",
      "  Downloading cssselect-1.1.0-py2.py3-none-any.whl (16 kB)\n",
      "Installing collected packages: cssselect, pyquery, GetOldTweets3\n",
      "Successfully installed GetOldTweets3-0.0.11 cssselect-1.1.0 pyquery-1.4.1\n"
     ]
    }
   ],
   "source": [
    "# !pip install GetOldTweets3"
   ]
  },
  {
   "cell_type": "code",
   "execution_count": 1,
   "metadata": {},
   "outputs": [],
   "source": [
    "import GetOldTweets3 as got\n",
    "import pandas as pd\n",
    "import time"
   ]
  },
  {
   "cell_type": "code",
   "execution_count": 2,
   "metadata": {},
   "outputs": [],
   "source": [
    "# function to request tweets from a state\n",
    "\n",
    "def tweets_by_states(state, text_query, since_date, until_date, count):\n",
    "     # Creation of query object\n",
    "    tweetCriteria = got.manager.TweetCriteria().setQuerySearch(text_query)\\\n",
    "                    .setSince(since_date).setUntil(until_date).setMaxTweets(count)\\\n",
    "                    .setTopTweets(True).setNear(state)\n",
    "    \n",
    "    # Creation of list that contains all tweets\n",
    "    tweets = got.manager.TweetManager.getTweets(tweetCriteria)\n",
    "    \n",
    "    # Creating list of chosen tweet data\n",
    "    text_tweets = [[tweet.date, tweet.text] for tweet in tweets]    \n",
    "    \n",
    "     # Creating dataframe from tweets\n",
    "    tweet_df = pd.DataFrame(text_tweets, columns = ['date', 'text'])\n",
    "    \n",
    "    # return tweet dataframe\n",
    "    return tweet_df"
   ]
  },
  {
   "cell_type": "code",
   "execution_count": 3,
   "metadata": {},
   "outputs": [],
   "source": [
    "# Creating list of states\n",
    "\n",
    "states = [\n",
    "        'Alabama',\n",
    "        'Alaska',\n",
    "        'Arizona',\n",
    "        'Arkansas',\n",
    "        'California',\n",
    "        'Colorado',\n",
    "        'Connecticut',\n",
    "        'DC',\n",
    "        'Delaware',\n",
    "        'Florida',\n",
    "        'Georgia',\n",
    "        'Hawaii',\n",
    "        'Idaho',\n",
    "        'Illinois',\n",
    "        'Indiana',\n",
    "        'Iowa',\n",
    "        'Kansas',\n",
    "        'Kentucky',\n",
    "        'Louisiana',\n",
    "        'Maine',\n",
    "        'Maryland',\n",
    "        'Massachusetts',\n",
    "        'Michigan',\n",
    "        'Minnesota',\n",
    "        'Mississippi',\n",
    "        'Missouri',\n",
    "        'Montana',\n",
    "        'Nebraska',\n",
    "        'Nevada',\n",
    "        'New Hampshire',\n",
    "        'New Jersey',\n",
    "        'New Mexico',\n",
    "        'New York',\n",
    "        'North Carolina',\n",
    "        'North Dakota',\n",
    "        'Ohio',\n",
    "        'Oklahoma',\n",
    "        'Oregon',\n",
    "        'Pennsylvania',\n",
    "        'Rhode Island',\n",
    "        'South Carolina',\n",
    "        'South Dakota',\n",
    "        'Tennessee',\n",
    "        'Texas',\n",
    "        'Utah',\n",
    "        'Vermont',\n",
    "        'Virginia',\n",
    "        'Washington',\n",
    "        'West Virginia',\n",
    "        'Wisconsin',\n",
    "        'Wyoming']"
   ]
  },
  {
   "cell_type": "markdown",
   "metadata": {},
   "source": [
    "#### Pulling tweets\n",
    "\n",
    "**\"governor\"** (did not declare mandate until March)\n",
    "\n",
    "Febr. 1, 2020 - Febr. 29, 2020"
   ]
  },
  {
   "cell_type": "code",
   "execution_count": 22,
   "metadata": {},
   "outputs": [
    {
     "name": "stdout",
     "output_type": "stream",
     "text": [
      "Alabama 1\n",
      "Alaska 2\n",
      "Arizona 3\n",
      "Arkansas 4\n",
      "California 5\n",
      "Colorado 6\n",
      "Connecticut 7\n",
      "DC 8\n",
      "Delaware 9\n",
      "Florida 10\n",
      "Georgia 11\n",
      "Hawaii 12\n",
      "Idaho 13\n",
      "Illinois 14\n",
      "Indiana 15\n",
      "Iowa 16\n",
      "Kansas 17\n",
      "Kentucky 18\n",
      "Louisiana 19\n",
      "Maine 20\n",
      "Maryland 21\n",
      "Massachusetts 22\n",
      "Michigan 23\n",
      "Minnesota 24\n",
      "Mississippi 25\n",
      "Missouri 26\n",
      "Montana 27\n",
      "Nebraska 28\n",
      "Nevada 29\n",
      "New Hampshire 30\n",
      "New Jersey 31\n",
      "New Mexico 32\n",
      "New York 33\n",
      "North Carolina 34\n",
      "North Dakota 35\n",
      "Ohio 36\n",
      "Oklahoma 37\n",
      "Oregon 38\n",
      "Pennsylvania 39\n",
      "Rhode Island 40\n",
      "South Carolina 41\n",
      "South Dakota 42\n",
      "Tennessee 43\n",
      "Texas 44\n",
      "Utah 45\n",
      "Vermont 46\n",
      "Virginia 47\n",
      "Washington 48\n",
      "West Virginia 49\n",
      "Wisconsin 50\n",
      "Wyoming 51\n"
     ]
    }
   ],
   "source": [
    "# # Creating empty dataframe\n",
    "# tweet_df = pd.DataFrame(columns = ['date', 'text', 'state', 'query_term'])\n",
    "\n",
    "# # Instantiating counter\n",
    "# counter = 0\n",
    "\n",
    "# # creating for loop to iterate through states\n",
    "# # pull tweets for each state\n",
    "# for state in states:\n",
    "#     counter += 1\n",
    "    \n",
    "#     # parameters of query\n",
    "#     text_query = 'selfquarantine'\n",
    "#     since_date = '2020-02-01'\n",
    "#     until_date = '2020-02-29'\n",
    "#     count = 2000\n",
    "    \n",
    "#     # pull tweets from twitter\n",
    "#     tweets = tweets_by_states(state, text_query, since_date, until_date, count)\n",
    "#     # add state name to 'state' column\n",
    "#     tweets['state'] = state\n",
    "#     # add query term to 'query_term' column\n",
    "#     tweets['query_term'] = text_query\n",
    "    \n",
    "#     # create dataframe from tweets\n",
    "#     tweet_df = tweet_df.append(tweets)\n",
    "# #     print(tweet_df)\n",
    "    \n",
    "#     # export tweets to csv file\n",
    "#     tweet_df.to_csv('../data/selfquarantine_Feb-byState.csv', index=False)\n",
    "    \n",
    "#     print(state, counter)\n",
    "#     time.sleep(3)"
   ]
  },
  {
   "cell_type": "code",
   "execution_count": 23,
   "metadata": {},
   "outputs": [],
   "source": [
    "# # read in data\n",
    "\n",
    "# sq_df = pd.read_csv('../data/selfquarantine_Feb-byState.csv')"
   ]
  },
  {
   "cell_type": "code",
   "execution_count": 24,
   "metadata": {},
   "outputs": [
    {
     "data": {
      "text/plain": [
       "(50, 4)"
      ]
     },
     "execution_count": 24,
     "metadata": {},
     "output_type": "execute_result"
    }
   ],
   "source": [
    "# sq_df.shape"
   ]
  },
  {
   "cell_type": "markdown",
   "metadata": {},
   "source": [
    "**\"governor\"**\n",
    "\n",
    "March. 1, 2020 - March. 31, 2020"
   ]
  },
  {
   "cell_type": "code",
   "execution_count": 4,
   "metadata": {
    "scrolled": false
   },
   "outputs": [
    {
     "name": "stdout",
     "output_type": "stream",
     "text": [
      "Alabama 1\n",
      "Alaska 2\n",
      "Arizona 3\n",
      "Arkansas 4\n",
      "California 5\n",
      "Colorado 6\n",
      "Connecticut 7\n",
      "DC 8\n",
      "Delaware 9\n",
      "Florida 10\n",
      "Georgia 11\n",
      "Hawaii 12\n",
      "Idaho 13\n",
      "Illinois 14\n",
      "Indiana 15\n",
      "Iowa 16\n",
      "Kansas 17\n",
      "Kentucky 18\n",
      "Louisiana 19\n",
      "Maine 20\n",
      "Maryland 21\n",
      "Massachusetts 22\n",
      "Michigan 23\n",
      "Minnesota 24\n",
      "Mississippi 25\n",
      "Missouri 26\n",
      "Montana 27\n",
      "Nebraska 28\n",
      "Nevada 29\n",
      "New Hampshire 30\n",
      "New Jersey 31\n",
      "New Mexico 32\n",
      "New York 33\n",
      "North Carolina 34\n",
      "North Dakota 35\n",
      "Ohio 36\n",
      "Oklahoma 37\n",
      "Oregon 38\n",
      "Pennsylvania 39\n",
      "Rhode Island 40\n",
      "South Carolina 41\n",
      "South Dakota 42\n",
      "Tennessee 43\n",
      "Texas 44\n",
      "Utah 45\n",
      "Vermont 46\n",
      "Virginia 47\n",
      "Washington 48\n",
      "West Virginia 49\n",
      "Wisconsin 50\n",
      "Wyoming 51\n"
     ]
    }
   ],
   "source": [
    "# Creating empty dataframe\n",
    "tweet_df = pd.DataFrame(columns = ['date', 'text', 'state', 'query_term'])\n",
    "\n",
    "# Instantiating counter\n",
    "counter = 0\n",
    "\n",
    "# creating for loop to iterate through states\n",
    "# pull tweets for each state\n",
    "for state in states:\n",
    "    counter += 1\n",
    "    \n",
    "    # parameters of query\n",
    "    text_query = 'governor'\n",
    "    since_date = '2020-03-01'\n",
    "    until_date = '2020-03-31'\n",
    "    count = 0\n",
    "    \n",
    "    # pull tweets from twitter\n",
    "    tweets = tweets_by_states(state, text_query, since_date, until_date, count)\n",
    "    # add state name to 'state' column\n",
    "    tweets['state'] = state\n",
    "    # add query term to 'query_term' column\n",
    "    tweets['query_term'] = text_query\n",
    "    \n",
    "    # create dataframe from tweets\n",
    "    tweet_df = tweet_df.append(tweets)\n",
    "#     print(tweet_df)\n",
    "    \n",
    "    # export tweets to csv file\n",
    "    tweet_df.to_csv('../data/governor_Mar-byState.csv', index=False)\n",
    "    \n",
    "    print(state, counter)\n",
    "    time.sleep(3)"
   ]
  },
  {
   "cell_type": "code",
   "execution_count": 3,
   "metadata": {},
   "outputs": [],
   "source": [
    "# read in data\n",
    "\n",
    "gov_df1 = pd.read_csv('../data/governor_Mar-byState.csv')"
   ]
  },
  {
   "cell_type": "code",
   "execution_count": 11,
   "metadata": {},
   "outputs": [
    {
     "data": {
      "text/plain": [
       "(814, 4)"
      ]
     },
     "execution_count": 11,
     "metadata": {},
     "output_type": "execute_result"
    }
   ],
   "source": [
    "gov_df1.shape"
   ]
  },
  {
   "cell_type": "markdown",
   "metadata": {},
   "source": [
    "**\"governor\"**\n",
    "\n",
    "April. 1, 2020 - April. 30, 2020"
   ]
  },
  {
   "cell_type": "code",
   "execution_count": 7,
   "metadata": {
    "scrolled": false
   },
   "outputs": [
    {
     "name": "stdout",
     "output_type": "stream",
     "text": [
      "Alabama 1\n",
      "Alaska 2\n",
      "Arizona 3\n",
      "Arkansas 4\n",
      "California 5\n",
      "Colorado 6\n",
      "Connecticut 7\n",
      "DC 8\n",
      "Delaware 9\n",
      "Florida 10\n",
      "Georgia 11\n",
      "Hawaii 12\n",
      "Idaho 13\n",
      "Illinois 14\n",
      "Indiana 15\n",
      "Iowa 16\n",
      "Kansas 17\n",
      "Kentucky 18\n",
      "Louisiana 19\n",
      "Maine 20\n",
      "Maryland 21\n",
      "Massachusetts 22\n",
      "Michigan 23\n",
      "Minnesota 24\n",
      "Mississippi 25\n",
      "Missouri 26\n",
      "Montana 27\n",
      "Nebraska 28\n",
      "Nevada 29\n",
      "New Hampshire 30\n",
      "New Jersey 31\n",
      "New Mexico 32\n",
      "New York 33\n",
      "North Carolina 34\n",
      "North Dakota 35\n",
      "Ohio 36\n",
      "Oklahoma 37\n",
      "Oregon 38\n",
      "Pennsylvania 39\n",
      "Rhode Island 40\n",
      "South Carolina 41\n",
      "South Dakota 42\n",
      "Tennessee 43\n",
      "Texas 44\n",
      "Utah 45\n",
      "Vermont 46\n",
      "Virginia 47\n",
      "Washington 48\n",
      "West Virginia 49\n",
      "Wisconsin 50\n",
      "Wyoming 51\n"
     ]
    }
   ],
   "source": [
    "# Creating empty dataframe\n",
    "tweet_df = pd.DataFrame(columns = ['date', 'text', 'state', 'query_term'])\n",
    "\n",
    "# Instantiating counter\n",
    "counter = 0\n",
    "\n",
    "# creating for loop to iterate through states\n",
    "# pull tweets for each state\n",
    "for state in states:\n",
    "    counter += 1\n",
    "    \n",
    "    # parameters of query\n",
    "    text_query = 'governor'\n",
    "    since_date = '2020-04-01'\n",
    "    until_date = '2020-04-30'\n",
    "    count = 0 # get everything\n",
    "    \n",
    "    # pull tweets from twitter\n",
    "    tweets = tweets_by_states(state, text_query, since_date, until_date, count)\n",
    "    # add state name to 'state' column\n",
    "    tweets['state'] = state\n",
    "    # add query term to 'query_term' column\n",
    "    tweets['query_term'] = text_query\n",
    "    \n",
    "    # create dataframe from tweets\n",
    "    tweet_df = tweet_df.append(tweets)\n",
    "#     print(tweet_df)\n",
    "    \n",
    "    # export tweets to csv file\n",
    "    tweet_df.to_csv('../data/governor_April-byState.csv', index=False)\n",
    "    \n",
    "    print(state, counter)\n",
    "    time.sleep(3)"
   ]
  },
  {
   "cell_type": "code",
   "execution_count": 4,
   "metadata": {},
   "outputs": [],
   "source": [
    "# read in data\n",
    "\n",
    "gov_df2 = pd.read_csv('../data/governor_April-byState.csv')"
   ]
  },
  {
   "cell_type": "code",
   "execution_count": 13,
   "metadata": {},
   "outputs": [
    {
     "data": {
      "text/plain": [
       "(790, 4)"
      ]
     },
     "execution_count": 13,
     "metadata": {},
     "output_type": "execute_result"
    }
   ],
   "source": [
    "gov_df2.shape"
   ]
  },
  {
   "cell_type": "markdown",
   "metadata": {},
   "source": [
    "**\"governor\"**\n",
    "\n",
    "May. 1, 2020 - May. 10, 2020"
   ]
  },
  {
   "cell_type": "code",
   "execution_count": 14,
   "metadata": {
    "scrolled": false
   },
   "outputs": [
    {
     "name": "stdout",
     "output_type": "stream",
     "text": [
      "Alabama 1\n",
      "Alaska 2\n",
      "Arizona 3\n",
      "Arkansas 4\n",
      "California 5\n",
      "Colorado 6\n",
      "Connecticut 7\n",
      "DC 8\n",
      "Delaware 9\n",
      "Florida 10\n",
      "Georgia 11\n",
      "Hawaii 12\n",
      "Idaho 13\n",
      "Illinois 14\n",
      "Indiana 15\n",
      "Iowa 16\n",
      "Kansas 17\n",
      "Kentucky 18\n",
      "Louisiana 19\n",
      "Maine 20\n",
      "Maryland 21\n",
      "Massachusetts 22\n",
      "Michigan 23\n",
      "Minnesota 24\n",
      "Mississippi 25\n",
      "Missouri 26\n",
      "Montana 27\n",
      "Nebraska 28\n",
      "Nevada 29\n",
      "New Hampshire 30\n",
      "New Jersey 31\n",
      "New Mexico 32\n",
      "New York 33\n",
      "North Carolina 34\n",
      "North Dakota 35\n",
      "Ohio 36\n",
      "Oklahoma 37\n",
      "Oregon 38\n",
      "Pennsylvania 39\n",
      "Rhode Island 40\n",
      "South Carolina 41\n",
      "South Dakota 42\n",
      "Tennessee 43\n",
      "Texas 44\n",
      "Utah 45\n",
      "Vermont 46\n",
      "Virginia 47\n",
      "Washington 48\n",
      "West Virginia 49\n",
      "Wisconsin 50\n",
      "Wyoming 51\n"
     ]
    }
   ],
   "source": [
    "# Creating empty dataframe\n",
    "tweet_df = pd.DataFrame(columns = ['date', 'text', 'state', 'query_term'])\n",
    "\n",
    "# Instantiating counter\n",
    "counter = 0\n",
    "\n",
    "# creating for loop to iterate through states\n",
    "# pull tweets for each state\n",
    "for state in states:\n",
    "    counter += 1\n",
    "    \n",
    "    # parameters of query\n",
    "    text_query = 'governor'\n",
    "    since_date = '2020-05-01'\n",
    "    until_date = '2020-05-10'\n",
    "    count = 0 # get everything\n",
    "    \n",
    "    # pull tweets from twitter\n",
    "    tweets = tweets_by_states(state, text_query, since_date, until_date, count)\n",
    "    # add state name to 'state' column\n",
    "    tweets['state'] = state\n",
    "    # add query term to 'query_term' column\n",
    "    tweets['query_term'] = text_query\n",
    "    \n",
    "    # create dataframe from tweets\n",
    "    tweet_df = tweet_df.append(tweets)\n",
    "#     print(tweet_df)\n",
    "    \n",
    "    # export tweets to csv file\n",
    "    tweet_df.to_csv('../data/governor_May-byState.csv', index=False)\n",
    "    \n",
    "    print(state, counter)\n",
    "    time.sleep(4)"
   ]
  },
  {
   "cell_type": "code",
   "execution_count": 5,
   "metadata": {},
   "outputs": [],
   "source": [
    "# read in data\n",
    "\n",
    "gov_df3 = pd.read_csv('../data/governor_May-byState.csv')"
   ]
  },
  {
   "cell_type": "code",
   "execution_count": 16,
   "metadata": {},
   "outputs": [
    {
     "data": {
      "text/plain": [
       "(790, 4)"
      ]
     },
     "execution_count": 16,
     "metadata": {},
     "output_type": "execute_result"
    }
   ],
   "source": [
    "gov_df.shape"
   ]
  },
  {
   "cell_type": "code",
   "execution_count": 6,
   "metadata": {},
   "outputs": [],
   "source": [
    "governor_df = pd.concat([gov_df1, gov_df2, gov_df3], axis=0)\n"
   ]
  },
  {
   "cell_type": "code",
   "execution_count": 7,
   "metadata": {},
   "outputs": [
    {
     "data": {
      "text/plain": [
       "(9027, 4)"
      ]
     },
     "execution_count": 7,
     "metadata": {},
     "output_type": "execute_result"
    }
   ],
   "source": [
    "governor_df.shape"
   ]
  },
  {
   "cell_type": "code",
   "execution_count": 8,
   "metadata": {},
   "outputs": [
    {
     "data": {
      "text/html": [
       "<div>\n",
       "<style scoped>\n",
       "    .dataframe tbody tr th:only-of-type {\n",
       "        vertical-align: middle;\n",
       "    }\n",
       "\n",
       "    .dataframe tbody tr th {\n",
       "        vertical-align: top;\n",
       "    }\n",
       "\n",
       "    .dataframe thead th {\n",
       "        text-align: right;\n",
       "    }\n",
       "</style>\n",
       "<table border=\"1\" class=\"dataframe\">\n",
       "  <thead>\n",
       "    <tr style=\"text-align: right;\">\n",
       "      <th></th>\n",
       "      <th>date</th>\n",
       "      <th>text</th>\n",
       "      <th>state</th>\n",
       "      <th>query_term</th>\n",
       "    </tr>\n",
       "  </thead>\n",
       "  <tbody>\n",
       "    <tr>\n",
       "      <th>330</th>\n",
       "      <td>2020-03-19 16:41:22+00:00</td>\n",
       "      <td>All #schools in the state is #Ms are now close...</td>\n",
       "      <td>Mississippi</td>\n",
       "      <td>governor</td>\n",
       "    </tr>\n",
       "    <tr>\n",
       "      <th>703</th>\n",
       "      <td>2020-03-23 16:48:15+00:00</td>\n",
       "      <td>MOVING WORDS! “The church is a body not a buil...</td>\n",
       "      <td>Vermont</td>\n",
       "      <td>governor</td>\n",
       "    </tr>\n",
       "    <tr>\n",
       "      <th>704</th>\n",
       "      <td>2020-03-30 13:14:45+00:00</td>\n",
       "      <td>Maryland Governor @GovLarryHogan just now on F...</td>\n",
       "      <td>Washington</td>\n",
       "      <td>governor</td>\n",
       "    </tr>\n",
       "    <tr>\n",
       "      <th>705</th>\n",
       "      <td>2020-03-30 11:21:06+00:00</td>\n",
       "      <td>“Few things are more important than the facts ...</td>\n",
       "      <td>Washington</td>\n",
       "      <td>governor</td>\n",
       "    </tr>\n",
       "    <tr>\n",
       "      <th>706</th>\n",
       "      <td>2020-03-28 13:21:00+00:00</td>\n",
       "      <td>“Even those who are Trump’s political allies a...</td>\n",
       "      <td>Washington</td>\n",
       "      <td>governor</td>\n",
       "    </tr>\n",
       "    <tr>\n",
       "      <th>...</th>\n",
       "      <td>...</td>\n",
       "      <td>...</td>\n",
       "      <td>...</td>\n",
       "      <td>...</td>\n",
       "    </tr>\n",
       "    <tr>\n",
       "      <th>7248</th>\n",
       "      <td>2020-05-01 00:38:48+00:00</td>\n",
       "      <td>If I recall correctly, one of @RoyPeterClark’s...</td>\n",
       "      <td>Washington</td>\n",
       "      <td>governor</td>\n",
       "    </tr>\n",
       "    <tr>\n",
       "      <th>7249</th>\n",
       "      <td>2020-05-01 00:11:00+00:00</td>\n",
       "      <td>This man why is he being so rude with Governor...</td>\n",
       "      <td>Washington</td>\n",
       "      <td>governor</td>\n",
       "    </tr>\n",
       "    <tr>\n",
       "      <th>7268</th>\n",
       "      <td>2020-05-08 00:54:36+00:00</td>\n",
       "      <td>Thank you Governor</td>\n",
       "      <td>Wyoming</td>\n",
       "      <td>governor</td>\n",
       "    </tr>\n",
       "    <tr>\n",
       "      <th>7410</th>\n",
       "      <td>2020-05-03 15:56:29+00:00</td>\n",
       "      <td>RIOT ACT Activated by NM Governor COMPLETELY ...</td>\n",
       "      <td>Wyoming</td>\n",
       "      <td>governor</td>\n",
       "    </tr>\n",
       "    <tr>\n",
       "      <th>7414</th>\n",
       "      <td>2020-05-02 23:33:29+00:00</td>\n",
       "      <td>BREAKING: Conservative Superstar CANDACE OWENS...</td>\n",
       "      <td>Wyoming</td>\n",
       "      <td>governor</td>\n",
       "    </tr>\n",
       "  </tbody>\n",
       "</table>\n",
       "<p>590 rows × 4 columns</p>\n",
       "</div>"
      ],
      "text/plain": [
       "                           date  \\\n",
       "330   2020-03-19 16:41:22+00:00   \n",
       "703   2020-03-23 16:48:15+00:00   \n",
       "704   2020-03-30 13:14:45+00:00   \n",
       "705   2020-03-30 11:21:06+00:00   \n",
       "706   2020-03-28 13:21:00+00:00   \n",
       "...                         ...   \n",
       "7248  2020-05-01 00:38:48+00:00   \n",
       "7249  2020-05-01 00:11:00+00:00   \n",
       "7268  2020-05-08 00:54:36+00:00   \n",
       "7410  2020-05-03 15:56:29+00:00   \n",
       "7414  2020-05-02 23:33:29+00:00   \n",
       "\n",
       "                                                   text        state  \\\n",
       "330   All #schools in the state is #Ms are now close...  Mississippi   \n",
       "703   MOVING WORDS! “The church is a body not a buil...      Vermont   \n",
       "704   Maryland Governor @GovLarryHogan just now on F...   Washington   \n",
       "705   “Few things are more important than the facts ...   Washington   \n",
       "706   “Even those who are Trump’s political allies a...   Washington   \n",
       "...                                                 ...          ...   \n",
       "7248  If I recall correctly, one of @RoyPeterClark’s...   Washington   \n",
       "7249  This man why is he being so rude with Governor...   Washington   \n",
       "7268                                 Thank you Governor      Wyoming   \n",
       "7410   RIOT ACT Activated by NM Governor COMPLETELY ...      Wyoming   \n",
       "7414  BREAKING: Conservative Superstar CANDACE OWENS...      Wyoming   \n",
       "\n",
       "     query_term  \n",
       "330    governor  \n",
       "703    governor  \n",
       "704    governor  \n",
       "705    governor  \n",
       "706    governor  \n",
       "...         ...  \n",
       "7248   governor  \n",
       "7249   governor  \n",
       "7268   governor  \n",
       "7410   governor  \n",
       "7414   governor  \n",
       "\n",
       "[590 rows x 4 columns]"
      ]
     },
     "execution_count": 8,
     "metadata": {},
     "output_type": "execute_result"
    }
   ],
   "source": [
    "governor_df[governor_df['text'].duplicated() == True]\n"
   ]
  },
  {
   "cell_type": "code",
   "execution_count": 9,
   "metadata": {},
   "outputs": [],
   "source": [
    "governor_df = governor_df.drop_duplicates(subset=\"text\")\n"
   ]
  },
  {
   "cell_type": "code",
   "execution_count": 10,
   "metadata": {},
   "outputs": [
    {
     "data": {
      "text/plain": [
       "date          0\n",
       "text          1\n",
       "state         0\n",
       "query_term    0\n",
       "dtype: int64"
      ]
     },
     "execution_count": 10,
     "metadata": {},
     "output_type": "execute_result"
    }
   ],
   "source": [
    "governor_df.isnull().sum()"
   ]
  },
  {
   "cell_type": "code",
   "execution_count": 11,
   "metadata": {},
   "outputs": [],
   "source": [
    "governor_df = governor_df.dropna(axis=0)"
   ]
  },
  {
   "cell_type": "code",
   "execution_count": 12,
   "metadata": {},
   "outputs": [
    {
     "data": {
      "text/plain": [
       "(8436, 4)"
      ]
     },
     "execution_count": 12,
     "metadata": {},
     "output_type": "execute_result"
    }
   ],
   "source": [
    "governor_df.shape"
   ]
  },
  {
   "cell_type": "code",
   "execution_count": 13,
   "metadata": {},
   "outputs": [],
   "source": [
    "governor_df.to_csv('../data/governor_compiled.csv')\n"
   ]
  },
  {
   "cell_type": "code",
   "execution_count": null,
   "metadata": {},
   "outputs": [],
   "source": []
  }
 ],
 "metadata": {
  "kernelspec": {
   "display_name": "Python 3",
   "language": "python",
   "name": "python3"
  },
  "language_info": {
   "codemirror_mode": {
    "name": "ipython",
    "version": 3
   },
   "file_extension": ".py",
   "mimetype": "text/x-python",
   "name": "python",
   "nbconvert_exporter": "python",
   "pygments_lexer": "ipython3",
   "version": "3.7.6"
  }
 },
 "nbformat": 4,
 "nbformat_minor": 4
}
