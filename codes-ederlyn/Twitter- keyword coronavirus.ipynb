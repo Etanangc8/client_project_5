{
 "cells": [
  {
   "cell_type": "markdown",
   "metadata": {},
   "source": [
    "<h1><center>Tweets from Twitter re. COVID</center></h1>"
   ]
  },
  {
   "cell_type": "markdown",
   "metadata": {},
   "source": [
    "## Keyword: \"CORONAVIRUS\""
   ]
  },
  {
   "cell_type": "markdown",
   "metadata": {},
   "source": [
    "- Playing around with parameters for twitter\n",
    "- df does not include \"since_date\" & \"until_date\" \n",
    "\n",
    "- https://towardsdatascience.com/how-to-scrape-tweets-from-twitter-59287e20f0f1\n",
    "- https://github.com/Etanangc8/TwitterBot/blob/master/TwitterScraper/GetOldTweets3_Twitter_Scraper.ipynb\n",
    "- https://github.com/Mottl/GetOldTweets3\n",
    "- https://bhaskarvk.github.io/2015/01/how-to-use-twitters-search-rest-api-most-effectively./"
   ]
  },
  {
   "cell_type": "code",
   "execution_count": 2,
   "metadata": {},
   "outputs": [
    {
     "name": "stdout",
     "output_type": "stream",
     "text": [
      "Collecting GetOldTweets3\n",
      "  Downloading GetOldTweets3-0.0.11-py3-none-any.whl (13 kB)\n",
      "Collecting pyquery>=1.2.10\n",
      "  Downloading pyquery-1.4.1-py2.py3-none-any.whl (22 kB)\n",
      "Requirement already satisfied: lxml>=3.5.0 in /Users/bibor/opt/anaconda3/lib/python3.7/site-packages (from GetOldTweets3) (4.5.0)\n",
      "Collecting cssselect>0.7.9\n",
      "  Downloading cssselect-1.1.0-py2.py3-none-any.whl (16 kB)\n",
      "Installing collected packages: cssselect, pyquery, GetOldTweets3\n",
      "Successfully installed GetOldTweets3-0.0.11 cssselect-1.1.0 pyquery-1.4.1\n"
     ]
    }
   ],
   "source": [
    "# !pip install GetOldTweets3"
   ]
  },
  {
   "cell_type": "code",
   "execution_count": 1,
   "metadata": {},
   "outputs": [],
   "source": [
    "import GetOldTweets3 as got\n",
    "import pandas as pd\n",
    "import time"
   ]
  },
  {
   "cell_type": "code",
   "execution_count": 2,
   "metadata": {},
   "outputs": [],
   "source": [
    "# function to request tweets from a state\n",
    "\n",
    "def tweets_by_states(state, text_query, since_date, until_date, count):\n",
    "     # Creation of query object\n",
    "    tweetCriteria = got.manager.TweetCriteria().setQuerySearch(text_query)\\\n",
    "                    .setSince(since_date).setUntil(until_date).setMaxTweets(count)\\\n",
    "                    .setTopTweets(True).setNear(state)\n",
    "    \n",
    "    # Creation of list that contains all tweets\n",
    "    tweets = got.manager.TweetManager.getTweets(tweetCriteria)\n",
    "    \n",
    "    # Creating list of chosen tweet data\n",
    "    text_tweets = [[tweet.date, tweet.text] for tweet in tweets]    \n",
    "    \n",
    "     # Creating dataframe from tweets\n",
    "    tweet_df = pd.DataFrame(text_tweets, columns = ['date', 'text'])\n",
    "    \n",
    "    # return tweet dataframe\n",
    "    return tweet_df"
   ]
  },
  {
   "cell_type": "code",
   "execution_count": 3,
   "metadata": {},
   "outputs": [],
   "source": [
    "# Creating list of states\n",
    "\n",
    "states = [\n",
    "        'Alabama',\n",
    "        'Alaska',\n",
    "        'Arizona',\n",
    "        'Arkansas',\n",
    "        'California',\n",
    "        'Colorado',\n",
    "        'Connecticut',\n",
    "        'DC',\n",
    "        'Delaware',\n",
    "        'Florida',\n",
    "        'Georgia',\n",
    "        'Hawaii',\n",
    "        'Idaho',\n",
    "        'Illinois',\n",
    "        'Indiana',\n",
    "        'Iowa',\n",
    "        'Kansas',\n",
    "        'Kentucky',\n",
    "        'Louisiana',\n",
    "        'Maine',\n",
    "        'Maryland',\n",
    "        'Massachusetts',\n",
    "        'Michigan',\n",
    "        'Minnesota',\n",
    "        'Mississippi',\n",
    "        'Missouri',\n",
    "        'Montana',\n",
    "        'Nebraska',\n",
    "        'Nevada',\n",
    "        'New Hampshire',\n",
    "        'New Jersey',\n",
    "        'New Mexico',\n",
    "        'New York',\n",
    "        'North Carolina',\n",
    "        'North Dakota',\n",
    "        'Ohio',\n",
    "        'Oklahoma',\n",
    "        'Oregon',\n",
    "        'Pennsylvania',\n",
    "        'Rhode Island',\n",
    "        'South Carolina',\n",
    "        'South Dakota',\n",
    "        'Tennessee',\n",
    "        'Texas',\n",
    "        'Utah',\n",
    "        'Vermont',\n",
    "        'Virginia',\n",
    "        'Washington',\n",
    "        'West Virginia',\n",
    "        'Wisconsin',\n",
    "        'Wyoming']"
   ]
  },
  {
   "cell_type": "markdown",
   "metadata": {},
   "source": [
    "#### Pulling tweets\n",
    "\n",
    "**\"coronavirus\"**\n",
    "\n",
    "Feb. 1, 2020 - Feb. 29, 2020"
   ]
  },
  {
   "cell_type": "code",
   "execution_count": 36,
   "metadata": {},
   "outputs": [
    {
     "name": "stdout",
     "output_type": "stream",
     "text": [
      "Alabama 1\n",
      "Alaska 2\n",
      "Arizona 3\n",
      "Arkansas 4\n",
      "California 5\n",
      "Colorado 6\n",
      "Connecticut 7\n",
      "DC 8\n",
      "Delaware 9\n",
      "Florida 10\n",
      "Georgia 11\n",
      "Hawaii 12\n",
      "Idaho 13\n",
      "Illinois 14\n",
      "Indiana 15\n",
      "Iowa 16\n",
      "Kansas 17\n",
      "Kentucky 18\n",
      "Louisiana 19\n",
      "Maine 20\n",
      "Maryland 21\n",
      "Massachusetts 22\n",
      "Michigan 23\n",
      "Minnesota 24\n",
      "Mississippi 25\n",
      "Missouri 26\n",
      "Montana 27\n",
      "Nebraska 28\n",
      "Nevada 29\n",
      "New Hampshire 30\n",
      "New Jersey 31\n",
      "New Mexico 32\n",
      "New York 33\n",
      "North Carolina 34\n",
      "North Dakota 35\n",
      "Ohio 36\n",
      "Oklahoma 37\n",
      "Oregon 38\n",
      "Pennsylvania 39\n",
      "Rhode Island 40\n",
      "South Carolina 41\n",
      "South Dakota 42\n",
      "Tennessee 43\n",
      "Texas 44\n",
      "Utah 45\n",
      "Vermont 46\n",
      "Virginia 47\n",
      "Washington 48\n",
      "West Virginia 49\n",
      "Wisconsin 50\n",
      "Wyoming 51\n"
     ]
    }
   ],
   "source": [
    "# Creating empty dataframe\n",
    "tweet_df = pd.DataFrame(columns = ['date', 'text', 'state', 'query_term'])\n",
    "\n",
    "# Instantiating counter\n",
    "counter = 0\n",
    "\n",
    "# creating for loop to iterate through states\n",
    "# pull tweets for each state\n",
    "for state in states:\n",
    "    counter += 1\n",
    "    \n",
    "    # parameters of query\n",
    "    text_query = 'coronavirus'\n",
    "    since_date = '2020-02-01'\n",
    "    until_date = '2020-02-29'\n",
    "    count = 2000\n",
    "    \n",
    "    # pull tweets from twitter\n",
    "    tweets = tweets_by_states(state, text_query, since_date, until_date, count)\n",
    "    # add state name to 'state' column\n",
    "    tweets['state'] = state\n",
    "    # add query term to 'query_term' column\n",
    "    tweets['query_term'] = text_query\n",
    "    \n",
    "    # create dataframe from tweets\n",
    "    tweet_df = tweet_df.append(tweets)\n",
    "#     print(tweet_df)\n",
    "    \n",
    "    # export tweets to csv file\n",
    "    tweet_df.to_csv('../data/coronavirus_Feb_byState.csv', index=False)\n",
    "    \n",
    "    print(state, counter)\n",
    "    time.sleep(3)"
   ]
  },
  {
   "cell_type": "code",
   "execution_count": 37,
   "metadata": {},
   "outputs": [],
   "source": [
    "# read in data\n",
    "\n",
    "coronavirus_df = pd.read_csv('../data/coronavirus_Feb_byState.csv')"
   ]
  },
  {
   "cell_type": "code",
   "execution_count": 38,
   "metadata": {},
   "outputs": [
    {
     "data": {
      "text/plain": [
       "(813, 4)"
      ]
     },
     "execution_count": 38,
     "metadata": {},
     "output_type": "execute_result"
    }
   ],
   "source": [
    "coronavirus_df.shape"
   ]
  },
  {
   "cell_type": "markdown",
   "metadata": {},
   "source": [
    "**\"coronavirus\"**\n",
    "\n",
    "March. 1, 2020 - March. 31, 2020"
   ]
  },
  {
   "cell_type": "code",
   "execution_count": 39,
   "metadata": {
    "scrolled": false
   },
   "outputs": [
    {
     "name": "stdout",
     "output_type": "stream",
     "text": [
      "Alabama 1\n",
      "Alaska 2\n",
      "Arizona 3\n",
      "Arkansas 4\n",
      "California 5\n",
      "Colorado 6\n",
      "Connecticut 7\n",
      "DC 8\n",
      "Delaware 9\n",
      "Florida 10\n",
      "Georgia 11\n",
      "Hawaii 12\n",
      "Idaho 13\n",
      "Illinois 14\n",
      "Indiana 15\n",
      "Iowa 16\n",
      "Kansas 17\n",
      "Kentucky 18\n",
      "Louisiana 19\n",
      "Maine 20\n",
      "Maryland 21\n",
      "Massachusetts 22\n",
      "Michigan 23\n",
      "Minnesota 24\n",
      "Mississippi 25\n",
      "Missouri 26\n",
      "Montana 27\n",
      "Nebraska 28\n",
      "Nevada 29\n",
      "New Hampshire 30\n",
      "New Jersey 31\n",
      "New Mexico 32\n",
      "New York 33\n",
      "North Carolina 34\n",
      "North Dakota 35\n",
      "Ohio 36\n",
      "Oklahoma 37\n",
      "Oregon 38\n",
      "Pennsylvania 39\n",
      "Rhode Island 40\n",
      "South Carolina 41\n",
      "South Dakota 42\n",
      "Tennessee 43\n",
      "Texas 44\n",
      "Utah 45\n",
      "Vermont 46\n",
      "Virginia 47\n",
      "Washington 48\n",
      "West Virginia 49\n",
      "Wisconsin 50\n",
      "Wyoming 51\n"
     ]
    }
   ],
   "source": [
    "# Creating empty dataframe\n",
    "tweet_df = pd.DataFrame(columns = ['date', 'text', 'state', 'query_term'])\n",
    "\n",
    "# Instantiating counter\n",
    "counter = 0\n",
    "\n",
    "# creating for loop to iterate through states\n",
    "# pull tweets for each state\n",
    "for state in states:\n",
    "    counter += 1\n",
    "    \n",
    "    # parameters of query\n",
    "    text_query = 'coronavirus'\n",
    "    since_date = '2020-03-01'\n",
    "    until_date = '2020-03-31'\n",
    "    count = 0\n",
    "    \n",
    "    # pull tweets from twitter\n",
    "    tweets = tweets_by_states(state, text_query, since_date, until_date, count)\n",
    "    # add state name to 'state' column\n",
    "    tweets['state'] = state\n",
    "    # add query term to 'query_term' column\n",
    "    tweets['query_term'] = text_query\n",
    "    \n",
    "    # create dataframe from tweets\n",
    "    tweet_df = tweet_df.append(tweets)\n",
    "#     print(tweet_df)\n",
    "    \n",
    "    # export tweets to csv file\n",
    "    tweet_df.to_csv('../data/coronavirus_March-byState.csv', index=False)\n",
    "    \n",
    "    print(state, counter)\n",
    "    time.sleep(3)"
   ]
  },
  {
   "cell_type": "code",
   "execution_count": 40,
   "metadata": {},
   "outputs": [],
   "source": [
    "# read in data\n",
    "\n",
    "coronavirus_df = pd.read_csv('../data/coronavirus_March-byState.csv')"
   ]
  },
  {
   "cell_type": "code",
   "execution_count": 41,
   "metadata": {},
   "outputs": [
    {
     "data": {
      "text/plain": [
       "(2304, 4)"
      ]
     },
     "execution_count": 41,
     "metadata": {},
     "output_type": "execute_result"
    }
   ],
   "source": [
    "coronavirus_df.shape"
   ]
  },
  {
   "cell_type": "markdown",
   "metadata": {},
   "source": [
    "**\"coronavirus\"**\n",
    "\n",
    "April. 1, 2020 - April. 30, 2020"
   ]
  },
  {
   "cell_type": "code",
   "execution_count": 42,
   "metadata": {
    "scrolled": false
   },
   "outputs": [
    {
     "name": "stdout",
     "output_type": "stream",
     "text": [
      "Alabama 1\n",
      "Alaska 2\n",
      "Arizona 3\n",
      "Arkansas 4\n",
      "California 5\n",
      "Colorado 6\n",
      "Connecticut 7\n",
      "DC 8\n",
      "Delaware 9\n",
      "Florida 10\n",
      "Georgia 11\n",
      "Hawaii 12\n",
      "Idaho 13\n",
      "Illinois 14\n",
      "Indiana 15\n",
      "Iowa 16\n",
      "Kansas 17\n",
      "Kentucky 18\n",
      "Louisiana 19\n",
      "Maine 20\n",
      "Maryland 21\n",
      "Massachusetts 22\n",
      "Michigan 23\n",
      "Minnesota 24\n",
      "Mississippi 25\n",
      "Missouri 26\n",
      "Montana 27\n",
      "Nebraska 28\n",
      "Nevada 29\n",
      "New Hampshire 30\n",
      "New Jersey 31\n",
      "New Mexico 32\n",
      "New York 33\n",
      "North Carolina 34\n",
      "North Dakota 35\n",
      "Ohio 36\n",
      "Oklahoma 37\n",
      "Oregon 38\n",
      "Pennsylvania 39\n",
      "Rhode Island 40\n",
      "South Carolina 41\n",
      "South Dakota 42\n",
      "Tennessee 43\n",
      "Texas 44\n",
      "Utah 45\n",
      "Vermont 46\n",
      "Virginia 47\n",
      "Washington 48\n",
      "West Virginia 49\n",
      "Wisconsin 50\n",
      "Wyoming 51\n"
     ]
    }
   ],
   "source": [
    "# Creating empty dataframe\n",
    "tweet_df = pd.DataFrame(columns = ['date', 'text', 'state', 'query_term'])\n",
    "\n",
    "# Instantiating counter\n",
    "counter = 0\n",
    "\n",
    "# creating for loop to iterate through states\n",
    "# pull tweets for each state\n",
    "for state in states:\n",
    "    counter += 1\n",
    "    \n",
    "    # parameters of query\n",
    "    text_query = 'coronavirus'\n",
    "    since_date = '2020-04-01'\n",
    "    until_date = '2020-04-30'\n",
    "    count = 0 # get everything\n",
    "    \n",
    "    # pull tweets from twitter\n",
    "    tweets = tweets_by_states(state, text_query, since_date, until_date, count)\n",
    "    # add state name to 'state' column\n",
    "    tweets['state'] = state\n",
    "    # add query term to 'query_term' column\n",
    "    tweets['query_term'] = text_query\n",
    "    \n",
    "    # create dataframe from tweets\n",
    "    tweet_df = tweet_df.append(tweets)\n",
    "#     print(tweet_df)\n",
    "    \n",
    "    # export tweets to csv file\n",
    "    tweet_df.to_csv('../data/coronavirus_April-byState.csv', index=False)\n",
    "    \n",
    "    print(state, counter)\n",
    "    time.sleep(3)"
   ]
  },
  {
   "cell_type": "code",
   "execution_count": 43,
   "metadata": {},
   "outputs": [],
   "source": [
    "# read in data\n",
    "\n",
    "coronavirus_df = pd.read_csv('../data/coronavirus_April-byState.csv')"
   ]
  },
  {
   "cell_type": "code",
   "execution_count": 44,
   "metadata": {},
   "outputs": [
    {
     "data": {
      "text/plain": [
       "(1280, 4)"
      ]
     },
     "execution_count": 44,
     "metadata": {},
     "output_type": "execute_result"
    }
   ],
   "source": [
    "coronavirus_df.shape"
   ]
  },
  {
   "cell_type": "markdown",
   "metadata": {},
   "source": [
    "**\"coronavirus\"**\n",
    "\n",
    "May. 1, 2020 - May. 9, 2020"
   ]
  },
  {
   "cell_type": "code",
   "execution_count": 5,
   "metadata": {
    "scrolled": false
   },
   "outputs": [
    {
     "name": "stdout",
     "output_type": "stream",
     "text": [
      "Alabama 1\n",
      "Alaska 2\n",
      "Arizona 3\n",
      "Arkansas 4\n",
      "California 5\n",
      "Colorado 6\n",
      "Connecticut 7\n",
      "DC 8\n",
      "Delaware 9\n",
      "Florida 10\n",
      "Georgia 11\n",
      "Hawaii 12\n",
      "Idaho 13\n",
      "Illinois 14\n",
      "Indiana 15\n",
      "Iowa 16\n",
      "Kansas 17\n",
      "Kentucky 18\n",
      "Louisiana 19\n",
      "Maine 20\n",
      "Maryland 21\n",
      "Massachusetts 22\n",
      "Michigan 23\n",
      "Minnesota 24\n",
      "Mississippi 25\n",
      "Missouri 26\n",
      "Montana 27\n",
      "Nebraska 28\n",
      "Nevada 29\n",
      "New Hampshire 30\n",
      "New Jersey 31\n",
      "New Mexico 32\n",
      "New York 33\n",
      "North Carolina 34\n",
      "North Dakota 35\n",
      "Ohio 36\n",
      "Oklahoma 37\n",
      "Oregon 38\n",
      "Pennsylvania 39\n",
      "Rhode Island 40\n",
      "South Carolina 41\n",
      "South Dakota 42\n",
      "Tennessee 43\n",
      "Texas 44\n",
      "Utah 45\n",
      "Vermont 46\n",
      "Virginia 47\n",
      "Washington 48\n",
      "West Virginia 49\n",
      "Wisconsin 50\n"
     ]
    },
    {
     "name": "stderr",
     "output_type": "stream",
     "text": [
      "ERROR:root:Internal Python error in the inspect module.\n",
      "Below is the traceback from this internal error.\n",
      "\n"
     ]
    },
    {
     "name": "stdout",
     "output_type": "stream",
     "text": [
      "An error occured during an HTTP request: HTTP Error 429: Too Many Requests\n",
      "Try to open in browser: https://twitter.com/search?q=coronavirus%20near%3A%22Wyoming%22%20within%3A15mi%20since%3A2020-05-01%20until%3A2020-05-09&src=typd\n",
      "Traceback (most recent call last):\n",
      "  File \"/Users/EderlynT/opt/anaconda3/envs/dsi/lib/python3.7/site-packages/GetOldTweets3/manager/TweetManager.py\", line 343, in getJsonResponse\n",
      "    response = opener.open(url)\n",
      "  File \"/Users/EderlynT/opt/anaconda3/envs/dsi/lib/python3.7/urllib/request.py\", line 531, in open\n",
      "    response = meth(req, response)\n",
      "  File \"/Users/EderlynT/opt/anaconda3/envs/dsi/lib/python3.7/urllib/request.py\", line 641, in http_response\n",
      "    'http', request, response, code, msg, hdrs)\n",
      "  File \"/Users/EderlynT/opt/anaconda3/envs/dsi/lib/python3.7/urllib/request.py\", line 569, in error\n",
      "    return self._call_chain(*args)\n",
      "  File \"/Users/EderlynT/opt/anaconda3/envs/dsi/lib/python3.7/urllib/request.py\", line 503, in _call_chain\n",
      "    result = func(*args)\n",
      "  File \"/Users/EderlynT/opt/anaconda3/envs/dsi/lib/python3.7/urllib/request.py\", line 649, in http_error_default\n",
      "    raise HTTPError(req.full_url, code, msg, hdrs, fp)\n",
      "urllib.error.HTTPError: HTTP Error 429: Too Many Requests\n",
      "\n",
      "During handling of the above exception, another exception occurred:\n",
      "\n",
      "Traceback (most recent call last):\n",
      "  File \"/Users/EderlynT/opt/anaconda3/envs/dsi/lib/python3.7/site-packages/IPython/core/interactiveshell.py\", line 3331, in run_code\n",
      "    exec(code_obj, self.user_global_ns, self.user_ns)\n",
      "  File \"<ipython-input-5-93b00729ebb8>\", line 19, in <module>\n",
      "    tweets = tweets_by_states(state, text_query, since_date, until_date, count)\n",
      "  File \"<ipython-input-2-5209d3ff59a2>\", line 10, in tweets_by_states\n",
      "    tweets = got.manager.TweetManager.getTweets(tweetCriteria)\n",
      "  File \"/Users/EderlynT/opt/anaconda3/envs/dsi/lib/python3.7/site-packages/GetOldTweets3/manager/TweetManager.py\", line 65, in getTweets\n",
      "    json = TweetManager.getJsonResponse(tweetCriteria, refreshCursor, cookieJar, proxy, user_agent, debug=debug)\n",
      "  File \"/Users/EderlynT/opt/anaconda3/envs/dsi/lib/python3.7/site-packages/GetOldTweets3/manager/TweetManager.py\", line 348, in getJsonResponse\n",
      "    sys.exit()\n",
      "SystemExit\n",
      "\n",
      "During handling of the above exception, another exception occurred:\n",
      "\n",
      "Traceback (most recent call last):\n",
      "  File \"/Users/EderlynT/opt/anaconda3/envs/dsi/lib/python3.7/site-packages/IPython/core/ultratb.py\", line 1148, in get_records\n",
      "    return _fixed_getinnerframes(etb, number_of_lines_of_context, tb_offset)\n",
      "  File \"/Users/EderlynT/opt/anaconda3/envs/dsi/lib/python3.7/site-packages/IPython/core/ultratb.py\", line 316, in wrapped\n",
      "    return f(*args, **kwargs)\n",
      "  File \"/Users/EderlynT/opt/anaconda3/envs/dsi/lib/python3.7/site-packages/IPython/core/ultratb.py\", line 350, in _fixed_getinnerframes\n",
      "    records = fix_frame_records_filenames(inspect.getinnerframes(etb, context))\n",
      "  File \"/Users/EderlynT/opt/anaconda3/envs/dsi/lib/python3.7/inspect.py\", line 1502, in getinnerframes\n",
      "    frameinfo = (tb.tb_frame,) + getframeinfo(tb, context)\n",
      "AttributeError: 'tuple' object has no attribute 'tb_frame'\n"
     ]
    },
    {
     "ename": "SystemExit",
     "evalue": "",
     "output_type": "error",
     "traceback": [
      "An exception has occurred, use %tb to see the full traceback.\n",
      "\u001b[0;31m---------------------------------------------------------------------------\u001b[0m",
      "\nDuring handling of the above exception, another exception occurred:\n",
      "\u001b[0;31mSystemExit\u001b[0m\n"
     ]
    },
    {
     "name": "stderr",
     "output_type": "stream",
     "text": [
      "/Users/EderlynT/opt/anaconda3/envs/dsi/lib/python3.7/site-packages/IPython/core/interactiveshell.py:3339: UserWarning: To exit: use 'exit', 'quit', or Ctrl-D.\n",
      "  warn(\"To exit: use 'exit', 'quit', or Ctrl-D.\", stacklevel=1)\n"
     ]
    }
   ],
   "source": [
    "#error shown below, I overloaded the system. It should be fine to run\n",
    "# Creating empty dataframe\n",
    "tweet_df = pd.DataFrame(columns = ['date', 'text', 'state', 'query_term'])\n",
    "\n",
    "# Instantiating counter\n",
    "counter = 0\n",
    "\n",
    "# creating for loop to iterate through states\n",
    "# pull tweets for each state\n",
    "for state in states:\n",
    "    counter += 1\n",
    "    \n",
    "    # parameters of query\n",
    "    text_query = 'coronavirus'\n",
    "    since_date = '2020-05-01'\n",
    "    until_date = '2020-05-09'\n",
    "    count = 0 # get everything\n",
    "    \n",
    "    # pull tweets from twitter\n",
    "    tweets = tweets_by_states(state, text_query, since_date, until_date, count)\n",
    "    # add state name to 'state' column\n",
    "    tweets['state'] = state\n",
    "    # add query term to 'query_term' column\n",
    "    tweets['query_term'] = text_query\n",
    "    \n",
    "    # create dataframe from tweets\n",
    "    tweet_df = tweet_df.append(tweets)\n",
    "#     print(tweet_df)\n",
    "    \n",
    "    # export tweets to csv file\n",
    "    tweet_df.to_csv('../data/coronavirus_until-May_10-byState.csv', index=False)\n",
    "    \n",
    "    print(state, counter)\n",
    "    time.sleep(3)"
   ]
  },
  {
   "cell_type": "code",
   "execution_count": 47,
   "metadata": {},
   "outputs": [],
   "source": [
    "# read in data\n",
    "\n",
    "coronavirus_df = pd.read_csv('../data/coronavirus_until-May_10-byState.csv')"
   ]
  },
  {
   "cell_type": "code",
   "execution_count": 48,
   "metadata": {},
   "outputs": [
    {
     "data": {
      "text/plain": [
       "(8575, 4)"
      ]
     },
     "execution_count": 48,
     "metadata": {},
     "output_type": "execute_result"
    }
   ],
   "source": [
    "coronavirus_df.shape"
   ]
  },
  {
   "cell_type": "code",
   "execution_count": null,
   "metadata": {},
   "outputs": [],
   "source": []
  }
 ],
 "metadata": {
  "kernelspec": {
   "display_name": "Python 3",
   "language": "python",
   "name": "python3"
  },
  "language_info": {
   "codemirror_mode": {
    "name": "ipython",
    "version": 3
   },
   "file_extension": ".py",
   "mimetype": "text/x-python",
   "name": "python",
   "nbconvert_exporter": "python",
   "pygments_lexer": "ipython3",
   "version": "3.7.6"
  }
 },
 "nbformat": 4,
 "nbformat_minor": 4
}
