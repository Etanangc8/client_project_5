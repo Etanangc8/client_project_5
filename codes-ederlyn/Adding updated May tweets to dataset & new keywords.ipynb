{
 "cells": [
  {
   "cell_type": "code",
   "execution_count": 2,
   "metadata": {},
   "outputs": [],
   "source": [
    "import pandas as pd\n",
    "import numpy as np"
   ]
  },
  {
   "cell_type": "code",
   "execution_count": 3,
   "metadata": {},
   "outputs": [],
   "source": [
    "tweets = pd.read_csv('../cleandata/tweets_noDuplicates.csv')"
   ]
  },
  {
   "cell_type": "code",
   "execution_count": 4,
   "metadata": {},
   "outputs": [
    {
     "data": {
      "text/html": [
       "<div>\n",
       "<style scoped>\n",
       "    .dataframe tbody tr th:only-of-type {\n",
       "        vertical-align: middle;\n",
       "    }\n",
       "\n",
       "    .dataframe tbody tr th {\n",
       "        vertical-align: top;\n",
       "    }\n",
       "\n",
       "    .dataframe thead th {\n",
       "        text-align: right;\n",
       "    }\n",
       "</style>\n",
       "<table border=\"1\" class=\"dataframe\">\n",
       "  <thead>\n",
       "    <tr style=\"text-align: right;\">\n",
       "      <th></th>\n",
       "      <th>date</th>\n",
       "      <th>text</th>\n",
       "      <th>state</th>\n",
       "      <th>query_term</th>\n",
       "    </tr>\n",
       "  </thead>\n",
       "  <tbody>\n",
       "    <tr>\n",
       "      <th>0</th>\n",
       "      <td>2020-04-24 21:59:42+00:00</td>\n",
       "      <td>The economy will collapse in the long term if ...</td>\n",
       "      <td>DC</td>\n",
       "      <td>business closures</td>\n",
       "    </tr>\n",
       "    <tr>\n",
       "      <th>1</th>\n",
       "      <td>2020-04-23 21:28:12+00:00</td>\n",
       "      <td>Classic counsel on cover letters! Covid-19 and...</td>\n",
       "      <td>DC</td>\n",
       "      <td>business closures</td>\n",
       "    </tr>\n",
       "    <tr>\n",
       "      <th>2</th>\n",
       "      <td>2020-04-17 01:01:43+00:00</td>\n",
       "      <td>I'm guessing that would violate the mayor's no...</td>\n",
       "      <td>DC</td>\n",
       "      <td>business closures</td>\n",
       "    </tr>\n",
       "    <tr>\n",
       "      <th>3</th>\n",
       "      <td>2020-04-16 18:19:35+00:00</td>\n",
       "      <td>Ok, why did this take so long...and yet mandat...</td>\n",
       "      <td>DC</td>\n",
       "      <td>business closures</td>\n",
       "    </tr>\n",
       "    <tr>\n",
       "      <th>4</th>\n",
       "      <td>2020-04-16 01:53:41+00:00</td>\n",
       "      <td>Explain exactly how government-forced business...</td>\n",
       "      <td>DC</td>\n",
       "      <td>business closures</td>\n",
       "    </tr>\n",
       "  </tbody>\n",
       "</table>\n",
       "</div>"
      ],
      "text/plain": [
       "                        date  \\\n",
       "0  2020-04-24 21:59:42+00:00   \n",
       "1  2020-04-23 21:28:12+00:00   \n",
       "2  2020-04-17 01:01:43+00:00   \n",
       "3  2020-04-16 18:19:35+00:00   \n",
       "4  2020-04-16 01:53:41+00:00   \n",
       "\n",
       "                                                text state         query_term  \n",
       "0  The economy will collapse in the long term if ...    DC  business closures  \n",
       "1  Classic counsel on cover letters! Covid-19 and...    DC  business closures  \n",
       "2  I'm guessing that would violate the mayor's no...    DC  business closures  \n",
       "3  Ok, why did this take so long...and yet mandat...    DC  business closures  \n",
       "4  Explain exactly how government-forced business...    DC  business closures  "
      ]
     },
     "execution_count": 4,
     "metadata": {},
     "output_type": "execute_result"
    }
   ],
   "source": [
    "tweets.head()"
   ]
  },
  {
   "cell_type": "code",
   "execution_count": 5,
   "metadata": {},
   "outputs": [],
   "source": [
    "df1 = pd.read_csv('../data/busi_clo_May-byState.csv')\n",
    "\n",
    "df2 = pd.read_csv('../data/coronavirus_May-byState.csv')\n",
    "\n",
    "df3 = pd.read_csv('../data/covid_May-byState.csv')\n",
    "\n",
    "df4 = pd.read_csv('../data/man_quar_May-byState.csv')\n",
    "\n",
    "df5 = pd.read_csv('../data/sch_clo_until-May-byState.csv')\n",
    "\n",
    "df6 = pd.read_csv('../data/shel_in_pl_May-byState.csv')"
   ]
  },
  {
   "cell_type": "code",
   "execution_count": 6,
   "metadata": {},
   "outputs": [],
   "source": [
    "new_tweets_noDuplicates = pd.concat([tweets, df1, df2, df3, df4, df5, df6], axis=0)\n"
   ]
  },
  {
   "cell_type": "code",
   "execution_count": 7,
   "metadata": {},
   "outputs": [
    {
     "data": {
      "text/html": [
       "<div>\n",
       "<style scoped>\n",
       "    .dataframe tbody tr th:only-of-type {\n",
       "        vertical-align: middle;\n",
       "    }\n",
       "\n",
       "    .dataframe tbody tr th {\n",
       "        vertical-align: top;\n",
       "    }\n",
       "\n",
       "    .dataframe thead th {\n",
       "        text-align: right;\n",
       "    }\n",
       "</style>\n",
       "<table border=\"1\" class=\"dataframe\">\n",
       "  <thead>\n",
       "    <tr style=\"text-align: right;\">\n",
       "      <th></th>\n",
       "      <th>date</th>\n",
       "      <th>text</th>\n",
       "      <th>state</th>\n",
       "      <th>query_term</th>\n",
       "    </tr>\n",
       "  </thead>\n",
       "  <tbody>\n",
       "    <tr>\n",
       "      <th>0</th>\n",
       "      <td>2020-04-24 21:59:42+00:00</td>\n",
       "      <td>The economy will collapse in the long term if ...</td>\n",
       "      <td>DC</td>\n",
       "      <td>business closures</td>\n",
       "    </tr>\n",
       "    <tr>\n",
       "      <th>1</th>\n",
       "      <td>2020-04-23 21:28:12+00:00</td>\n",
       "      <td>Classic counsel on cover letters! Covid-19 and...</td>\n",
       "      <td>DC</td>\n",
       "      <td>business closures</td>\n",
       "    </tr>\n",
       "    <tr>\n",
       "      <th>2</th>\n",
       "      <td>2020-04-17 01:01:43+00:00</td>\n",
       "      <td>I'm guessing that would violate the mayor's no...</td>\n",
       "      <td>DC</td>\n",
       "      <td>business closures</td>\n",
       "    </tr>\n",
       "    <tr>\n",
       "      <th>3</th>\n",
       "      <td>2020-04-16 18:19:35+00:00</td>\n",
       "      <td>Ok, why did this take so long...and yet mandat...</td>\n",
       "      <td>DC</td>\n",
       "      <td>business closures</td>\n",
       "    </tr>\n",
       "    <tr>\n",
       "      <th>4</th>\n",
       "      <td>2020-04-16 01:53:41+00:00</td>\n",
       "      <td>Explain exactly how government-forced business...</td>\n",
       "      <td>DC</td>\n",
       "      <td>business closures</td>\n",
       "    </tr>\n",
       "  </tbody>\n",
       "</table>\n",
       "</div>"
      ],
      "text/plain": [
       "                        date  \\\n",
       "0  2020-04-24 21:59:42+00:00   \n",
       "1  2020-04-23 21:28:12+00:00   \n",
       "2  2020-04-17 01:01:43+00:00   \n",
       "3  2020-04-16 18:19:35+00:00   \n",
       "4  2020-04-16 01:53:41+00:00   \n",
       "\n",
       "                                                text state         query_term  \n",
       "0  The economy will collapse in the long term if ...    DC  business closures  \n",
       "1  Classic counsel on cover letters! Covid-19 and...    DC  business closures  \n",
       "2  I'm guessing that would violate the mayor's no...    DC  business closures  \n",
       "3  Ok, why did this take so long...and yet mandat...    DC  business closures  \n",
       "4  Explain exactly how government-forced business...    DC  business closures  "
      ]
     },
     "execution_count": 7,
     "metadata": {},
     "output_type": "execute_result"
    }
   ],
   "source": [
    "new_tweets_noDuplicates.head()"
   ]
  },
  {
   "cell_type": "code",
   "execution_count": 8,
   "metadata": {},
   "outputs": [
    {
     "data": {
      "text/plain": [
       "(66319, 4)"
      ]
     },
     "execution_count": 8,
     "metadata": {},
     "output_type": "execute_result"
    }
   ],
   "source": [
    "new_tweets_noDuplicates.shape"
   ]
  },
  {
   "cell_type": "code",
   "execution_count": 9,
   "metadata": {},
   "outputs": [
    {
     "data": {
      "text/html": [
       "<div>\n",
       "<style scoped>\n",
       "    .dataframe tbody tr th:only-of-type {\n",
       "        vertical-align: middle;\n",
       "    }\n",
       "\n",
       "    .dataframe tbody tr th {\n",
       "        vertical-align: top;\n",
       "    }\n",
       "\n",
       "    .dataframe thead th {\n",
       "        text-align: right;\n",
       "    }\n",
       "</style>\n",
       "<table border=\"1\" class=\"dataframe\">\n",
       "  <thead>\n",
       "    <tr style=\"text-align: right;\">\n",
       "      <th></th>\n",
       "      <th>date</th>\n",
       "      <th>text</th>\n",
       "      <th>state</th>\n",
       "      <th>query_term</th>\n",
       "    </tr>\n",
       "  </thead>\n",
       "  <tbody>\n",
       "    <tr>\n",
       "      <th>0</th>\n",
       "      <td>2020-05-05 18:16:08+00:00</td>\n",
       "      <td>Don Jr. tweets: \"It’s long past due for states...</td>\n",
       "      <td>Alabama</td>\n",
       "      <td>business closures</td>\n",
       "    </tr>\n",
       "    <tr>\n",
       "      <th>1</th>\n",
       "      <td>2020-05-03 14:14:12+00:00</td>\n",
       "      <td>“I don’t want there to be a big outbreak and a...</td>\n",
       "      <td>Alabama</td>\n",
       "      <td>business closures</td>\n",
       "    </tr>\n",
       "    <tr>\n",
       "      <th>2</th>\n",
       "      <td>2020-05-05 21:37:33+00:00</td>\n",
       "      <td>People complaining about stay-at-home orders a...</td>\n",
       "      <td>Arizona</td>\n",
       "      <td>business closures</td>\n",
       "    </tr>\n",
       "    <tr>\n",
       "      <th>3</th>\n",
       "      <td>2020-05-04 16:13:47+00:00</td>\n",
       "      <td>But two Arizona sheriff's have announced they ...</td>\n",
       "      <td>Arizona</td>\n",
       "      <td>business closures</td>\n",
       "    </tr>\n",
       "    <tr>\n",
       "      <th>7</th>\n",
       "      <td>2020-05-08 01:47:25+00:00</td>\n",
       "      <td>Sad, B-L (@BarbaraLeeNews8 ). Loved that place...</td>\n",
       "      <td>California</td>\n",
       "      <td>business closures</td>\n",
       "    </tr>\n",
       "    <tr>\n",
       "      <th>...</th>\n",
       "      <td>...</td>\n",
       "      <td>...</td>\n",
       "      <td>...</td>\n",
       "      <td>...</td>\n",
       "    </tr>\n",
       "    <tr>\n",
       "      <th>330</th>\n",
       "      <td>2020-05-04 03:22:21+00:00</td>\n",
       "      <td>#coronavirus Mandate #VaccinesWork #ShelterInP...</td>\n",
       "      <td>Washington</td>\n",
       "      <td>shelterinplace</td>\n",
       "    </tr>\n",
       "    <tr>\n",
       "      <th>331</th>\n",
       "      <td>2020-05-03 19:00:32+00:00</td>\n",
       "      <td>New Podcast! \"Saturday Kick Back\" on @Spreake...</td>\n",
       "      <td>Washington</td>\n",
       "      <td>shelterinplace</td>\n",
       "    </tr>\n",
       "    <tr>\n",
       "      <th>332</th>\n",
       "      <td>2020-05-03 13:58:33+00:00</td>\n",
       "      <td>#Tired of #ShelterInPlace or #SocialDistancing...</td>\n",
       "      <td>Washington</td>\n",
       "      <td>shelterinplace</td>\n",
       "    </tr>\n",
       "    <tr>\n",
       "      <th>333</th>\n",
       "      <td>2020-05-01 22:52:22+00:00</td>\n",
       "      <td>For all my friends &amp; relatives in high risk ca...</td>\n",
       "      <td>Washington</td>\n",
       "      <td>shelterinplace</td>\n",
       "    </tr>\n",
       "    <tr>\n",
       "      <th>334</th>\n",
       "      <td>2020-05-01 19:54:38+00:00</td>\n",
       "      <td>I have some #GoodOmens30 for you! #WashYourHan...</td>\n",
       "      <td>Washington</td>\n",
       "      <td>shelterinplace</td>\n",
       "    </tr>\n",
       "  </tbody>\n",
       "</table>\n",
       "<p>7568 rows × 4 columns</p>\n",
       "</div>"
      ],
      "text/plain": [
       "                          date  \\\n",
       "0    2020-05-05 18:16:08+00:00   \n",
       "1    2020-05-03 14:14:12+00:00   \n",
       "2    2020-05-05 21:37:33+00:00   \n",
       "3    2020-05-04 16:13:47+00:00   \n",
       "7    2020-05-08 01:47:25+00:00   \n",
       "..                         ...   \n",
       "330  2020-05-04 03:22:21+00:00   \n",
       "331  2020-05-03 19:00:32+00:00   \n",
       "332  2020-05-03 13:58:33+00:00   \n",
       "333  2020-05-01 22:52:22+00:00   \n",
       "334  2020-05-01 19:54:38+00:00   \n",
       "\n",
       "                                                  text       state  \\\n",
       "0    Don Jr. tweets: \"It’s long past due for states...     Alabama   \n",
       "1    “I don’t want there to be a big outbreak and a...     Alabama   \n",
       "2    People complaining about stay-at-home orders a...     Arizona   \n",
       "3    But two Arizona sheriff's have announced they ...     Arizona   \n",
       "7    Sad, B-L (@BarbaraLeeNews8 ). Loved that place...  California   \n",
       "..                                                 ...         ...   \n",
       "330  #coronavirus Mandate #VaccinesWork #ShelterInP...  Washington   \n",
       "331   New Podcast! \"Saturday Kick Back\" on @Spreake...  Washington   \n",
       "332  #Tired of #ShelterInPlace or #SocialDistancing...  Washington   \n",
       "333  For all my friends & relatives in high risk ca...  Washington   \n",
       "334  I have some #GoodOmens30 for you! #WashYourHan...  Washington   \n",
       "\n",
       "            query_term  \n",
       "0    business closures  \n",
       "1    business closures  \n",
       "2    business closures  \n",
       "3    business closures  \n",
       "7    business closures  \n",
       "..                 ...  \n",
       "330     shelterinplace  \n",
       "331     shelterinplace  \n",
       "332     shelterinplace  \n",
       "333     shelterinplace  \n",
       "334     shelterinplace  \n",
       "\n",
       "[7568 rows x 4 columns]"
      ]
     },
     "execution_count": 9,
     "metadata": {},
     "output_type": "execute_result"
    }
   ],
   "source": [
    "new_tweets_noDuplicates[new_tweets_noDuplicates['text'].duplicated() == True]\n"
   ]
  },
  {
   "cell_type": "code",
   "execution_count": 10,
   "metadata": {},
   "outputs": [],
   "source": [
    "#Read in Self-Quarantine data\n",
    "df7 = pd.read_csv('../data/selfquarantine_Mar-byState.csv')\n",
    "\n",
    "df8 = pd.read_csv('../data/selfquarantine_April-byState.csv')\n",
    "\n",
    "df9 = pd.read_csv('../data/selfquarantine_May-byState.csv')"
   ]
  },
  {
   "cell_type": "code",
   "execution_count": 11,
   "metadata": {},
   "outputs": [],
   "source": [
    "new_tweets_cln = pd.concat([new_tweets_noDuplicates, df7, df8, df9], axis=0)\n"
   ]
  },
  {
   "cell_type": "code",
   "execution_count": 12,
   "metadata": {},
   "outputs": [
    {
     "data": {
      "text/html": [
       "<div>\n",
       "<style scoped>\n",
       "    .dataframe tbody tr th:only-of-type {\n",
       "        vertical-align: middle;\n",
       "    }\n",
       "\n",
       "    .dataframe tbody tr th {\n",
       "        vertical-align: top;\n",
       "    }\n",
       "\n",
       "    .dataframe thead th {\n",
       "        text-align: right;\n",
       "    }\n",
       "</style>\n",
       "<table border=\"1\" class=\"dataframe\">\n",
       "  <thead>\n",
       "    <tr style=\"text-align: right;\">\n",
       "      <th></th>\n",
       "      <th>date</th>\n",
       "      <th>text</th>\n",
       "      <th>state</th>\n",
       "      <th>query_term</th>\n",
       "    </tr>\n",
       "  </thead>\n",
       "  <tbody>\n",
       "    <tr>\n",
       "      <th>0</th>\n",
       "      <td>2020-04-24 21:59:42+00:00</td>\n",
       "      <td>The economy will collapse in the long term if ...</td>\n",
       "      <td>DC</td>\n",
       "      <td>business closures</td>\n",
       "    </tr>\n",
       "    <tr>\n",
       "      <th>1</th>\n",
       "      <td>2020-04-23 21:28:12+00:00</td>\n",
       "      <td>Classic counsel on cover letters! Covid-19 and...</td>\n",
       "      <td>DC</td>\n",
       "      <td>business closures</td>\n",
       "    </tr>\n",
       "    <tr>\n",
       "      <th>2</th>\n",
       "      <td>2020-04-17 01:01:43+00:00</td>\n",
       "      <td>I'm guessing that would violate the mayor's no...</td>\n",
       "      <td>DC</td>\n",
       "      <td>business closures</td>\n",
       "    </tr>\n",
       "    <tr>\n",
       "      <th>3</th>\n",
       "      <td>2020-04-16 18:19:35+00:00</td>\n",
       "      <td>Ok, why did this take so long...and yet mandat...</td>\n",
       "      <td>DC</td>\n",
       "      <td>business closures</td>\n",
       "    </tr>\n",
       "    <tr>\n",
       "      <th>4</th>\n",
       "      <td>2020-04-16 01:53:41+00:00</td>\n",
       "      <td>Explain exactly how government-forced business...</td>\n",
       "      <td>DC</td>\n",
       "      <td>business closures</td>\n",
       "    </tr>\n",
       "  </tbody>\n",
       "</table>\n",
       "</div>"
      ],
      "text/plain": [
       "                        date  \\\n",
       "0  2020-04-24 21:59:42+00:00   \n",
       "1  2020-04-23 21:28:12+00:00   \n",
       "2  2020-04-17 01:01:43+00:00   \n",
       "3  2020-04-16 18:19:35+00:00   \n",
       "4  2020-04-16 01:53:41+00:00   \n",
       "\n",
       "                                                text state         query_term  \n",
       "0  The economy will collapse in the long term if ...    DC  business closures  \n",
       "1  Classic counsel on cover letters! Covid-19 and...    DC  business closures  \n",
       "2  I'm guessing that would violate the mayor's no...    DC  business closures  \n",
       "3  Ok, why did this take so long...and yet mandat...    DC  business closures  \n",
       "4  Explain exactly how government-forced business...    DC  business closures  "
      ]
     },
     "execution_count": 12,
     "metadata": {},
     "output_type": "execute_result"
    }
   ],
   "source": [
    "new_tweets_cln.head()"
   ]
  },
  {
   "cell_type": "code",
   "execution_count": 13,
   "metadata": {},
   "outputs": [
    {
     "data": {
      "text/plain": [
       "(68652, 4)"
      ]
     },
     "execution_count": 13,
     "metadata": {},
     "output_type": "execute_result"
    }
   ],
   "source": [
    "new_tweets_cln.shape"
   ]
  },
  {
   "cell_type": "code",
   "execution_count": 14,
   "metadata": {},
   "outputs": [],
   "source": [
    "new_tweets_cln = new_tweets_cln.drop_duplicates(subset=\"text\")\n"
   ]
  },
  {
   "cell_type": "code",
   "execution_count": 15,
   "metadata": {},
   "outputs": [
    {
     "data": {
      "text/plain": [
       "(59931, 4)"
      ]
     },
     "execution_count": 15,
     "metadata": {},
     "output_type": "execute_result"
    }
   ],
   "source": [
    "new_tweets_cln.shape"
   ]
  },
  {
   "cell_type": "code",
   "execution_count": 18,
   "metadata": {},
   "outputs": [
    {
     "data": {
      "text/plain": [
       "date          0\n",
       "text          1\n",
       "state         0\n",
       "query_term    0\n",
       "dtype: int64"
      ]
     },
     "execution_count": 18,
     "metadata": {},
     "output_type": "execute_result"
    }
   ],
   "source": [
    "new_tweets_cln.isnull().sum()"
   ]
  },
  {
   "cell_type": "code",
   "execution_count": 19,
   "metadata": {},
   "outputs": [],
   "source": [
    "new_tweets_cln = new_tweets_cln.dropna(axis=0)"
   ]
  },
  {
   "cell_type": "code",
   "execution_count": 22,
   "metadata": {},
   "outputs": [
    {
     "data": {
      "text/plain": [
       "date          0\n",
       "text          0\n",
       "state         0\n",
       "query_term    0\n",
       "dtype: int64"
      ]
     },
     "execution_count": 22,
     "metadata": {},
     "output_type": "execute_result"
    }
   ],
   "source": [
    "new_tweets_cln.isnull().sum()"
   ]
  },
  {
   "cell_type": "code",
   "execution_count": 23,
   "metadata": {},
   "outputs": [
    {
     "data": {
      "text/plain": [
       "(59930, 4)"
      ]
     },
     "execution_count": 23,
     "metadata": {},
     "output_type": "execute_result"
    }
   ],
   "source": [
    "new_tweets_cln.shape"
   ]
  },
  {
   "cell_type": "code",
   "execution_count": 21,
   "metadata": {},
   "outputs": [],
   "source": [
    "new_tweets_cln.to_csv('../cleandata/new_tweets_noDuplicates.csv')\n"
   ]
  },
  {
   "cell_type": "code",
   "execution_count": null,
   "metadata": {},
   "outputs": [],
   "source": []
  }
 ],
 "metadata": {
  "kernelspec": {
   "display_name": "Python 3",
   "language": "python",
   "name": "python3"
  },
  "language_info": {
   "codemirror_mode": {
    "name": "ipython",
    "version": 3
   },
   "file_extension": ".py",
   "mimetype": "text/x-python",
   "name": "python",
   "nbconvert_exporter": "python",
   "pygments_lexer": "ipython3",
   "version": "3.7.6"
  }
 },
 "nbformat": 4,
 "nbformat_minor": 4
}
